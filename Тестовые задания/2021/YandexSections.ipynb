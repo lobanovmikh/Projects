{
 "cells": [
  {
   "cell_type": "markdown",
   "id": "a633707e",
   "metadata": {},
   "source": [
    "## Маркет. Аналитическая секция"
   ]
  },
  {
   "cell_type": "markdown",
   "id": "e20abe48",
   "metadata": {},
   "source": [
    "1. Площадь равностороннего треугольника\n",
    "2. Мода-среднее-медиана в скошенном влево распределении\n",
    "3. Как оценить эффективность бизнеса? (метрики и подходы)\n",
    "4. Описать методику планирования и проведения AB-теста\n",
    "5. Реализовать алгоритм поиска медианы в списке (ручкой)"
   ]
  },
  {
   "cell_type": "markdown",
   "id": "a8a9479a",
   "metadata": {},
   "source": [
    "## Яндекс\n",
    "### Вводная секция (задача на программирование)"
   ]
  },
  {
   "cell_type": "markdown",
   "id": "c8293010",
   "metadata": {},
   "source": [
    "Cервис Яндекс.Толока, юзеры выполняют задачи за деньги, отвечая на вопросы, есть json данных со столбцами task_id, список ответов юзеров, список айди юзеров этих ответов и второй файл, где строка это юзер-его ответы + правильные ответы, и ответы без наличия правильных."
   ]
  },
  {
   "cell_type": "code",
   "execution_count": 31,
   "id": "d78e922c",
   "metadata": {},
   "outputs": [
    {
     "data": {
      "text/html": [
       "<div>\n",
       "<style scoped>\n",
       "    .dataframe tbody tr th:only-of-type {\n",
       "        vertical-align: middle;\n",
       "    }\n",
       "\n",
       "    .dataframe tbody tr th {\n",
       "        vertical-align: top;\n",
       "    }\n",
       "\n",
       "    .dataframe thead th {\n",
       "        text-align: right;\n",
       "    }\n",
       "</style>\n",
       "<table border=\"1\" class=\"dataframe\">\n",
       "  <thead>\n",
       "    <tr style=\"text-align: right;\">\n",
       "      <th></th>\n",
       "      <th>task_id</th>\n",
       "      <th>answers</th>\n",
       "      <th>player_ids</th>\n",
       "      <th>score</th>\n",
       "    </tr>\n",
       "  </thead>\n",
       "  <tbody>\n",
       "    <tr>\n",
       "      <th>0</th>\n",
       "      <td>1</td>\n",
       "      <td>[1, 1, 2, 1]</td>\n",
       "      <td>[1, 2, 3, 4]</td>\n",
       "      <td>1</td>\n",
       "    </tr>\n",
       "    <tr>\n",
       "      <th>1</th>\n",
       "      <td>2</td>\n",
       "      <td>[2, 2, 1, 1]</td>\n",
       "      <td>[1, 2, 3, 4]</td>\n",
       "      <td>2</td>\n",
       "    </tr>\n",
       "    <tr>\n",
       "      <th>2</th>\n",
       "      <td>3</td>\n",
       "      <td>[1, 2, error, error]</td>\n",
       "      <td>[1, 2, 3, 4]</td>\n",
       "      <td>error</td>\n",
       "    </tr>\n",
       "    <tr>\n",
       "      <th>3</th>\n",
       "      <td>4</td>\n",
       "      <td>[2, 2, 2, 1]</td>\n",
       "      <td>[1, 2, 3, 4]</td>\n",
       "      <td>2</td>\n",
       "    </tr>\n",
       "  </tbody>\n",
       "</table>\n",
       "</div>"
      ],
      "text/plain": [
       "   task_id               answers    player_ids  score\n",
       "0        1          [1, 1, 2, 1]  [1, 2, 3, 4]      1\n",
       "1        2          [2, 2, 1, 1]  [1, 2, 3, 4]      2\n",
       "2        3  [1, 2, error, error]  [1, 2, 3, 4]  error\n",
       "3        4          [2, 2, 2, 1]  [1, 2, 3, 4]      2"
      ]
     },
     "execution_count": 31,
     "metadata": {},
     "output_type": "execute_result"
    }
   ],
   "source": [
    "# Реализовать алгоритмы оценки таски методом большинства (т.е. самый популярный ответ)\n",
    "\n",
    "import pandas as pd\n",
    "\n",
    "sdf = pd.DataFrame({'task_id': [1, 2, 3, 4], 'answers': [[1, 1, 2, 1], [2, 2, 1, 1], [1, 2, 'error', 'error'], [2, 2, 2, 1]],\n",
    "                   'player_ids': [[1, 2, 3, 4], [1, 2, 3, 4], [1, 2, 3 ,4], [1, 2, 3, 4]]})\n",
    "\n",
    "sdf['score'] = sdf['answers'].apply(lambda x: pd.Series(x).value_counts().index[0])\n",
    "\n",
    "sdf"
   ]
  },
  {
   "cell_type": "code",
   "execution_count": 32,
   "id": "c0384ae3",
   "metadata": {},
   "outputs": [
    {
     "data": {
      "text/html": [
       "<div>\n",
       "<style scoped>\n",
       "    .dataframe tbody tr th:only-of-type {\n",
       "        vertical-align: middle;\n",
       "    }\n",
       "\n",
       "    .dataframe tbody tr th {\n",
       "        vertical-align: top;\n",
       "    }\n",
       "\n",
       "    .dataframe thead th {\n",
       "        text-align: right;\n",
       "    }\n",
       "</style>\n",
       "<table border=\"1\" class=\"dataframe\">\n",
       "  <thead>\n",
       "    <tr style=\"text-align: right;\">\n",
       "      <th></th>\n",
       "      <th>player</th>\n",
       "      <th>player_ans</th>\n",
       "      <th>correct_ans</th>\n",
       "    </tr>\n",
       "  </thead>\n",
       "  <tbody>\n",
       "    <tr>\n",
       "      <th>0</th>\n",
       "      <td>1</td>\n",
       "      <td>[1, 1, 2]</td>\n",
       "      <td>[1, 2, 1]</td>\n",
       "    </tr>\n",
       "    <tr>\n",
       "      <th>1</th>\n",
       "      <td>2</td>\n",
       "      <td>[2, 2, 1]</td>\n",
       "      <td>[2, 1, 1]</td>\n",
       "    </tr>\n",
       "  </tbody>\n",
       "</table>\n",
       "</div>"
      ],
      "text/plain": [
       "   player player_ans correct_ans\n",
       "0       1  [1, 1, 2]   [1, 2, 1]\n",
       "1       2  [2, 2, 1]   [2, 1, 1]"
      ]
     },
     "execution_count": 32,
     "metadata": {},
     "output_type": "execute_result"
    }
   ],
   "source": [
    "# Предложить методику улучшения оценки из п.1 (id игрока меняется на его долю правильных ответов и умножается на ответ из п.1 (вес))\n",
    "\n",
    "df = pd.DataFrame({'player': [1, 2], 'player_ans': [[1, 1, 2], [2, 2, 1]], 'correct_ans': [[1, 2, 1], [2, 1, 1]]})\n",
    "\n",
    "df"
   ]
  },
  {
   "cell_type": "code",
   "execution_count": 33,
   "id": "072b8bd4",
   "metadata": {},
   "outputs": [
    {
     "data": {
      "text/html": [
       "<div>\n",
       "<style scoped>\n",
       "    .dataframe tbody tr th:only-of-type {\n",
       "        vertical-align: middle;\n",
       "    }\n",
       "\n",
       "    .dataframe tbody tr th {\n",
       "        vertical-align: top;\n",
       "    }\n",
       "\n",
       "    .dataframe thead th {\n",
       "        text-align: right;\n",
       "    }\n",
       "</style>\n",
       "<table border=\"1\" class=\"dataframe\">\n",
       "  <thead>\n",
       "    <tr style=\"text-align: right;\">\n",
       "      <th></th>\n",
       "      <th>player</th>\n",
       "      <th>player_ans</th>\n",
       "      <th>correct_ans</th>\n",
       "      <th>scores</th>\n",
       "    </tr>\n",
       "  </thead>\n",
       "  <tbody>\n",
       "    <tr>\n",
       "      <th>0</th>\n",
       "      <td>1</td>\n",
       "      <td>[1, 1, 2]</td>\n",
       "      <td>[1, 2, 1]</td>\n",
       "      <td>0.333333</td>\n",
       "    </tr>\n",
       "    <tr>\n",
       "      <th>1</th>\n",
       "      <td>2</td>\n",
       "      <td>[2, 2, 1]</td>\n",
       "      <td>[2, 1, 1]</td>\n",
       "      <td>0.666667</td>\n",
       "    </tr>\n",
       "  </tbody>\n",
       "</table>\n",
       "</div>"
      ],
      "text/plain": [
       "   player player_ans correct_ans    scores\n",
       "0       1  [1, 1, 2]   [1, 2, 1]  0.333333\n",
       "1       2  [2, 2, 1]   [2, 1, 1]  0.666667"
      ]
     },
     "execution_count": 33,
     "metadata": {},
     "output_type": "execute_result"
    }
   ],
   "source": [
    "scores = []\n",
    "\n",
    "for user in df.player.unique():\n",
    "    counter = 0\n",
    "    temp_df = df[df['player'] == user]\n",
    "    for x, y in zip(temp_df['player_ans'].values[0], temp_df['correct_ans'].values[0]):\n",
    "        if(x==y):\n",
    "            counter += 1\n",
    "    scores.append(counter/len(temp_df['correct_ans'].values[0]))\n",
    "    \n",
    "df['scores'] = scores\n",
    "df"
   ]
  },
  {
   "cell_type": "markdown",
   "id": "ee4ab62a",
   "metadata": {},
   "source": [
    "### Аналитика + МатСтат"
   ]
  },
  {
   "cell_type": "markdown",
   "id": "05ebe9b6",
   "metadata": {},
   "source": [
    "1. В категории товаров есть 4 подкатегории (500, 10000, 50000, 100000), средний чек каждой из четырех подкатегорий вырос, общий средний чек по категории упал, как такое возможно и возможно ли это?\n",
    "2. Условная вероятность болезни при положительном тесте\n",
    "3. 2 независимых теста положительны, вычислить вероятность болезни при таких 2х тестах\n",
    "4. В магазине есть счетчик посетителей, который работал какое-то время, владелец купил новый счетчик и сказал понять его эффективность, как это сделать?\n",
    "5. Васе и Пете было дано задание на сегодня замерять пользователей, на сайте, один замерил 5 млн, другой 7 млн, кто из них прав?\n",
    "6. 1% пользователей пользуются картами, приходит менеджер и говорит, что нужно убирать эту фичу, слишком мало людей пользуется, согласитесь ли в с ним? почему?"
   ]
  },
  {
   "cell_type": "markdown",
   "id": "516fb20a",
   "metadata": {},
   "source": [
    "### Алгоритмы"
   ]
  },
  {
   "cell_type": "markdown",
   "id": "caba9a6e",
   "metadata": {},
   "source": [
    "Найти максимальное количество подряд идущих единиц при удалении 1-го элемента"
   ]
  },
  {
   "cell_type": "code",
   "execution_count": 6,
   "id": "08162e47",
   "metadata": {},
   "outputs": [],
   "source": [
    "# [1, 0, 1, 0, 0, 1, 0, 1, 1] -> 3\n",
    "\n",
    "# Базовая сложность - n^2\n",
    "\n",
    "# 11110....111101111....011111\n",
    "\n",
    "def max_ones(numbers):\n",
    "    numbers2 = numbers.copy()\n",
    "    our_zeros = []\n",
    "    for i in range(len(numbers)):\n",
    "        if(numbers[i-1]==1) and (numbers[i+1]==1):\n",
    "            our_zeros.append(i)\n",
    "    cnt = 0\n",
    "    best = 0\n",
    "    for i in our_zeros:\n",
    "        temp_numbers = numbers2\n",
    "        del(temp_numbers[i])\n",
    "        for i in temp_numbers:\n",
    "            if i == 1:\n",
    "                cnt += 1\n",
    "            else:\n",
    "                if cnt > best:\n",
    "                    best = cnt\n",
    "                    cnt = 0\n",
    "        if cnt > best:\n",
    "            best = cnt\n",
    "        return best\n",
    "    "
   ]
  }
 ],
 "metadata": {
  "kernelspec": {
   "display_name": "Python 3 (ipykernel)",
   "language": "python",
   "name": "python3"
  },
  "language_info": {
   "codemirror_mode": {
    "name": "ipython",
    "version": 3
   },
   "file_extension": ".py",
   "mimetype": "text/x-python",
   "name": "python",
   "nbconvert_exporter": "python",
   "pygments_lexer": "ipython3",
   "version": "3.7.4"
  }
 },
 "nbformat": 4,
 "nbformat_minor": 5
}
