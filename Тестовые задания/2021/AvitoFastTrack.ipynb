{
 "cells": [
  {
   "cell_type": "code",
   "execution_count": 11,
   "id": "6a50e044",
   "metadata": {},
   "outputs": [],
   "source": [
    "import pandas as pd\n",
    "import numpy as np"
   ]
  },
  {
   "cell_type": "markdown",
   "id": "b07913ac",
   "metadata": {},
   "source": [
    "Предположим, что некая компания решила внедрить новый платный продукт. Случайным образом выбрала пользователей для теста. В итоге продуктом воспользовались 1000 человек, ниже представлены их средние чеки.\n",
    "\n",
    "Менеджер попросил оценить медианный средний чек по данному продукту, как если бы продукт был доступен всем пользователям. Для этого постройте 95% доверительный интервал.\n",
    "\n",
    "В ответе укажите два числа (нижнюю и верхнюю границы доверительного интервала), округленные до десятков, написанных без пробелов и без запятых (слитно, одним числом).\n",
    "Первой укажите нижнюю границу.\n",
    "Например, если ваш ответ 50 и 90, то в ответ запишите 5090."
   ]
  },
  {
   "cell_type": "code",
   "execution_count": 9,
   "id": "3847e7ea",
   "metadata": {},
   "outputs": [],
   "source": [
    "bills = pd.read_csv('bills.csv')['0']"
   ]
  },
  {
   "cell_type": "code",
   "execution_count": 24,
   "id": "b843d1ff",
   "metadata": {},
   "outputs": [
    {
     "name": "stdout",
     "output_type": "stream",
     "text": [
      "200.0 240.0\n"
     ]
    }
   ],
   "source": [
    "boot_len = len(bills)\n",
    "boot_data = []\n",
    "\n",
    "for i in range(10000): \n",
    "    sample = bills.sample(boot_len, replace = True).values\n",
    "    boot_data.append(np.median(sample))\n",
    "\n",
    "pd_boot_data = pd.DataFrame(boot_data)\n",
    "\n",
    "left_quant = (1 - 0.95) / 2\n",
    "right_quant = 1 - (1 - 0.95) / 2\n",
    "\n",
    "ci = pd_boot_data.quantile([left_quant, right_quant])\n",
    "print(np.round(ci[0].values[0], -1), np.round(ci[0].values[1], -1))"
   ]
  },
  {
   "cell_type": "code",
   "execution_count": 25,
   "id": "e9e75981",
   "metadata": {},
   "outputs": [
    {
     "name": "stdout",
     "output_type": "stream",
     "text": [
      "1 2 3 4 5\n"
     ]
    },
    {
     "data": {
      "text/plain": [
       "3"
      ]
     },
     "execution_count": 25,
     "metadata": {},
     "output_type": "execute_result"
    }
   ],
   "source": [
    "# Перед вами набор чисел:\n",
    "\n",
    "# Вопрос 1: напишите код, который находит медиану. Полученное значение нужно округлить до целого числа\n",
    "\n",
    "def median(x):\n",
    "    if type(x) != list:\n",
    "        return None\n",
    "    else:\n",
    "        n = len(x)\n",
    "        x = sorted(x)\n",
    "        if n == 0:\n",
    "            return None\n",
    "        elif n % 2 != 0:\n",
    "            return round(x[n//2])\n",
    "        elif n % 2 == 0:\n",
    "            return round((x[n//2] + x[n//2 - 1]) / 2)\n",
    "        else:\n",
    "            return None\n",
    "        \n",
    "x = input()\n",
    "median([int(i) for i in x.split()])"
   ]
  },
  {
   "cell_type": "code",
   "execution_count": 27,
   "id": "f28ba7fb",
   "metadata": {},
   "outputs": [
    {
     "name": "stdout",
     "output_type": "stream",
     "text": [
      "1 2 3\n",
      "3 2 1\n",
      "[1, 2, 3]\n"
     ]
    }
   ],
   "source": [
    "# Вопрос 2: Найдите их пересечение без дубликатов.\n",
    "\n",
    "# Полученный ответ нужно вывести в виде отсортированного по возрастанию списка\n",
    "\n",
    "def inter(a, b):\n",
    "    res = []\n",
    "    for i in a:\n",
    "        if i in b:\n",
    "            res.append(i)\n",
    "    res = sorted(list(set(res)))\n",
    "    print(res)\n",
    "\n",
    "a = input()\n",
    "b = input()\n",
    "\n",
    "a = [int(i) for i in a.split()]\n",
    "b = [int(i) for i in b.split()]\n",
    "\n",
    "inter(a, b)"
   ]
  },
  {
   "cell_type": "markdown",
   "id": "d350517f",
   "metadata": {},
   "source": [
    "В клиенской базе менеджера 12 разных компаний одного сегмента.\n",
    "\n",
    "а) Сколькими способами можно выбрать 5 любых компаний для обзвона?  \n",
    "б) Две из них нужно обзвонить срочно. Сколькими способами можно выделить 5 компаний для обзвона, \n",
    "чтобы обязательно включить хотя бы одну из 2х?"
   ]
  },
  {
   "cell_type": "code",
   "execution_count": 28,
   "id": "4c033a04",
   "metadata": {},
   "outputs": [],
   "source": [
    "# a) 12! / 5! * (12 - 5)!\n",
    "# б) "
   ]
  },
  {
   "cell_type": "markdown",
   "id": "1fc5b32f",
   "metadata": {},
   "source": [
    "В корзине лежит 5 шаров, 4 белых и 1 синий.\n",
    "\n",
    "а) Найдите мат. ожидание попыток извлечения без возвращения, которое понадобится, чтобы вынуть синий шар (целое число)  \n",
    "б) Найдите мат. ожидание попыток извлечения с возвращением, которое понадобится, чтобы вынуть синий шар"
   ]
  },
  {
   "cell_type": "markdown",
   "id": "63380e7a",
   "metadata": {},
   "source": [
    "   p1 - достать синий с 1-го раза - 1/5  С  \n",
    "   p2 - достать синий со 2-го раза - 4/5 * 1/4  (остается 4 шара после первого белого)  БС  \n",
    "   p3 - достать синий с 3-его раза - 4/5 * 3/4 * 1/3  ББС  \n",
    "   p4 - достать синий с 4-го раза - 4/5 * 3/4 * 2/3 * 1/2 БББС  \n",
    "   p5 - достать синий с 5-го раза - 4/5 * 3/4 * 2/3 * 1/2 * 1/1 ББББС  \n",
    "\n",
    "\n"
   ]
  },
  {
   "cell_type": "code",
   "execution_count": 32,
   "id": "43a6a5be",
   "metadata": {},
   "outputs": [
    {
     "data": {
      "text/plain": [
       "3.000000000000001"
      ]
     },
     "execution_count": 32,
     "metadata": {},
     "output_type": "execute_result"
    }
   ],
   "source": [
    "1 * (1/5) + 2 * (4/5 * 1/4) + 3 * (4/5 * 3/4 * 1/3) + 4 * (4/5 * 3/4 * 2/3 * 1/2) + 5 * (4/5 * 3/4 * 2/3 * 1/2 * 1/1)"
   ]
  },
  {
   "cell_type": "code",
   "execution_count": 33,
   "id": "1aaecac3",
   "metadata": {},
   "outputs": [
    {
     "data": {
      "text/plain": [
       "5.0"
      ]
     },
     "execution_count": 33,
     "metadata": {},
     "output_type": "execute_result"
    }
   ],
   "source": [
    "# m синих и n белых - мат ожидание достать синий шар = (m + n) / m \n",
    "(1 + 4) / 1"
   ]
  },
  {
   "cell_type": "markdown",
   "id": "395de945",
   "metadata": {},
   "source": [
    "Была проведена промо-акция. Первый раз из 38 писем 26 пользователей перешли по ссылке. Во второй раз 42 из 98\n",
    "\n",
    "Есть ли разница CTR между акциями на уровне значимости 0.05?  \n",
    "В ответе укажите значение p-value с точностью 3 знаков после запятой"
   ]
  },
  {
   "cell_type": "code",
   "execution_count": 29,
   "id": "c5b29fb5",
   "metadata": {},
   "outputs": [
    {
     "name": "stdout",
     "output_type": "stream",
     "text": [
      "0.007\n"
     ]
    }
   ],
   "source": [
    "from statsmodels.stats.proportion import proportions_ztest\n",
    "count = np.array([26, 42])\n",
    "nobs = np.array([38, 98])\n",
    "stat, pval = proportions_ztest(count, nobs)\n",
    "print('{0:0.3f}'.format(pval))"
   ]
  }
 ],
 "metadata": {
  "kernelspec": {
   "display_name": "Python 3 (ipykernel)",
   "language": "python",
   "name": "python3"
  },
  "language_info": {
   "codemirror_mode": {
    "name": "ipython",
    "version": 3
   },
   "file_extension": ".py",
   "mimetype": "text/x-python",
   "name": "python",
   "nbconvert_exporter": "python",
   "pygments_lexer": "ipython3",
   "version": "3.7.4"
  }
 },
 "nbformat": 4,
 "nbformat_minor": 5
}
