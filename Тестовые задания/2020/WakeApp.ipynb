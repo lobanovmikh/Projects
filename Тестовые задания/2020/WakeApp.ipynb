{
 "cells": [
  {
   "cell_type": "markdown",
   "metadata": {},
   "source": [
    "### В выгрузке неагренированные данные по пользователям, которые зарегистрировались на платформе в сентябре, по двум игровым платформам (rra_brandId).\n",
    "\n",
    "**Необходимо:**  \n",
    "- изучить датасет \n",
    "- выбрать 4 когорты пользователей, в соотсветствии с 4 неделями сентября и сопоставить их  \n",
    "- вытащить любые инсайты из данных (распределение по полу, возрасту, странам)  \n",
    "- рассчитать основные метрики (ARPU, удержание, LTV и т.п.)  "
   ]
  },
  {
   "cell_type": "code",
   "execution_count": 72,
   "metadata": {},
   "outputs": [],
   "source": [
    "import pandas as pd\n",
    "import numpy as np\n",
    "import random\n",
    "import datetime\n",
    "import matplotlib.pyplot as plt\n",
    "import plotly.express as px\n",
    "import seaborn as sns\n",
    "import warnings\n",
    "warnings.filterwarnings('ignore')\n",
    "pd.options.mode.chained_assignment = None  # default='warn\n",
    "%matplotlib inline"
   ]
  },
  {
   "cell_type": "code",
   "execution_count": 73,
   "metadata": {},
   "outputs": [],
   "source": [
    "data_store = pd.HDFStore('export_data.h5')\n",
    "df = data_store['export_df']\n",
    "data_store.close()\n",
    "df_reten = df.copy()\n",
    "dfa = df.copy()\n"
   ]
  },
  {
   "cell_type": "markdown",
   "metadata": {},
   "source": [
    "### 1. Изучить датасет"
   ]
  },
  {
   "cell_type": "code",
   "execution_count": 74,
   "metadata": {
    "scrolled": true
   },
   "outputs": [
    {
     "data": {
      "text/html": [
       "<div>\n",
       "<style scoped>\n",
       "    .dataframe tbody tr th:only-of-type {\n",
       "        vertical-align: middle;\n",
       "    }\n",
       "\n",
       "    .dataframe tbody tr th {\n",
       "        vertical-align: top;\n",
       "    }\n",
       "\n",
       "    .dataframe thead th {\n",
       "        text-align: right;\n",
       "    }\n",
       "</style>\n",
       "<table border=\"1\" class=\"dataframe\">\n",
       "  <thead>\n",
       "    <tr style=\"text-align: right;\">\n",
       "      <th></th>\n",
       "      <th>rra_id</th>\n",
       "      <th>rra_playerId</th>\n",
       "      <th>rra_dateAt</th>\n",
       "      <th>rra_partnerId</th>\n",
       "      <th>rra_brandId</th>\n",
       "      <th>rra_campaignId</th>\n",
       "      <th>rra_playerCountry</th>\n",
       "      <th>rra_registrationsCount</th>\n",
       "      <th>rra_depositsCount</th>\n",
       "      <th>firstDepositsSumEur</th>\n",
       "      <th>depositsSumEur</th>\n",
       "      <th>c_registrationDateAt</th>\n",
       "      <th>c_gender</th>\n",
       "      <th>c_age</th>\n",
       "    </tr>\n",
       "  </thead>\n",
       "  <tbody>\n",
       "    <tr>\n",
       "      <th>58</th>\n",
       "      <td>100508071713418294</td>\n",
       "      <td>5504921</td>\n",
       "      <td>2020-09-17 03:00:00</td>\n",
       "      <td>85405</td>\n",
       "      <td>99</td>\n",
       "      <td>100847</td>\n",
       "      <td>AU</td>\n",
       "      <td>1</td>\n",
       "      <td>1</td>\n",
       "      <td>30.88</td>\n",
       "      <td>30.88</td>\n",
       "      <td>2020-09-17 11:08:36</td>\n",
       "      <td>m</td>\n",
       "      <td>54.0</td>\n",
       "    </tr>\n",
       "    <tr>\n",
       "      <th>59</th>\n",
       "      <td>236239403559361495</td>\n",
       "      <td>5504921</td>\n",
       "      <td>2020-10-02 03:00:00</td>\n",
       "      <td>85405</td>\n",
       "      <td>99</td>\n",
       "      <td>100847</td>\n",
       "      <td>AU</td>\n",
       "      <td>0</td>\n",
       "      <td>0</td>\n",
       "      <td>0.00</td>\n",
       "      <td>0.00</td>\n",
       "      <td>2020-09-17 11:08:36</td>\n",
       "      <td>m</td>\n",
       "      <td>54.0</td>\n",
       "    </tr>\n",
       "    <tr>\n",
       "      <th>60</th>\n",
       "      <td>100508071713418299</td>\n",
       "      <td>5504961</td>\n",
       "      <td>2020-09-17 03:00:00</td>\n",
       "      <td>85405</td>\n",
       "      <td>99</td>\n",
       "      <td>100847</td>\n",
       "      <td>AU</td>\n",
       "      <td>1</td>\n",
       "      <td>1</td>\n",
       "      <td>30.88</td>\n",
       "      <td>30.88</td>\n",
       "      <td>2020-09-17 11:53:13</td>\n",
       "      <td>f</td>\n",
       "      <td>55.0</td>\n",
       "    </tr>\n",
       "    <tr>\n",
       "      <th>61</th>\n",
       "      <td>157339966022599381</td>\n",
       "      <td>5504961</td>\n",
       "      <td>2020-10-08 03:00:00</td>\n",
       "      <td>85405</td>\n",
       "      <td>99</td>\n",
       "      <td>100847</td>\n",
       "      <td>AU</td>\n",
       "      <td>0</td>\n",
       "      <td>1</td>\n",
       "      <td>0.00</td>\n",
       "      <td>30.48</td>\n",
       "      <td>2020-09-17 11:53:13</td>\n",
       "      <td>f</td>\n",
       "      <td>55.0</td>\n",
       "    </tr>\n",
       "    <tr>\n",
       "      <th>62</th>\n",
       "      <td>158783148201370844</td>\n",
       "      <td>5504961</td>\n",
       "      <td>2020-11-12 03:00:00</td>\n",
       "      <td>85405</td>\n",
       "      <td>99</td>\n",
       "      <td>100847</td>\n",
       "      <td>AU</td>\n",
       "      <td>0</td>\n",
       "      <td>0</td>\n",
       "      <td>0.00</td>\n",
       "      <td>0.00</td>\n",
       "      <td>2020-09-17 11:53:13</td>\n",
       "      <td>f</td>\n",
       "      <td>55.0</td>\n",
       "    </tr>\n",
       "  </tbody>\n",
       "</table>\n",
       "</div>"
      ],
      "text/plain": [
       "                rra_id rra_playerId          rra_dateAt rra_partnerId  \\\n",
       "58  100508071713418294      5504921 2020-09-17 03:00:00         85405   \n",
       "59  236239403559361495      5504921 2020-10-02 03:00:00         85405   \n",
       "60  100508071713418299      5504961 2020-09-17 03:00:00         85405   \n",
       "61  157339966022599381      5504961 2020-10-08 03:00:00         85405   \n",
       "62  158783148201370844      5504961 2020-11-12 03:00:00         85405   \n",
       "\n",
       "   rra_brandId rra_campaignId rra_playerCountry  rra_registrationsCount  \\\n",
       "58          99         100847                AU                       1   \n",
       "59          99         100847                AU                       0   \n",
       "60          99         100847                AU                       1   \n",
       "61          99         100847                AU                       0   \n",
       "62          99         100847                AU                       0   \n",
       "\n",
       "    rra_depositsCount  firstDepositsSumEur  depositsSumEur  \\\n",
       "58                  1                30.88           30.88   \n",
       "59                  0                 0.00            0.00   \n",
       "60                  1                30.88           30.88   \n",
       "61                  1                 0.00           30.48   \n",
       "62                  0                 0.00            0.00   \n",
       "\n",
       "   c_registrationDateAt c_gender  c_age  \n",
       "58  2020-09-17 11:08:36        m   54.0  \n",
       "59  2020-09-17 11:08:36        m   54.0  \n",
       "60  2020-09-17 11:53:13        f   55.0  \n",
       "61  2020-09-17 11:53:13        f   55.0  \n",
       "62  2020-09-17 11:53:13        f   55.0  "
      ]
     },
     "execution_count": 74,
     "metadata": {},
     "output_type": "execute_result"
    }
   ],
   "source": [
    "df.head()"
   ]
  },
  {
   "cell_type": "markdown",
   "metadata": {},
   "source": [
    "В датасете следующие поля:  \n",
    "'rra_id' - id записи  \n",
    "'rra_playerId' - id игрока  \n",
    "'rra_dateAt' - дата записи  \n",
    "'rra_partnerId' - id партнера, который привел игрока  \n",
    "'rra_brandId' - id игровой платформы  \n",
    "'rra_campaignId' - id маркетинговой кампании  \n",
    "'rra_playerCountry' - страна игрока  \n",
    "'rra_registrationsCount' - флаг регистрации игрока в дату rra_dateAt  \n",
    "'rra_depositsCount' - кол-во взносов игрока на игровой счет  \n",
    "'firstDepositsSumEur' - сумма первого взноса игрока на игровой счет  \n",
    "'depositsSumEur' - сумма взносов игрока на игровой счет на дату rra_dateAt  \n",
    "'c_registrationDateAt' - дата регистрации  \n",
    "'c_gender' - пол игрока  \n",
    "'c_age' - возраст игрока  "
   ]
  },
  {
   "cell_type": "code",
   "execution_count": 75,
   "metadata": {
    "scrolled": true
   },
   "outputs": [
    {
     "data": {
      "text/html": [
       "<div>\n",
       "<style scoped>\n",
       "    .dataframe tbody tr th:only-of-type {\n",
       "        vertical-align: middle;\n",
       "    }\n",
       "\n",
       "    .dataframe tbody tr th {\n",
       "        vertical-align: top;\n",
       "    }\n",
       "\n",
       "    .dataframe thead th {\n",
       "        text-align: right;\n",
       "    }\n",
       "</style>\n",
       "<table border=\"1\" class=\"dataframe\">\n",
       "  <thead>\n",
       "    <tr style=\"text-align: right;\">\n",
       "      <th></th>\n",
       "      <th>rra_playerId</th>\n",
       "      <th>rra_dateAt</th>\n",
       "      <th>rra_depositsCount</th>\n",
       "      <th>firstDepositsSumEur</th>\n",
       "      <th>depositsSumEur</th>\n",
       "      <th>c_registrationDateAt</th>\n",
       "    </tr>\n",
       "  </thead>\n",
       "  <tbody>\n",
       "    <tr>\n",
       "      <th>78</th>\n",
       "      <td>5505085</td>\n",
       "      <td>2020-09-17 03:00:00</td>\n",
       "      <td>2</td>\n",
       "      <td>25.0</td>\n",
       "      <td>75.0</td>\n",
       "      <td>2020-09-17 11:28:58</td>\n",
       "    </tr>\n",
       "    <tr>\n",
       "      <th>79</th>\n",
       "      <td>5505085</td>\n",
       "      <td>2020-11-26 03:00:00</td>\n",
       "      <td>1</td>\n",
       "      <td>0.0</td>\n",
       "      <td>50.0</td>\n",
       "      <td>2020-09-17 11:28:58</td>\n",
       "    </tr>\n",
       "    <tr>\n",
       "      <th>80</th>\n",
       "      <td>5505085</td>\n",
       "      <td>2020-11-20 03:00:00</td>\n",
       "      <td>1</td>\n",
       "      <td>0.0</td>\n",
       "      <td>100.0</td>\n",
       "      <td>2020-09-17 11:28:58</td>\n",
       "    </tr>\n",
       "    <tr>\n",
       "      <th>81</th>\n",
       "      <td>5505085</td>\n",
       "      <td>2020-09-18 03:00:00</td>\n",
       "      <td>1</td>\n",
       "      <td>0.0</td>\n",
       "      <td>50.0</td>\n",
       "      <td>2020-09-17 11:28:58</td>\n",
       "    </tr>\n",
       "    <tr>\n",
       "      <th>82</th>\n",
       "      <td>5505085</td>\n",
       "      <td>2020-09-26 03:00:00</td>\n",
       "      <td>0</td>\n",
       "      <td>0.0</td>\n",
       "      <td>0.0</td>\n",
       "      <td>2020-09-17 11:28:58</td>\n",
       "    </tr>\n",
       "    <tr>\n",
       "      <th>83</th>\n",
       "      <td>5505085</td>\n",
       "      <td>2020-11-17 03:00:00</td>\n",
       "      <td>2</td>\n",
       "      <td>0.0</td>\n",
       "      <td>200.0</td>\n",
       "      <td>2020-09-17 11:28:58</td>\n",
       "    </tr>\n",
       "    <tr>\n",
       "      <th>84</th>\n",
       "      <td>5505085</td>\n",
       "      <td>2020-11-21 03:00:00</td>\n",
       "      <td>1</td>\n",
       "      <td>0.0</td>\n",
       "      <td>100.0</td>\n",
       "      <td>2020-09-17 11:28:58</td>\n",
       "    </tr>\n",
       "    <tr>\n",
       "      <th>85</th>\n",
       "      <td>5505085</td>\n",
       "      <td>2020-11-25 03:00:00</td>\n",
       "      <td>1</td>\n",
       "      <td>0.0</td>\n",
       "      <td>100.0</td>\n",
       "      <td>2020-09-17 11:28:58</td>\n",
       "    </tr>\n",
       "  </tbody>\n",
       "</table>\n",
       "</div>"
      ],
      "text/plain": [
       "   rra_playerId          rra_dateAt  rra_depositsCount  firstDepositsSumEur  \\\n",
       "78      5505085 2020-09-17 03:00:00                  2                 25.0   \n",
       "79      5505085 2020-11-26 03:00:00                  1                  0.0   \n",
       "80      5505085 2020-11-20 03:00:00                  1                  0.0   \n",
       "81      5505085 2020-09-18 03:00:00                  1                  0.0   \n",
       "82      5505085 2020-09-26 03:00:00                  0                  0.0   \n",
       "83      5505085 2020-11-17 03:00:00                  2                  0.0   \n",
       "84      5505085 2020-11-21 03:00:00                  1                  0.0   \n",
       "85      5505085 2020-11-25 03:00:00                  1                  0.0   \n",
       "\n",
       "    depositsSumEur c_registrationDateAt  \n",
       "78            75.0  2020-09-17 11:28:58  \n",
       "79            50.0  2020-09-17 11:28:58  \n",
       "80           100.0  2020-09-17 11:28:58  \n",
       "81            50.0  2020-09-17 11:28:58  \n",
       "82             0.0  2020-09-17 11:28:58  \n",
       "83           200.0  2020-09-17 11:28:58  \n",
       "84           100.0  2020-09-17 11:28:58  \n",
       "85           100.0  2020-09-17 11:28:58  "
      ]
     },
     "execution_count": 75,
     "metadata": {},
     "output_type": "execute_result"
    }
   ],
   "source": [
    "# Пример вывода по данным\n",
    "\n",
    "df[df['rra_playerId'] == '5505085'][['rra_playerId', 'rra_dateAt', \n",
    "                                     'rra_depositsCount', 'firstDepositsSumEur',\n",
    "                                     'depositsSumEur', 'c_registrationDateAt']] # Пример записей одного пользователя"
   ]
  },
  {
   "cell_type": "markdown",
   "metadata": {},
   "source": [
    "- Имеется значение в колонке 'firstDepositsSumEur' > 0 -> Запись первого депозита  \n",
    "- Значение в колонке firstDepositsSumEur' = 0 и имеется значение в колонке 'rra_depositsCount' -> Записи остальных депозитов кроме первого\n",
    "- 'rra_depositsCount' = 0 -> Сумма депозитов = 0 -> Отсутсвуют взносы в рассматриваемый день\n",
    "- В разделе подсчета ARPPU демонстрируется, что пользователям для первого входа необходим депозит"
   ]
  },
  {
   "cell_type": "code",
   "execution_count": 76,
   "metadata": {},
   "outputs": [
    {
     "name": "stdout",
     "output_type": "stream",
     "text": [
      "Количество пользователей, которые зарегистрировались после некоторого времени использования: 5231\n",
      "Количество пользователей, которые сначала зарегистрировались, а потом начали использование платформы: 1411\n",
      "Всего уникальных пользователей: 6642\n"
     ]
    }
   ],
   "source": [
    "d1 = df.groupby(['rra_playerId', 'c_registrationDateAt']).agg({'rra_dateAt' : 'min'}).reset_index()\n",
    "\n",
    "d2 = d1[d1['c_registrationDateAt'] < d1['rra_dateAt']]\n",
    "d3 = d1[d1['c_registrationDateAt'] > d1['rra_dateAt']]\n",
    "\n",
    "print('Количество пользователей, которые зарегистрировались после некоторого времени использования:', d3.shape[0])\n",
    "print('Количество пользователей, которые сначала зарегистрировались, а потом начали использование платформы:', d2.shape[0])\n",
    "print('Всего уникальных пользователей:', df[['rra_playerId']].nunique()[0])"
   ]
  },
  {
   "cell_type": "code",
   "execution_count": 77,
   "metadata": {
    "scrolled": true
   },
   "outputs": [
    {
     "data": {
      "text/plain": [
       "rra_id                             int64\n",
       "rra_playerId                      object\n",
       "rra_dateAt                datetime64[ns]\n",
       "rra_partnerId                     object\n",
       "rra_brandId                       object\n",
       "rra_campaignId                    object\n",
       "rra_playerCountry                 object\n",
       "rra_registrationsCount             int64\n",
       "rra_depositsCount                  int64\n",
       "firstDepositsSumEur              float64\n",
       "depositsSumEur                   float64\n",
       "c_registrationDateAt      datetime64[ns]\n",
       "c_gender                          object\n",
       "c_age                            float64\n",
       "dtype: object"
      ]
     },
     "execution_count": 77,
     "metadata": {},
     "output_type": "execute_result"
    }
   ],
   "source": [
    "df.dtypes # Типы колонок"
   ]
  },
  {
   "cell_type": "code",
   "execution_count": 78,
   "metadata": {
    "scrolled": false
   },
   "outputs": [
    {
     "name": "stdout",
     "output_type": "stream",
     "text": [
      "<class 'pandas.core.frame.DataFrame'>\n",
      "Int64Index: 28085 entries, 58 to 267383\n",
      "Data columns (total 14 columns):\n",
      " #   Column                  Non-Null Count  Dtype         \n",
      "---  ------                  --------------  -----         \n",
      " 0   rra_id                  28085 non-null  int64         \n",
      " 1   rra_playerId            28085 non-null  object        \n",
      " 2   rra_dateAt              28085 non-null  datetime64[ns]\n",
      " 3   rra_partnerId           28085 non-null  object        \n",
      " 4   rra_brandId             28085 non-null  object        \n",
      " 5   rra_campaignId          28085 non-null  object        \n",
      " 6   rra_playerCountry       28085 non-null  object        \n",
      " 7   rra_registrationsCount  28085 non-null  int64         \n",
      " 8   rra_depositsCount       28085 non-null  int64         \n",
      " 9   firstDepositsSumEur     28085 non-null  float64       \n",
      " 10  depositsSumEur          28085 non-null  float64       \n",
      " 11  c_registrationDateAt    28085 non-null  datetime64[ns]\n",
      " 12  c_gender                28085 non-null  object        \n",
      " 13  c_age                   28085 non-null  float64       \n",
      "dtypes: datetime64[ns](2), float64(3), int64(3), object(6)\n",
      "memory usage: 3.2+ MB\n"
     ]
    }
   ],
   "source": [
    "df.info() # Непустые значения в колонках"
   ]
  },
  {
   "cell_type": "code",
   "execution_count": 79,
   "metadata": {},
   "outputs": [
    {
     "data": {
      "text/plain": [
       "6642"
      ]
     },
     "execution_count": 79,
     "metadata": {},
     "output_type": "execute_result"
    }
   ],
   "source": [
    "df[['rra_playerId']].nunique()[0] # Количество уникальных пользователей за все время"
   ]
  },
  {
   "cell_type": "code",
   "execution_count": 80,
   "metadata": {},
   "outputs": [
    {
     "data": {
      "text/html": [
       "<div>\n",
       "<style scoped>\n",
       "    .dataframe tbody tr th:only-of-type {\n",
       "        vertical-align: middle;\n",
       "    }\n",
       "\n",
       "    .dataframe tbody tr th {\n",
       "        vertical-align: top;\n",
       "    }\n",
       "\n",
       "    .dataframe thead th {\n",
       "        text-align: right;\n",
       "    }\n",
       "</style>\n",
       "<table border=\"1\" class=\"dataframe\">\n",
       "  <thead>\n",
       "    <tr style=\"text-align: right;\">\n",
       "      <th></th>\n",
       "      <th>c_age</th>\n",
       "    </tr>\n",
       "  </thead>\n",
       "  <tbody>\n",
       "    <tr>\n",
       "      <th>count</th>\n",
       "      <td>6642.000000</td>\n",
       "    </tr>\n",
       "    <tr>\n",
       "      <th>mean</th>\n",
       "      <td>33.820536</td>\n",
       "    </tr>\n",
       "    <tr>\n",
       "      <th>std</th>\n",
       "      <td>10.584357</td>\n",
       "    </tr>\n",
       "    <tr>\n",
       "      <th>min</th>\n",
       "      <td>0.000000</td>\n",
       "    </tr>\n",
       "    <tr>\n",
       "      <th>25%</th>\n",
       "      <td>26.000000</td>\n",
       "    </tr>\n",
       "    <tr>\n",
       "      <th>50%</th>\n",
       "      <td>32.000000</td>\n",
       "    </tr>\n",
       "    <tr>\n",
       "      <th>75%</th>\n",
       "      <td>40.000000</td>\n",
       "    </tr>\n",
       "    <tr>\n",
       "      <th>max</th>\n",
       "      <td>112.000000</td>\n",
       "    </tr>\n",
       "  </tbody>\n",
       "</table>\n",
       "</div>"
      ],
      "text/plain": [
       "             c_age\n",
       "count  6642.000000\n",
       "mean     33.820536\n",
       "std      10.584357\n",
       "min       0.000000\n",
       "25%      26.000000\n",
       "50%      32.000000\n",
       "75%      40.000000\n",
       "max     112.000000"
      ]
     },
     "execution_count": 80,
     "metadata": {},
     "output_type": "execute_result"
    }
   ],
   "source": [
    "df.drop_duplicates(subset='rra_playerId')[['c_age']].describe() # Возраст пользователей"
   ]
  },
  {
   "cell_type": "code",
   "execution_count": 81,
   "metadata": {},
   "outputs": [
    {
     "data": {
      "text/html": [
       "<div>\n",
       "<style scoped>\n",
       "    .dataframe tbody tr th:only-of-type {\n",
       "        vertical-align: middle;\n",
       "    }\n",
       "\n",
       "    .dataframe tbody tr th {\n",
       "        vertical-align: top;\n",
       "    }\n",
       "\n",
       "    .dataframe thead th {\n",
       "        text-align: right;\n",
       "    }\n",
       "</style>\n",
       "<table border=\"1\" class=\"dataframe\">\n",
       "  <thead>\n",
       "    <tr style=\"text-align: right;\">\n",
       "      <th></th>\n",
       "      <th>firstDepositsSumEur</th>\n",
       "    </tr>\n",
       "  </thead>\n",
       "  <tbody>\n",
       "    <tr>\n",
       "      <th>count</th>\n",
       "      <td>6642.000000</td>\n",
       "    </tr>\n",
       "    <tr>\n",
       "      <th>mean</th>\n",
       "      <td>15.997391</td>\n",
       "    </tr>\n",
       "    <tr>\n",
       "      <th>std</th>\n",
       "      <td>28.896223</td>\n",
       "    </tr>\n",
       "    <tr>\n",
       "      <th>min</th>\n",
       "      <td>0.000000</td>\n",
       "    </tr>\n",
       "    <tr>\n",
       "      <th>25%</th>\n",
       "      <td>0.000000</td>\n",
       "    </tr>\n",
       "    <tr>\n",
       "      <th>50%</th>\n",
       "      <td>9.245000</td>\n",
       "    </tr>\n",
       "    <tr>\n",
       "      <th>75%</th>\n",
       "      <td>20.000000</td>\n",
       "    </tr>\n",
       "    <tr>\n",
       "      <th>max</th>\n",
       "      <td>919.050000</td>\n",
       "    </tr>\n",
       "  </tbody>\n",
       "</table>\n",
       "</div>"
      ],
      "text/plain": [
       "       firstDepositsSumEur\n",
       "count          6642.000000\n",
       "mean             15.997391\n",
       "std              28.896223\n",
       "min               0.000000\n",
       "25%               0.000000\n",
       "50%               9.245000\n",
       "75%              20.000000\n",
       "max             919.050000"
      ]
     },
     "execution_count": 81,
     "metadata": {},
     "output_type": "execute_result"
    }
   ],
   "source": [
    "df.drop_duplicates(subset='rra_playerId')[['firstDepositsSumEur']].describe() # Первые депозиты"
   ]
  },
  {
   "cell_type": "code",
   "execution_count": 82,
   "metadata": {},
   "outputs": [
    {
     "data": {
      "text/html": [
       "<div>\n",
       "<style scoped>\n",
       "    .dataframe tbody tr th:only-of-type {\n",
       "        vertical-align: middle;\n",
       "    }\n",
       "\n",
       "    .dataframe tbody tr th {\n",
       "        vertical-align: top;\n",
       "    }\n",
       "\n",
       "    .dataframe thead th {\n",
       "        text-align: right;\n",
       "    }\n",
       "</style>\n",
       "<table border=\"1\" class=\"dataframe\">\n",
       "  <thead>\n",
       "    <tr style=\"text-align: right;\">\n",
       "      <th></th>\n",
       "      <th>depositsSumEur</th>\n",
       "    </tr>\n",
       "  </thead>\n",
       "  <tbody>\n",
       "    <tr>\n",
       "      <th>count</th>\n",
       "      <td>28085.000000</td>\n",
       "    </tr>\n",
       "    <tr>\n",
       "      <th>mean</th>\n",
       "      <td>68.369253</td>\n",
       "    </tr>\n",
       "    <tr>\n",
       "      <th>std</th>\n",
       "      <td>413.336827</td>\n",
       "    </tr>\n",
       "    <tr>\n",
       "      <th>min</th>\n",
       "      <td>0.000000</td>\n",
       "    </tr>\n",
       "    <tr>\n",
       "      <th>25%</th>\n",
       "      <td>0.000000</td>\n",
       "    </tr>\n",
       "    <tr>\n",
       "      <th>50%</th>\n",
       "      <td>20.000000</td>\n",
       "    </tr>\n",
       "    <tr>\n",
       "      <th>75%</th>\n",
       "      <td>50.000000</td>\n",
       "    </tr>\n",
       "    <tr>\n",
       "      <th>max</th>\n",
       "      <td>52500.000000</td>\n",
       "    </tr>\n",
       "  </tbody>\n",
       "</table>\n",
       "</div>"
      ],
      "text/plain": [
       "       depositsSumEur\n",
       "count    28085.000000\n",
       "mean        68.369253\n",
       "std        413.336827\n",
       "min          0.000000\n",
       "25%          0.000000\n",
       "50%         20.000000\n",
       "75%         50.000000\n",
       "max      52500.000000"
      ]
     },
     "execution_count": 82,
     "metadata": {},
     "output_type": "execute_result"
    }
   ],
   "source": [
    "df[['depositsSumEur']].describe() # Суммарные депозиты"
   ]
  },
  {
   "cell_type": "code",
   "execution_count": 83,
   "metadata": {},
   "outputs": [
    {
     "data": {
      "text/plain": [
       "<AxesSubplot:ylabel='None'>"
      ]
     },
     "execution_count": 83,
     "metadata": {},
     "output_type": "execute_result"
    },
    {
     "data": {
      "image/png": "[encoded data removed]",
      "text/plain": [
       "<Figure size 432x288 with 1 Axes>"
      ]
     },
     "metadata": {},
     "output_type": "display_data"
    }
   ],
   "source": [
    "df[['c_gender']].value_counts().plot.pie(fontsize=16, autopct='%1.0f%%', labeldistance=1.2, radius=2) # Распределение по полу"
   ]
  },
  {
   "cell_type": "code",
   "execution_count": 84,
   "metadata": {},
   "outputs": [
    {
     "data": {
      "text/html": [
       "<div>\n",
       "<style scoped>\n",
       "    .dataframe tbody tr th:only-of-type {\n",
       "        vertical-align: middle;\n",
       "    }\n",
       "\n",
       "    .dataframe tbody tr th {\n",
       "        vertical-align: top;\n",
       "    }\n",
       "\n",
       "    .dataframe thead th {\n",
       "        text-align: right;\n",
       "    }\n",
       "</style>\n",
       "<table border=\"1\" class=\"dataframe\">\n",
       "  <thead>\n",
       "    <tr style=\"text-align: right;\">\n",
       "      <th></th>\n",
       "      <th>rra_playerId</th>\n",
       "    </tr>\n",
       "    <tr>\n",
       "      <th>rra_brandId</th>\n",
       "      <th></th>\n",
       "    </tr>\n",
       "  </thead>\n",
       "  <tbody>\n",
       "    <tr>\n",
       "      <th>102</th>\n",
       "      <td>3567</td>\n",
       "    </tr>\n",
       "    <tr>\n",
       "      <th>99</th>\n",
       "      <td>3075</td>\n",
       "    </tr>\n",
       "  </tbody>\n",
       "</table>\n",
       "</div>"
      ],
      "text/plain": [
       "             rra_playerId\n",
       "rra_brandId              \n",
       "102                  3567\n",
       "99                   3075"
      ]
     },
     "execution_count": 84,
     "metadata": {},
     "output_type": "execute_result"
    }
   ],
   "source": [
    "df.drop_duplicates(subset=['rra_playerId']).groupby('rra_brandId')[['rra_playerId']].count()\n",
    "\n",
    "# Количество уникальных пользователей на каждой платформе"
   ]
  },
  {
   "cell_type": "code",
   "execution_count": 85,
   "metadata": {},
   "outputs": [
    {
     "data": {
      "text/html": [
       "<div>\n",
       "<style scoped>\n",
       "    .dataframe tbody tr th:only-of-type {\n",
       "        vertical-align: middle;\n",
       "    }\n",
       "\n",
       "    .dataframe tbody tr th {\n",
       "        vertical-align: top;\n",
       "    }\n",
       "\n",
       "    .dataframe thead th {\n",
       "        text-align: right;\n",
       "    }\n",
       "</style>\n",
       "<table border=\"1\" class=\"dataframe\">\n",
       "  <thead>\n",
       "    <tr style=\"text-align: right;\">\n",
       "      <th></th>\n",
       "      <th>c_age</th>\n",
       "    </tr>\n",
       "  </thead>\n",
       "  <tbody>\n",
       "    <tr>\n",
       "      <th>191002</th>\n",
       "      <td>0.0</td>\n",
       "    </tr>\n",
       "    <tr>\n",
       "      <th>160284</th>\n",
       "      <td>0.0</td>\n",
       "    </tr>\n",
       "    <tr>\n",
       "      <th>160285</th>\n",
       "      <td>0.0</td>\n",
       "    </tr>\n",
       "    <tr>\n",
       "      <th>206137</th>\n",
       "      <td>0.0</td>\n",
       "    </tr>\n",
       "    <tr>\n",
       "      <th>194379</th>\n",
       "      <td>0.0</td>\n",
       "    </tr>\n",
       "    <tr>\n",
       "      <th>...</th>\n",
       "      <td>...</td>\n",
       "    </tr>\n",
       "    <tr>\n",
       "      <th>211233</th>\n",
       "      <td>106.0</td>\n",
       "    </tr>\n",
       "    <tr>\n",
       "      <th>211232</th>\n",
       "      <td>106.0</td>\n",
       "    </tr>\n",
       "    <tr>\n",
       "      <th>211243</th>\n",
       "      <td>106.0</td>\n",
       "    </tr>\n",
       "    <tr>\n",
       "      <th>211230</th>\n",
       "      <td>106.0</td>\n",
       "    </tr>\n",
       "    <tr>\n",
       "      <th>195318</th>\n",
       "      <td>112.0</td>\n",
       "    </tr>\n",
       "  </tbody>\n",
       "</table>\n",
       "<p>28085 rows × 1 columns</p>\n",
       "</div>"
      ],
      "text/plain": [
       "        c_age\n",
       "191002    0.0\n",
       "160284    0.0\n",
       "160285    0.0\n",
       "206137    0.0\n",
       "194379    0.0\n",
       "...       ...\n",
       "211233  106.0\n",
       "211232  106.0\n",
       "211243  106.0\n",
       "211230  106.0\n",
       "195318  112.0\n",
       "\n",
       "[28085 rows x 1 columns]"
      ]
     },
     "execution_count": 85,
     "metadata": {},
     "output_type": "execute_result"
    }
   ],
   "source": [
    "df[['c_age']].sort_values(by='c_age') # Исправление ошибок в возрасте"
   ]
  },
  {
   "cell_type": "code",
   "execution_count": 86,
   "metadata": {},
   "outputs": [],
   "source": [
    "df['c_age'] = [value if (value > 18) and (value < 90) else np.NaN for value in df['c_age']]\n",
    "df = df.fillna({'c_age' : df['c_age'].median()}) # Заменяем на медианные значения"
   ]
  },
  {
   "cell_type": "code",
   "execution_count": 87,
   "metadata": {},
   "outputs": [
    {
     "data": {
      "text/html": [
       "<div>\n",
       "<style scoped>\n",
       "    .dataframe tbody tr th:only-of-type {\n",
       "        vertical-align: middle;\n",
       "    }\n",
       "\n",
       "    .dataframe tbody tr th {\n",
       "        vertical-align: top;\n",
       "    }\n",
       "\n",
       "    .dataframe thead th {\n",
       "        text-align: right;\n",
       "    }\n",
       "</style>\n",
       "<table border=\"1\" class=\"dataframe\">\n",
       "  <thead>\n",
       "    <tr style=\"text-align: right;\">\n",
       "      <th></th>\n",
       "      <th>rra_depositsCount</th>\n",
       "    </tr>\n",
       "  </thead>\n",
       "  <tbody>\n",
       "    <tr>\n",
       "      <th>158162</th>\n",
       "      <td>46</td>\n",
       "    </tr>\n",
       "    <tr>\n",
       "      <th>181381</th>\n",
       "      <td>45</td>\n",
       "    </tr>\n",
       "    <tr>\n",
       "      <th>193985</th>\n",
       "      <td>41</td>\n",
       "    </tr>\n",
       "    <tr>\n",
       "      <th>190814</th>\n",
       "      <td>30</td>\n",
       "    </tr>\n",
       "    <tr>\n",
       "      <th>254153</th>\n",
       "      <td>27</td>\n",
       "    </tr>\n",
       "    <tr>\n",
       "      <th>...</th>\n",
       "      <td>...</td>\n",
       "    </tr>\n",
       "    <tr>\n",
       "      <th>191582</th>\n",
       "      <td>0</td>\n",
       "    </tr>\n",
       "    <tr>\n",
       "      <th>191583</th>\n",
       "      <td>0</td>\n",
       "    </tr>\n",
       "    <tr>\n",
       "      <th>155412</th>\n",
       "      <td>0</td>\n",
       "    </tr>\n",
       "    <tr>\n",
       "      <th>191589</th>\n",
       "      <td>0</td>\n",
       "    </tr>\n",
       "    <tr>\n",
       "      <th>185961</th>\n",
       "      <td>0</td>\n",
       "    </tr>\n",
       "  </tbody>\n",
       "</table>\n",
       "<p>28085 rows × 1 columns</p>\n",
       "</div>"
      ],
      "text/plain": [
       "        rra_depositsCount\n",
       "158162                 46\n",
       "181381                 45\n",
       "193985                 41\n",
       "190814                 30\n",
       "254153                 27\n",
       "...                   ...\n",
       "191582                  0\n",
       "191583                  0\n",
       "155412                  0\n",
       "191589                  0\n",
       "185961                  0\n",
       "\n",
       "[28085 rows x 1 columns]"
      ]
     },
     "execution_count": 87,
     "metadata": {},
     "output_type": "execute_result"
    }
   ],
   "source": [
    "df[['rra_depositsCount']].sort_values(by='rra_depositsCount', ascending=False)"
   ]
  },
  {
   "cell_type": "markdown",
   "metadata": {},
   "source": [
    "### 2. Выбрать 4 когорты пользователей, в соотсветствии с 4 неделями сентября и сопоставить их"
   ]
  },
  {
   "cell_type": "code",
   "execution_count": 88,
   "metadata": {},
   "outputs": [
    {
     "name": "stdout",
     "output_type": "stream",
     "text": [
      "2020-09-02 00:09:50 \n",
      " 2020-09-29 23:53:09\n"
     ]
    }
   ],
   "source": [
    "print(df['c_registrationDateAt'].min(),'\\n', df['c_registrationDateAt'].max()) # Размах дат регистрации"
   ]
  },
  {
   "cell_type": "code",
   "execution_count": 89,
   "metadata": {},
   "outputs": [
    {
     "name": "stdout",
     "output_type": "stream",
     "text": [
      "2020-09-01 03:00:00 \n",
      " 2020-12-24 03:00:00\n"
     ]
    }
   ],
   "source": [
    "print(df['rra_dateAt'].min(),'\\n', df['rra_dateAt'].max()) # Размах дат логов действий"
   ]
  },
  {
   "cell_type": "code",
   "execution_count": 90,
   "metadata": {},
   "outputs": [],
   "source": [
    "# Разделение на когорты в соответствии с неделями сентября\n",
    "\n",
    "df.loc[(df['c_registrationDateAt'] >= '2020-09-02') & (df['c_registrationDateAt'] < '2020-09-09'), 'Cohort'] = 'A'\n",
    "df.loc[(df['c_registrationDateAt'] >= '2020-09-09') & (df['c_registrationDateAt'] < '2020-09-16'), 'Cohort'] = 'B'\n",
    "df.loc[(df['c_registrationDateAt'] >= '2020-09-16') & (df['c_registrationDateAt'] < '2020-09-23'), 'Cohort'] = 'C'\n",
    "df.loc[(df['c_registrationDateAt'] >= '2020-09-23') & (df['c_registrationDateAt'] < '2020-09-30'), 'Cohort'] = 'D'"
   ]
  },
  {
   "cell_type": "code",
   "execution_count": 91,
   "metadata": {},
   "outputs": [
    {
     "data": {
      "text/plain": [
       "A    2036\n",
       "B    1605\n",
       "C    1527\n",
       "D    1474\n",
       "Name: Cohort, dtype: int64"
      ]
     },
     "execution_count": 91,
     "metadata": {},
     "output_type": "execute_result"
    }
   ],
   "source": [
    "# Количество пользователей в когортах\n",
    "df__a = df.copy()\n",
    "df_count = df.drop_duplicates(subset=['rra_playerId'])['Cohort'].value_counts()\n",
    "df_count"
   ]
  },
  {
   "cell_type": "code",
   "execution_count": 92,
   "metadata": {},
   "outputs": [
    {
     "data": {
      "image/png": "[encoded data removed]"
     },
     "metadata": {},
     "output_type": "display_data"
    }
   ],
   "source": [
    "fig = px.bar(df_count,\n",
    "       color=df_count.index,\n",
    "        title='Количество пользователей в рассматриваемых когортах', width=800)\n",
    "fig.show(\"png\")"
   ]
  },
  {
   "cell_type": "code",
   "execution_count": 93,
   "metadata": {
    "scrolled": false
   },
   "outputs": [
    {
     "name": "stdout",
     "output_type": "stream",
     "text": [
      "Когорта: A\n",
      "Число пользователей: 2036\n",
      "Количество пользователей, которые зарегистрировались после некоторого времени использования: 971\n",
      "Количество пользователей, которые сначала зарегистрировались, а потом начали использование платформы: 1065\n",
      "Дата регистрации: c 2020-09-02 по 2020-09-08\n",
      "Средний возраст = 33.201\n",
      "Женщицы: 631, мужчины: 1405\n",
      "Количество игроков в странах:\n",
      " {'AU': 803, 'NL': 609, 'NO': 180, 'FI': 120, 'DE': 112, 'CA': 62, 'DK': 39, 'NZ': 26, 'CZ': 13, 'AT': 9}\n",
      "=========================================================================================================\n",
      "Когорта: B\n",
      "Число пользователей: 1605\n",
      "Количество пользователей, которые зарегистрировались после некоторого времени использования: 615\n",
      "Количество пользователей, которые сначала зарегистрировались, а потом начали использование платформы: 990\n",
      "Дата регистрации: c 2020-09-09 по 2020-09-15\n",
      "Средний возраст = 33.474\n",
      "Женщицы: 464, мужчины: 1141\n",
      "Количество игроков в странах:\n",
      " {'AU': 528, 'NL': 503, 'NO': 134, 'FI': 133, 'DE': 130, 'CA': 41, 'CZ': 28, 'CH': 20, 'AT': 16, 'NZ': 16}\n",
      "=========================================================================================================\n",
      "Когорта: C\n",
      "Число пользователей: 1527\n",
      "Количество пользователей, которые зарегистрировались после некоторого времени использования: 629\n",
      "Количество пользователей, которые сначала зарегистрировались, а потом начали использование платформы: 898\n",
      "Дата регистрации: c 2020-09-16 по 2020-09-22\n",
      "Средний возраст = 35.194\n",
      "Женщицы: 455, мужчины: 1072\n",
      "Количество игроков в странах:\n",
      " {'NL': 651, 'AU': 524, 'DE': 90, 'FI': 83, 'NO': 48, 'CA': 43, 'CZ': 24, 'NZ': 15, 'PL': 13, 'CH': 10}\n",
      "=========================================================================================================\n",
      "Когорта: D\n",
      "Число пользователей: 1474\n",
      "Количество пользователей, которые зарегистрировались после некоторого времени использования: 545\n",
      "Количество пользователей, которые сначала зарегистрировались, а потом начали использование платформы: 929\n",
      "Дата регистрации: c 2020-09-23 по 2020-09-29\n",
      "Средний возраст = 34.571\n",
      "Женщицы: 418, мужчины: 1056\n",
      "Количество игроков в странах:\n",
      " {'NL': 671, 'AU': 392, 'FI': 106, 'DE': 105, 'CA': 61, 'NO': 42, 'CZ': 31, 'PL': 14, 'AT': 9, 'NZ': 8}\n",
      "=========================================================================================================\n"
     ]
    }
   ],
   "source": [
    "# Когортный анализ\n",
    "\n",
    "dates = [['2020-09-02', '2020-09-08'],\n",
    "         ['2020-09-09', '2020-09-15'],\n",
    "         ['2020-09-16', '2020-09-22'],\n",
    "         ['2020-09-23', '2020-09-29']]\n",
    "\n",
    "for i,value in enumerate(np.unique(df['Cohort'])):\n",
    "    df_coh = df[df['Cohort'] == value].drop_duplicates(subset='rra_playerId')\n",
    "    d1 = df_coh.groupby(['rra_playerId', 'c_registrationDateAt']).agg({'rra_dateAt' : 'min'}).reset_index()\n",
    "    d2 = d1[d1['c_registrationDateAt'] < d1['rra_dateAt']]\n",
    "    d3 = d1[d1['c_registrationDateAt'] > d1['rra_dateAt']]\n",
    "    mean_age = df_coh['c_age'].mean()\n",
    "    genders = df_coh.groupby('c_gender')['rra_playerId'].count().values\n",
    "    countries = pd.DataFrame(df_coh.groupby('rra_playerCountry')['rra_playerId'].count()) \\\n",
    "                .sort_values(by='rra_playerId', ascending=False).head(10).to_dict()['rra_playerId']\n",
    "    print('Когорта:', value)\n",
    "    print('Число пользователей:', df_coh.shape[0])\n",
    "    print('Количество пользователей, которые зарегистрировались после некоторого времени использования:', d3.shape[0])\n",
    "    print('Количество пользователей, которые сначала зарегистрировались, а потом начали использование платформы:', d2.shape[0])\n",
    "    print('Дата регистрации: c {} по {}'.format(dates[i][0], dates[i][1]))\n",
    "    print('Средний возраст = {}'.format(round(mean_age, 3)))\n",
    "    print('Женщицы: {}, мужчины: {}'.format(genders[0], genders[1]))\n",
    "    print('Количество игроков в странах:\\n', countries)\n",
    "    print('=========================================================================================================')"
   ]
  },
  {
   "cell_type": "markdown",
   "metadata": {},
   "source": [
    "- Больше всего пользователей зарегистрировалось в неделю c 2020-09-02 по 2020-09-08  \n",
    "- Основной контингент из Австралии и Нидерландов\n",
    "- Соотношение женщин и мужчин в каждой когорте примерно одинаковое \n",
    "- Средний возраст от 33 до 35"
   ]
  },
  {
   "cell_type": "markdown",
   "metadata": {},
   "source": [
    "### 3. Вытащить любые инсайты из данных (распределение по полу, возрасту, странам)"
   ]
  },
  {
   "cell_type": "markdown",
   "metadata": {},
   "source": [
    "Рассматриваются пользователи, зарегистрированные в сентябре 2020 - наша генеральная совокупность"
   ]
  },
  {
   "cell_type": "code",
   "execution_count": 94,
   "metadata": {
    "scrolled": false
   },
   "outputs": [
    {
     "data": {
      "image/png": "[encoded data removed]",
      "text/plain": [
       "<Figure size 1440x720 with 1 Axes>"
      ]
     },
     "metadata": {
      "needs_background": "light"
     },
     "output_type": "display_data"
    }
   ],
   "source": [
    "df1 = df.drop_duplicates(subset=['rra_playerId'])\n",
    "countries = df1[df1['rra_brandId'] == '102']['rra_playerCountry'].value_counts()[df1['rra_playerCountry'] \\\n",
    "                                                                                 .value_counts(normalize=True)> 0.001]\n",
    "plt.figure(figsize=(20,10))\n",
    "plt.title(\"Количество пользователей в разрезе стран первой игровой платформы\", fontsize=16)\n",
    "plt.tick_params(labelsize=14)\n",
    "sns.barplot(y=countries.index, x=countries.values, alpha=0.6)\n",
    "plt.show()"
   ]
  },
  {
   "cell_type": "markdown",
   "metadata": {},
   "source": [
    "Большая часть пользователей данной платформы (1) преимущественно из Нидерланд, далее большие по численности 2 группы из Германии и Финляндии"
   ]
  },
  {
   "cell_type": "code",
   "execution_count": 95,
   "metadata": {
    "scrolled": false
   },
   "outputs": [
    {
     "data": {
      "image/png": "[encoded data removed]",
      "text/plain": [
       "<Figure size 1440x720 with 1 Axes>"
      ]
     },
     "metadata": {
      "needs_background": "light"
     },
     "output_type": "display_data"
    }
   ],
   "source": [
    "countries = df1[df1['rra_brandId'] == '99']['rra_playerCountry'].value_counts()[df1['rra_playerCountry'] \\\n",
    "                                                                            .value_counts(normalize=True)> 0.001]\n",
    "plt.figure(figsize=(20,10))\n",
    "plt.title(\"Количество пользователей в разрезе стран второй игровой платформы\", fontsize=16)\n",
    "plt.tick_params(labelsize=14)\n",
    "sns.barplot(y=countries.index, x=countries.values, alpha=0.6)\n",
    "plt.show()"
   ]
  },
  {
   "cell_type": "markdown",
   "metadata": {},
   "source": [
    "Платформа (2) наиболее популярна в Австралии"
   ]
  },
  {
   "cell_type": "code",
   "execution_count": 96,
   "metadata": {
    "scrolled": false
   },
   "outputs": [
    {
     "data": {
      "image/png": "[encoded data removed]",
      "text/plain": [
       "<Figure size 1440x720 with 1 Axes>"
      ]
     },
     "metadata": {
      "needs_background": "light"
     },
     "output_type": "display_data"
    }
   ],
   "source": [
    "genders = df1[df1['rra_brandId'] == '102']['c_gender'].value_counts()[df1['c_gender'].value_counts(normalize=True)> 0.001]\n",
    "plt.figure(figsize=(20,10))\n",
    "plt.title(\"Количество пользователей в разрезе гендера первой игровой платформы\", fontsize=16)\n",
    "plt.tick_params(labelsize=14)\n",
    "sns.barplot(y=genders.index, x=genders.values, alpha=0.6)\n",
    "plt.show()"
   ]
  },
  {
   "cell_type": "markdown",
   "metadata": {},
   "source": [
    "Первая игровая платформа - Преимущественно мужчины"
   ]
  },
  {
   "cell_type": "code",
   "execution_count": 97,
   "metadata": {
    "scrolled": false
   },
   "outputs": [
    {
     "data": {
      "image/png": "[encoded data removed]",
      "text/plain": [
       "<Figure size 1440x720 with 1 Axes>"
      ]
     },
     "metadata": {
      "needs_background": "light"
     },
     "output_type": "display_data"
    }
   ],
   "source": [
    "genders = df1[df1['rra_brandId'] == '99']['c_gender'].value_counts()[df1['c_gender'].value_counts(normalize=True)> 0.001]\n",
    "plt.figure(figsize=(20,10))\n",
    "plt.title(\"Количество пользователей в разрезе гендера второй игровой платформы\", fontsize=16)\n",
    "plt.tick_params(labelsize=14)\n",
    "sns.barplot(y=genders.index, x=genders.values, alpha=0.6)\n",
    "plt.show()"
   ]
  },
  {
   "cell_type": "markdown",
   "metadata": {},
   "source": [
    "Вторая игровая платформа - нельзя сказать о полном доминировании мужчин, женщин больше 50% от числа мужчин"
   ]
  },
  {
   "cell_type": "code",
   "execution_count": 98,
   "metadata": {
    "scrolled": false
   },
   "outputs": [
    {
     "data": {
      "text/plain": [
       "<function matplotlib.pyplot.show(close=None, block=None)>"
      ]
     },
     "execution_count": 98,
     "metadata": {},
     "output_type": "execute_result"
    },
    {
     "data": {
      "image/png": "[encoded data removed]",
      "text/plain": [
       "<Figure size 1080x576 with 1 Axes>"
      ]
     },
     "metadata": {
      "needs_background": "light"
     },
     "output_type": "display_data"
    }
   ],
   "source": [
    "plt.figure(figsize=(15, 8))\n",
    "plt.hist(df['c_age'], bins=25, facecolor='aqua', \n",
    "             alpha=0.7, edgecolor='black')\n",
    "plt.grid(True)\n",
    "plt.xticks(np.arange(0, 127, 5))\n",
    "plt.xlabel('Возраст')\n",
    "plt.ylabel('Количество пользователей')\n",
    "plt.title('Контингент пользователей')\n",
    "plt.show\n"
   ]
  },
  {
   "cell_type": "markdown",
   "metadata": {},
   "source": [
    "Основной контингет пользователей - 20 - 45 лет"
   ]
  },
  {
   "cell_type": "code",
   "execution_count": 99,
   "metadata": {
    "scrolled": false
   },
   "outputs": [
    {
     "data": {
      "image/png": "[encoded data removed]",
      "text/plain": [
       "<Figure size 1440x720 with 1 Axes>"
      ]
     },
     "metadata": {
      "needs_background": "light"
     },
     "output_type": "display_data"
    }
   ],
   "source": [
    "market = df1[df1['rra_brandId'] == '102']['rra_campaignId'].value_counts()[df1['rra_campaignId'] \\\n",
    "                                                                    .value_counts(normalize=True)> 0.001]\n",
    "plt.figure(figsize=(20,10))\n",
    "plt.title(\"Количество пользователей в разрезе м.акций первой игровой платформы\", fontsize=16)\n",
    "plt.tick_params(labelsize=14)\n",
    "sns.barplot(y=market.index, x=market.values, alpha=0.6)\n",
    "plt.show()"
   ]
  },
  {
   "cell_type": "markdown",
   "metadata": {},
   "source": [
    "Основную часть пользователей на первую игровую платформу привлекли 2 акции с указанными номерами"
   ]
  },
  {
   "cell_type": "code",
   "execution_count": 100,
   "metadata": {
    "scrolled": true
   },
   "outputs": [
    {
     "data": {
      "image/png": "[encoded data removed]",
      "text/plain": [
       "<Figure size 1440x720 with 1 Axes>"
      ]
     },
     "metadata": {
      "needs_background": "light"
     },
     "output_type": "display_data"
    }
   ],
   "source": [
    "market = df1[df1['rra_brandId'] == '99']['rra_campaignId'].value_counts()[df1['rra_campaignId'] \\\n",
    "                                                                    .value_counts(normalize=True)> 0.001]\n",
    "plt.figure(figsize=(20,10))\n",
    "plt.title(\"Количество пользователей в разрезе м.акций второй игровой платформы\", fontsize=16)\n",
    "plt.tick_params(labelsize=14)\n",
    "sns.barplot(y=market.index, x=market.values, alpha=0.6)\n",
    "plt.show()"
   ]
  },
  {
   "cell_type": "markdown",
   "metadata": {},
   "source": [
    "Порядка 20 акций привлекли большую часть пользователей, нельзя сказать о полном превосходстве одной акции над другими"
   ]
  },
  {
   "cell_type": "markdown",
   "metadata": {},
   "source": [
    "**Подсчет количества действий пользователей**"
   ]
  },
  {
   "cell_type": "code",
   "execution_count": 101,
   "metadata": {},
   "outputs": [
    {
     "data": {
      "text/plain": [
       "5401974    127\n",
       "5417715    105\n",
       "5476666     93\n",
       "5366780     90\n",
       "5465126     86\n",
       "          ... \n",
       "5459956      1\n",
       "5416884      1\n",
       "5446848      1\n",
       "5608145      1\n",
       "5532646      1\n",
       "Name: rra_playerId, Length: 6642, dtype: int64"
      ]
     },
     "execution_count": 101,
     "metadata": {},
     "output_type": "execute_result"
    }
   ],
   "source": [
    "df['rra_playerId'].value_counts()"
   ]
  },
  {
   "cell_type": "code",
   "execution_count": 102,
   "metadata": {
    "scrolled": false
   },
   "outputs": [
    {
     "data": {
      "text/plain": [
       "<function matplotlib.pyplot.show(close=None, block=None)>"
      ]
     },
     "execution_count": 102,
     "metadata": {},
     "output_type": "execute_result"
    },
    {
     "data": {
      "image/png": "[encoded data removed]",
      "text/plain": [
       "<Figure size 1080x576 with 1 Axes>"
      ]
     },
     "metadata": {
      "needs_background": "light"
     },
     "output_type": "display_data"
    }
   ],
   "source": [
    "plt.figure(figsize=(15, 8))\n",
    "plt.hist(df['rra_playerId'].value_counts(), bins=65, facecolor='m', \n",
    "             alpha=0.7, edgecolor='black')\n",
    "plt.grid(True)\n",
    "plt.xticks(np.arange(0, 127, 5))\n",
    "plt.xlabel('Количество действий')\n",
    "plt.ylabel('Количество пользователей')\n",
    "plt.title('Распределение количества логов (действий пользователей)')\n",
    "plt.show"
   ]
  },
  {
   "cell_type": "markdown",
   "metadata": {},
   "source": [
    "Основная часть пользователей (регистрация-сентябрь) совершила не более 1-4 действий, после чего происходит отток"
   ]
  },
  {
   "cell_type": "markdown",
   "metadata": {},
   "source": [
    "**Максимальные количества суммированных депозитов**"
   ]
  },
  {
   "cell_type": "code",
   "execution_count": 103,
   "metadata": {
    "scrolled": false
   },
   "outputs": [
    {
     "data": {
      "text/html": [
       "<div>\n",
       "<style scoped>\n",
       "    .dataframe tbody tr th:only-of-type {\n",
       "        vertical-align: middle;\n",
       "    }\n",
       "\n",
       "    .dataframe tbody tr th {\n",
       "        vertical-align: top;\n",
       "    }\n",
       "\n",
       "    .dataframe thead th {\n",
       "        text-align: right;\n",
       "    }\n",
       "</style>\n",
       "<table border=\"1\" class=\"dataframe\">\n",
       "  <thead>\n",
       "    <tr style=\"text-align: right;\">\n",
       "      <th></th>\n",
       "      <th></th>\n",
       "      <th></th>\n",
       "      <th>depositsSumEur</th>\n",
       "    </tr>\n",
       "    <tr>\n",
       "      <th>rra_playerId</th>\n",
       "      <th>rra_playerCountry</th>\n",
       "      <th>c_gender</th>\n",
       "      <th></th>\n",
       "    </tr>\n",
       "  </thead>\n",
       "  <tbody>\n",
       "    <tr>\n",
       "      <th>5564627</th>\n",
       "      <th>NL</th>\n",
       "      <th>m</th>\n",
       "      <td>89470.00</td>\n",
       "    </tr>\n",
       "    <tr>\n",
       "      <th>5402759</th>\n",
       "      <th>NL</th>\n",
       "      <th>m</th>\n",
       "      <td>81850.00</td>\n",
       "    </tr>\n",
       "    <tr>\n",
       "      <th>5591992</th>\n",
       "      <th>NL</th>\n",
       "      <th>m</th>\n",
       "      <td>55229.00</td>\n",
       "    </tr>\n",
       "    <tr>\n",
       "      <th>5476666</th>\n",
       "      <th>AU</th>\n",
       "      <th>f</th>\n",
       "      <td>39667.69</td>\n",
       "    </tr>\n",
       "    <tr>\n",
       "      <th>5550147</th>\n",
       "      <th>NL</th>\n",
       "      <th>m</th>\n",
       "      <td>31625.00</td>\n",
       "    </tr>\n",
       "    <tr>\n",
       "      <th>5366780</th>\n",
       "      <th>NL</th>\n",
       "      <th>f</th>\n",
       "      <td>24864.00</td>\n",
       "    </tr>\n",
       "    <tr>\n",
       "      <th>5411214</th>\n",
       "      <th>AU</th>\n",
       "      <th>m</th>\n",
       "      <td>22830.05</td>\n",
       "    </tr>\n",
       "    <tr>\n",
       "      <th>5618510</th>\n",
       "      <th>NL</th>\n",
       "      <th>f</th>\n",
       "      <td>21445.00</td>\n",
       "    </tr>\n",
       "    <tr>\n",
       "      <th>5611058</th>\n",
       "      <th>AU</th>\n",
       "      <th>f</th>\n",
       "      <td>19322.57</td>\n",
       "    </tr>\n",
       "    <tr>\n",
       "      <th>5424924</th>\n",
       "      <th>NL</th>\n",
       "      <th>m</th>\n",
       "      <td>18398.60</td>\n",
       "    </tr>\n",
       "    <tr>\n",
       "      <th>5347720</th>\n",
       "      <th>FI</th>\n",
       "      <th>m</th>\n",
       "      <td>15200.00</td>\n",
       "    </tr>\n",
       "    <tr>\n",
       "      <th>5590224</th>\n",
       "      <th>NL</th>\n",
       "      <th>m</th>\n",
       "      <td>14730.00</td>\n",
       "    </tr>\n",
       "    <tr>\n",
       "      <th>5506862</th>\n",
       "      <th>NL</th>\n",
       "      <th>m</th>\n",
       "      <td>14694.00</td>\n",
       "    </tr>\n",
       "    <tr>\n",
       "      <th>5417715</th>\n",
       "      <th>CA</th>\n",
       "      <th>f</th>\n",
       "      <td>13993.02</td>\n",
       "    </tr>\n",
       "    <tr>\n",
       "      <th>5382995</th>\n",
       "      <th>NL</th>\n",
       "      <th>m</th>\n",
       "      <td>13589.00</td>\n",
       "    </tr>\n",
       "    <tr>\n",
       "      <th>5418388</th>\n",
       "      <th>NL</th>\n",
       "      <th>f</th>\n",
       "      <td>13025.00</td>\n",
       "    </tr>\n",
       "    <tr>\n",
       "      <th>5445531</th>\n",
       "      <th>AU</th>\n",
       "      <th>f</th>\n",
       "      <td>12898.21</td>\n",
       "    </tr>\n",
       "    <tr>\n",
       "      <th>5546052</th>\n",
       "      <th>AU</th>\n",
       "      <th>m</th>\n",
       "      <td>12800.72</td>\n",
       "    </tr>\n",
       "    <tr>\n",
       "      <th>5595470</th>\n",
       "      <th>NL</th>\n",
       "      <th>m</th>\n",
       "      <td>12630.00</td>\n",
       "    </tr>\n",
       "    <tr>\n",
       "      <th>5427927</th>\n",
       "      <th>NL</th>\n",
       "      <th>m</th>\n",
       "      <td>12220.00</td>\n",
       "    </tr>\n",
       "  </tbody>\n",
       "</table>\n",
       "</div>"
      ],
      "text/plain": [
       "                                         depositsSumEur\n",
       "rra_playerId rra_playerCountry c_gender                \n",
       "5564627      NL                m               89470.00\n",
       "5402759      NL                m               81850.00\n",
       "5591992      NL                m               55229.00\n",
       "5476666      AU                f               39667.69\n",
       "5550147      NL                m               31625.00\n",
       "5366780      NL                f               24864.00\n",
       "5411214      AU                m               22830.05\n",
       "5618510      NL                f               21445.00\n",
       "5611058      AU                f               19322.57\n",
       "5424924      NL                m               18398.60\n",
       "5347720      FI                m               15200.00\n",
       "5590224      NL                m               14730.00\n",
       "5506862      NL                m               14694.00\n",
       "5417715      CA                f               13993.02\n",
       "5382995      NL                m               13589.00\n",
       "5418388      NL                f               13025.00\n",
       "5445531      AU                f               12898.21\n",
       "5546052      AU                m               12800.72\n",
       "5595470      NL                m               12630.00\n",
       "5427927      NL                m               12220.00"
      ]
     },
     "execution_count": 103,
     "metadata": {},
     "output_type": "execute_result"
    }
   ],
   "source": [
    "df.groupby(['rra_playerId','rra_playerCountry', 'c_gender']).agg({'depositsSumEur' : 'sum'}) \\\n",
    "        .sort_values(by='depositsSumEur', ascending=False).head(20)"
   ]
  },
  {
   "cell_type": "markdown",
   "metadata": {},
   "source": [
    "Преимущественно аудитория из Нидерланд и Австралии"
   ]
  },
  {
   "cell_type": "markdown",
   "metadata": {},
   "source": [
    "### 4. Рассчитать основные метрики (ARPU, удержание, LTV и т.п.)"
   ]
  },
  {
   "cell_type": "markdown",
   "metadata": {},
   "source": [
    "**ARPU**"
   ]
  },
  {
   "cell_type": "code",
   "execution_count": 104,
   "metadata": {},
   "outputs": [
    {
     "data": {
      "text/plain": [
       "Time    \n",
       "03:00:00    28085\n",
       "dtype: int64"
      ]
     },
     "execution_count": 104,
     "metadata": {},
     "output_type": "execute_result"
    }
   ],
   "source": [
    "arpu_df = df.copy()\n",
    "arpu_df['Time'] = arpu_df['rra_dateAt'].dt.time # Время логов\n",
    "pd.DataFrame(arpu_df['Time']).value_counts()"
   ]
  },
  {
   "cell_type": "code",
   "execution_count": 105,
   "metadata": {},
   "outputs": [
    {
     "data": {
      "text/html": [
       "<div>\n",
       "<style scoped>\n",
       "    .dataframe tbody tr th:only-of-type {\n",
       "        vertical-align: middle;\n",
       "    }\n",
       "\n",
       "    .dataframe tbody tr th {\n",
       "        vertical-align: top;\n",
       "    }\n",
       "\n",
       "    .dataframe thead th {\n",
       "        text-align: right;\n",
       "    }\n",
       "</style>\n",
       "<table border=\"1\" class=\"dataframe\">\n",
       "  <thead>\n",
       "    <tr style=\"text-align: right;\">\n",
       "      <th></th>\n",
       "      <th>rra_id</th>\n",
       "      <th>rra_playerId</th>\n",
       "      <th>rra_dateAt</th>\n",
       "      <th>rra_partnerId</th>\n",
       "      <th>rra_brandId</th>\n",
       "      <th>rra_campaignId</th>\n",
       "      <th>rra_playerCountry</th>\n",
       "      <th>rra_registrationsCount</th>\n",
       "      <th>rra_depositsCount</th>\n",
       "      <th>firstDepositsSumEur</th>\n",
       "      <th>depositsSumEur</th>\n",
       "      <th>c_registrationDateAt</th>\n",
       "      <th>c_gender</th>\n",
       "      <th>c_age</th>\n",
       "      <th>Cohort</th>\n",
       "      <th>Time</th>\n",
       "    </tr>\n",
       "  </thead>\n",
       "  <tbody>\n",
       "  </tbody>\n",
       "</table>\n",
       "</div>"
      ],
      "text/plain": [
       "Empty DataFrame\n",
       "Columns: [rra_id, rra_playerId, rra_dateAt, rra_partnerId, rra_brandId, rra_campaignId, rra_playerCountry, rra_registrationsCount, rra_depositsCount, firstDepositsSumEur, depositsSumEur, c_registrationDateAt, c_gender, c_age, Cohort, Time]\n",
       "Index: []"
      ]
     },
     "execution_count": 105,
     "metadata": {},
     "output_type": "execute_result"
    }
   ],
   "source": [
    "arpu_df[(arpu_df['rra_depositsCount'] == 0) & (arpu_df['depositsSumEur'] != 0)] \n",
    "\n",
    "# Проверка условия, что у записей , где пользователи с нулевым количеством взносов - отсутсвует депозит"
   ]
  },
  {
   "cell_type": "code",
   "execution_count": 106,
   "metadata": {},
   "outputs": [],
   "source": [
    "rev = arpu_df.groupby('rra_playerId')['depositsSumEur'].sum().sum() # Суммарный доход за все время"
   ]
  },
  {
   "cell_type": "code",
   "execution_count": 107,
   "metadata": {},
   "outputs": [],
   "source": [
    "users = df.drop_duplicates(subset=['rra_playerId']).shape[0] # Количество уникальных пользователей за все время"
   ]
  },
  {
   "cell_type": "code",
   "execution_count": 108,
   "metadata": {
    "scrolled": false
   },
   "outputs": [
    {
     "name": "stdout",
     "output_type": "stream",
     "text": [
      "ARPU: 289.09221168322796\n"
     ]
    }
   ],
   "source": [
    "arpu_total = rev  / users # ARPU за все время\n",
    "print('ARPU:', arpu_total)"
   ]
  },
  {
   "cell_type": "markdown",
   "metadata": {},
   "source": [
    "**ARPPU**"
   ]
  },
  {
   "cell_type": "code",
   "execution_count": 109,
   "metadata": {
    "scrolled": true
   },
   "outputs": [
    {
     "name": "stdout",
     "output_type": "stream",
     "text": [
      "Количество уникальных пользователей: 6642\n",
      "Количество записей о первом депозите : 6642\n"
     ]
    }
   ],
   "source": [
    "# У всех пользователей имеется запись первого депозита - первый вход в игру, отнести к платящим всех нет смысла\n",
    "# Выбираются все записи, кроме первого депозита, где пользователи вносили средства на счет\n",
    "\n",
    "print('Количество уникальных пользователей:', df.drop_duplicates(subset=['rra_playerId']).shape[0])\n",
    "print('Количество записей о первом депозите :', df[df['firstDepositsSumEur'] > 0].shape[0])"
   ]
  },
  {
   "cell_type": "code",
   "execution_count": 110,
   "metadata": {
    "scrolled": false
   },
   "outputs": [
    {
     "name": "stdout",
     "output_type": "stream",
     "text": [
      "6642 6642\n"
     ]
    }
   ],
   "source": [
    "# Выбираем для каждого пользователя первую запись (df1)\n",
    "# Далее выбираем записи первых депозитов (df3)\n",
    "# Соединяем оба массива и проверяем где совпадают обе даты\n",
    "\n",
    "df1 = df.groupby('rra_playerId').agg({'rra_dateAt':'min'})\n",
    "df2 = df[df['firstDepositsSumEur'] > 0][['rra_playerId', 'rra_dateAt']]\n",
    "df3 = df1.merge(df2, on='rra_playerId')\n",
    "\n",
    "print(df3.shape[0], df3[df3['rra_dateAt_x'] == df3['rra_dateAt_y']].shape[0])"
   ]
  },
  {
   "cell_type": "markdown",
   "metadata": {},
   "source": [
    "Можно сделать вывод, что при первом заходе пользователю необходимо внести депозит для использования платформы"
   ]
  },
  {
   "cell_type": "code",
   "execution_count": 111,
   "metadata": {},
   "outputs": [],
   "source": [
    "# Выбираются все записи, кроме первого депозита, где пользователи вносили средства на счет и рассматриваются как платящие\n",
    "\n",
    "p_users = arpu_df[(arpu_df['firstDepositsSumEur'] == 0) & (arpu_df['depositsSumEur']!= 0)]\n",
    "p_users = pd.DataFrame(p_users.groupby('rra_playerId')['depositsSumEur'].sum())\n",
    "p_users_count = len(p_users) # Количество уникальных платящих пользователей за все время"
   ]
  },
  {
   "cell_type": "code",
   "execution_count": 112,
   "metadata": {
    "scrolled": false
   },
   "outputs": [
    {
     "name": "stdout",
     "output_type": "stream",
     "text": [
      "ARPPU: 812.5901269572577\n"
     ]
    }
   ],
   "source": [
    "arppu = rev / p_users_count # ARPPU за все время\n",
    "print('ARPPU:', arppu)"
   ]
  },
  {
   "cell_type": "markdown",
   "metadata": {},
   "source": [
    "**DAU**"
   ]
  },
  {
   "cell_type": "code",
   "execution_count": 113,
   "metadata": {},
   "outputs": [
    {
     "name": "stdout",
     "output_type": "stream",
     "text": [
      "DAU: 242.896\n"
     ]
    }
   ],
   "source": [
    "dau_df = df.copy()\n",
    "dau_df['Date'] = dau_df['rra_dateAt'].dt.date # Доп. колонка даты без времени\n",
    "dau = dau_df.groupby('Date').agg({'rra_playerId': 'nunique'}) # Подсчет уникальных пользоваталей за день\n",
    "users_sum = dau.sum() # Всего уникальных пользователей за все дни\n",
    "days = dau.shape[0] # Количество дней в выгрузке\n",
    "\n",
    "dau = users_sum / days # Средний DAU за все дни\n",
    "print('DAU:',round(dau[0], 3))\n"
   ]
  },
  {
   "cell_type": "markdown",
   "metadata": {},
   "source": [
    "**ARPDAU**"
   ]
  },
  {
   "cell_type": "code",
   "execution_count": 114,
   "metadata": {},
   "outputs": [
    {
     "name": "stdout",
     "output_type": "stream",
     "text": [
      "ARPDAU: 82.855\n"
     ]
    }
   ],
   "source": [
    "arpdau_df = df.copy()\n",
    "arpdau_df['Date'] = arpdau_df['rra_dateAt'].dt.date\n",
    "\n",
    "# Записи группируются по дате (дню), суммируется доход + считается количество уникальных пользователей за день\n",
    "arpdau = arpdau_df.groupby('Date').agg({'depositsSumEur': 'sum', 'rra_playerId': 'nunique'})\n",
    "arpdau['ARPDAU'] = arpdau['depositsSumEur'] / arpdau['rra_playerId'] # ARPDAU за каждый день\n",
    "print('ARPDAU:', arpdau['ARPDAU'].mean().round(3)) # Средний ARPDAU рассматриваемого промежутка"
   ]
  },
  {
   "cell_type": "code",
   "execution_count": 115,
   "metadata": {},
   "outputs": [
    {
     "data": {
      "text/html": [
       "<div>\n",
       "<style scoped>\n",
       "    .dataframe tbody tr th:only-of-type {\n",
       "        vertical-align: middle;\n",
       "    }\n",
       "\n",
       "    .dataframe tbody tr th {\n",
       "        vertical-align: top;\n",
       "    }\n",
       "\n",
       "    .dataframe thead th {\n",
       "        text-align: right;\n",
       "    }\n",
       "</style>\n",
       "<table border=\"1\" class=\"dataframe\">\n",
       "  <thead>\n",
       "    <tr style=\"text-align: right;\">\n",
       "      <th></th>\n",
       "      <th>depositsSumEur</th>\n",
       "      <th>rra_playerId</th>\n",
       "      <th>ARPDAU</th>\n",
       "    </tr>\n",
       "    <tr>\n",
       "      <th>Date</th>\n",
       "      <th></th>\n",
       "      <th></th>\n",
       "      <th></th>\n",
       "    </tr>\n",
       "  </thead>\n",
       "  <tbody>\n",
       "    <tr>\n",
       "      <th>2020-09-01</th>\n",
       "      <td>745.80</td>\n",
       "      <td>26</td>\n",
       "      <td>28.684615</td>\n",
       "    </tr>\n",
       "    <tr>\n",
       "      <th>2020-09-02</th>\n",
       "      <td>14574.67</td>\n",
       "      <td>296</td>\n",
       "      <td>49.238750</td>\n",
       "    </tr>\n",
       "    <tr>\n",
       "      <th>2020-09-03</th>\n",
       "      <td>18250.19</td>\n",
       "      <td>367</td>\n",
       "      <td>49.728038</td>\n",
       "    </tr>\n",
       "    <tr>\n",
       "      <th>2020-09-04</th>\n",
       "      <td>30970.86</td>\n",
       "      <td>401</td>\n",
       "      <td>77.234065</td>\n",
       "    </tr>\n",
       "    <tr>\n",
       "      <th>2020-09-05</th>\n",
       "      <td>19304.85</td>\n",
       "      <td>356</td>\n",
       "      <td>54.227107</td>\n",
       "    </tr>\n",
       "    <tr>\n",
       "      <th>...</th>\n",
       "      <td>...</td>\n",
       "      <td>...</td>\n",
       "      <td>...</td>\n",
       "    </tr>\n",
       "    <tr>\n",
       "      <th>2020-12-20</th>\n",
       "      <td>9689.25</td>\n",
       "      <td>79</td>\n",
       "      <td>122.648734</td>\n",
       "    </tr>\n",
       "    <tr>\n",
       "      <th>2020-12-21</th>\n",
       "      <td>8583.74</td>\n",
       "      <td>75</td>\n",
       "      <td>114.449867</td>\n",
       "    </tr>\n",
       "    <tr>\n",
       "      <th>2020-12-22</th>\n",
       "      <td>7157.59</td>\n",
       "      <td>83</td>\n",
       "      <td>86.236024</td>\n",
       "    </tr>\n",
       "    <tr>\n",
       "      <th>2020-12-23</th>\n",
       "      <td>9912.87</td>\n",
       "      <td>102</td>\n",
       "      <td>97.185000</td>\n",
       "    </tr>\n",
       "    <tr>\n",
       "      <th>2020-12-24</th>\n",
       "      <td>4906.24</td>\n",
       "      <td>76</td>\n",
       "      <td>64.555789</td>\n",
       "    </tr>\n",
       "  </tbody>\n",
       "</table>\n",
       "<p>115 rows × 3 columns</p>\n",
       "</div>"
      ],
      "text/plain": [
       "            depositsSumEur  rra_playerId      ARPDAU\n",
       "Date                                                \n",
       "2020-09-01          745.80            26   28.684615\n",
       "2020-09-02        14574.67           296   49.238750\n",
       "2020-09-03        18250.19           367   49.728038\n",
       "2020-09-04        30970.86           401   77.234065\n",
       "2020-09-05        19304.85           356   54.227107\n",
       "...                    ...           ...         ...\n",
       "2020-12-20         9689.25            79  122.648734\n",
       "2020-12-21         8583.74            75  114.449867\n",
       "2020-12-22         7157.59            83   86.236024\n",
       "2020-12-23         9912.87           102   97.185000\n",
       "2020-12-24         4906.24            76   64.555789\n",
       "\n",
       "[115 rows x 3 columns]"
      ]
     },
     "execution_count": 115,
     "metadata": {},
     "output_type": "execute_result"
    }
   ],
   "source": [
    "arpdau"
   ]
  },
  {
   "cell_type": "markdown",
   "metadata": {},
   "source": [
    "## Retention ##  \n",
    "\n",
    "Все показатели Retention считаются для дня регистрации"
   ]
  },
  {
   "cell_type": "code",
   "execution_count": 116,
   "metadata": {},
   "outputs": [
    {
     "data": {
      "text/html": [
       "<div>\n",
       "<style scoped>\n",
       "    .dataframe tbody tr th:only-of-type {\n",
       "        vertical-align: middle;\n",
       "    }\n",
       "\n",
       "    .dataframe tbody tr th {\n",
       "        vertical-align: top;\n",
       "    }\n",
       "\n",
       "    .dataframe thead th {\n",
       "        text-align: right;\n",
       "    }\n",
       "</style>\n",
       "<table border=\"1\" class=\"dataframe\">\n",
       "  <thead>\n",
       "    <tr style=\"text-align: right;\">\n",
       "      <th></th>\n",
       "      <th>1-day_retention</th>\n",
       "      <th>7-days_retention</th>\n",
       "      <th>14-days_retention</th>\n",
       "      <th>30-days_retention</th>\n",
       "    </tr>\n",
       "  </thead>\n",
       "  <tbody>\n",
       "    <tr>\n",
       "      <th>A</th>\n",
       "      <td>NaN</td>\n",
       "      <td>NaN</td>\n",
       "      <td>NaN</td>\n",
       "      <td>NaN</td>\n",
       "    </tr>\n",
       "    <tr>\n",
       "      <th>B</th>\n",
       "      <td>NaN</td>\n",
       "      <td>NaN</td>\n",
       "      <td>NaN</td>\n",
       "      <td>NaN</td>\n",
       "    </tr>\n",
       "    <tr>\n",
       "      <th>C</th>\n",
       "      <td>NaN</td>\n",
       "      <td>NaN</td>\n",
       "      <td>NaN</td>\n",
       "      <td>NaN</td>\n",
       "    </tr>\n",
       "    <tr>\n",
       "      <th>D</th>\n",
       "      <td>NaN</td>\n",
       "      <td>NaN</td>\n",
       "      <td>NaN</td>\n",
       "      <td>NaN</td>\n",
       "    </tr>\n",
       "  </tbody>\n",
       "</table>\n",
       "</div>"
      ],
      "text/plain": [
       "  1-day_retention 7-days_retention 14-days_retention 30-days_retention\n",
       "A             NaN              NaN               NaN               NaN\n",
       "B             NaN              NaN               NaN               NaN\n",
       "C             NaN              NaN               NaN               NaN\n",
       "D             NaN              NaN               NaN               NaN"
      ]
     },
     "execution_count": 116,
     "metadata": {},
     "output_type": "execute_result"
    }
   ],
   "source": [
    "# Пустой массив для результатов расчетов\n",
    "\n",
    "ret_df = pd.DataFrame(index=['A', 'B', 'C', 'D'], \n",
    "                      columns=[\"1-day_retention\", \"7-days_retention\", \"14-days_retention\", \"30-days_retention\"])\n",
    "ret_df "
   ]
  },
  {
   "cell_type": "markdown",
   "metadata": {},
   "source": [
    "**1-day Retention**"
   ]
  },
  {
   "cell_type": "code",
   "execution_count": 117,
   "metadata": {
    "scrolled": true
   },
   "outputs": [
    {
     "name": "stdout",
     "output_type": "stream",
     "text": [
      "Cohort - A, 1-day Retention = 26.08%\n",
      "Cohort - B, 1-day Retention = 25.61%\n",
      "Cohort - C, 1-day Retention = 27.44%\n",
      "Cohort - D, 1-day Retention = 29.04%\n"
     ]
    }
   ],
   "source": [
    "# Колонка с датой следующего после регистрации дня\n",
    "\n",
    "df['reg + 1 day'] = df['c_registrationDateAt'].dt.date + datetime.timedelta(days=1)\n",
    "\n",
    "one_day = []\n",
    "for value in np.unique(df['Cohort']): # Цикл по когортам\n",
    "    retention = df[df['Cohort'] == value][df['reg + 1 day'] == df['rra_dateAt'].dt.date] \\\n",
    "            .drop_duplicates(subset='rra_playerId').shape[0] / \\\n",
    "            df[df['Cohort'] == value].drop_duplicates(subset='rra_playerId').shape[0]\n",
    "    print('Cohort - {}, 1-day Retention = {}%'.format(value, round(retention * 100, 2)))\n",
    "    one_day.append(retention)\n",
    "\n",
    "# Проверка логов, где дата записи совпадает с датой следующего после регистрации дня\n",
    "# В цикле для каждой когорты вычисляется количество зашедших на следующий после регистрации день,\n",
    "# и делится на общее количество уникальных пользователей в когорте\n",
    "\n",
    "    \n",
    "ret_df['1-day_retention'] = one_day  "
   ]
  },
  {
   "cell_type": "code",
   "execution_count": 118,
   "metadata": {},
   "outputs": [
    {
     "name": "stdout",
     "output_type": "stream",
     "text": [
      "Total 1-day Retention = 26.93%\n"
     ]
    }
   ],
   "source": [
    "total_ret = df[df['reg + 1 day'] == df['rra_dateAt'].dt.date] \\\n",
    "    .drop_duplicates(subset='rra_playerId').shape[0] / df.drop_duplicates(subset='rra_playerId').shape[0]\n",
    "print('Total 1-day Retention = {}%'.format(round(total_ret * 100, 2)))"
   ]
  },
  {
   "cell_type": "markdown",
   "metadata": {},
   "source": [
    "**7-day Retention**"
   ]
  },
  {
   "cell_type": "code",
   "execution_count": 119,
   "metadata": {},
   "outputs": [
    {
     "name": "stdout",
     "output_type": "stream",
     "text": [
      "Cohort - C, 7-day Retention = 9.5%\n",
      "Cohort - D, 7-day Retention = 8.96%\n",
      "Cohort - B, 7-day Retention = 9.16%\n",
      "Cohort - A, 7-day Retention = 7.17%\n"
     ]
    }
   ],
   "source": [
    "df['reg + 7 days'] = df['c_registrationDateAt'].dt.date + datetime.timedelta(days=7)\n",
    "\n",
    "seven_days = []\n",
    "for value in df['Cohort'].unique():\n",
    "    retention = df[df['Cohort'] == value][df['reg + 7 days'] == df['rra_dateAt'].dt.date] \\\n",
    "                .drop_duplicates(subset='rra_playerId').shape[0] / df[df['Cohort'] == value] \\\n",
    "                .drop_duplicates(subset='rra_playerId').shape[0]\n",
    "    print('Cohort - {}, 7-day Retention = {}%'.format(value, round(retention * 100, 2)))\n",
    "    seven_days.append(retention)\n",
    "    \n",
    "ret_df['7-days_retention'] = seven_days "
   ]
  },
  {
   "cell_type": "code",
   "execution_count": 120,
   "metadata": {},
   "outputs": [
    {
     "name": "stdout",
     "output_type": "stream",
     "text": [
      "Total 7-day Retention = 8.58%\n"
     ]
    }
   ],
   "source": [
    "total_ret = df[df['reg + 7 days'] == df['rra_dateAt'].dt.date] \\\n",
    "                .drop_duplicates(subset='rra_playerId').shape[0] \\\n",
    "                    / df.drop_duplicates(subset='rra_playerId').shape[0]\n",
    "print('Total 7-day Retention = {}%'.format(round(total_ret * 100, 2)))"
   ]
  },
  {
   "cell_type": "code",
   "execution_count": 121,
   "metadata": {},
   "outputs": [
    {
     "name": "stdout",
     "output_type": "stream",
     "text": [
      "Total 7-day Retention = 8.58%\n"
     ]
    }
   ],
   "source": [
    "total_ret = df[df['reg + 7 days'] == df['rra_dateAt'].dt.date] \\\n",
    "                .drop_duplicates(subset='rra_playerId').shape[0] \\\n",
    "                    / df.drop_duplicates(subset='rra_playerId').shape[0]\n",
    "print('Total 7-day Retention = {}%'.format(round(total_ret * 100, 2)))"
   ]
  },
  {
   "cell_type": "markdown",
   "metadata": {},
   "source": [
    "**14-day Retention**"
   ]
  },
  {
   "cell_type": "code",
   "execution_count": 122,
   "metadata": {},
   "outputs": [
    {
     "name": "stdout",
     "output_type": "stream",
     "text": [
      "Cohort - C, 14-day Retention = 7.79%\n",
      "Cohort - D, 14-day Retention = 6.31%\n",
      "Cohort - B, 14-day Retention = 7.17%\n",
      "Cohort - A, 14-day Retention = 7.37%\n"
     ]
    }
   ],
   "source": [
    "df['reg + 14 days'] = df['c_registrationDateAt'].dt.date + datetime.timedelta(days=14)\n",
    "\n",
    "fourteen_days = []\n",
    "for value in df['Cohort'].unique():\n",
    "    retention = df[df['Cohort'] == value][df['reg + 14 days'] == df['rra_dateAt'].dt.date] \\\n",
    "    .drop_duplicates(subset='rra_playerId').shape[0] / df[df['Cohort'] == value] \\\n",
    "        .drop_duplicates(subset='rra_playerId').shape[0]\n",
    "    print('Cohort - {}, 14-day Retention = {}%'.format(value, round(retention * 100, 2)))\n",
    "    fourteen_days.append(retention)\n",
    "\n",
    "ret_df['14-days_retention'] = fourteen_days"
   ]
  },
  {
   "cell_type": "code",
   "execution_count": 123,
   "metadata": {},
   "outputs": [
    {
     "name": "stdout",
     "output_type": "stream",
     "text": [
      "Total 14-day Retention = 7.18%\n"
     ]
    }
   ],
   "source": [
    "total_ret14 = df[df['reg + 14 days'] == df['rra_dateAt'].dt.date] \\\n",
    "                .drop_duplicates(subset='rra_playerId').shape[0] \\\n",
    "                    / df.drop_duplicates(subset='rra_playerId').shape[0]\n",
    "print('Total 14-day Retention = {}%'.format(round(total_ret14 * 100, 2)))"
   ]
  },
  {
   "cell_type": "markdown",
   "metadata": {},
   "source": [
    "**30-day Retention**"
   ]
  },
  {
   "cell_type": "code",
   "execution_count": 124,
   "metadata": {},
   "outputs": [
    {
     "name": "stdout",
     "output_type": "stream",
     "text": [
      "Cohort - C, 30-day Retention = 3.27%\n",
      "Cohort - D, 30-day Retention = 2.65%\n",
      "Cohort - B, 30-day Retention = 2.8%\n",
      "Cohort - A, 30-day Retention = 2.6%\n"
     ]
    }
   ],
   "source": [
    "df['reg + 30 days'] = df['c_registrationDateAt'].dt.date + datetime.timedelta(days=30)\n",
    "\n",
    "thirty_days = []\n",
    "for value in df['Cohort'].unique():\n",
    "    retention = df[df['Cohort'] == value][df['reg + 30 days'] == df['rra_dateAt'].dt.date] \\\n",
    "                        .drop_duplicates(subset='rra_playerId').shape[0] / df[df['Cohort'] == value] \\\n",
    "                            .drop_duplicates(subset='rra_playerId').shape[0]\n",
    "    print('Cohort - {}, 30-day Retention = {}%'.format(value, round(retention * 100, 2)))\n",
    "    thirty_days.append(retention)\n",
    "    \n",
    "ret_df['30-days_retention'] = thirty_days"
   ]
  },
  {
   "cell_type": "code",
   "execution_count": 125,
   "metadata": {},
   "outputs": [
    {
     "name": "stdout",
     "output_type": "stream",
     "text": [
      "Total 30-day Retention = 2.82%\n"
     ]
    }
   ],
   "source": [
    "total_ret = df[df['reg + 30 days'] == df['rra_dateAt'].dt.date] \\\n",
    "            .drop_duplicates(subset='rra_playerId').shape[0] \\\n",
    "                / df.drop_duplicates(subset='rra_playerId').shape[0]\n",
    "print('Total 30-day Retention = {}%'.format(round(total_ret * 100, 2)))"
   ]
  },
  {
   "cell_type": "code",
   "execution_count": 126,
   "metadata": {},
   "outputs": [
    {
     "data": {
      "text/html": [
       "<div>\n",
       "<style scoped>\n",
       "    .dataframe tbody tr th:only-of-type {\n",
       "        vertical-align: middle;\n",
       "    }\n",
       "\n",
       "    .dataframe tbody tr th {\n",
       "        vertical-align: top;\n",
       "    }\n",
       "\n",
       "    .dataframe thead th {\n",
       "        text-align: right;\n",
       "    }\n",
       "</style>\n",
       "<table border=\"1\" class=\"dataframe\">\n",
       "  <thead>\n",
       "    <tr style=\"text-align: right;\">\n",
       "      <th></th>\n",
       "      <th>1-day_retention</th>\n",
       "      <th>7-days_retention</th>\n",
       "      <th>14-days_retention</th>\n",
       "      <th>30-days_retention</th>\n",
       "    </tr>\n",
       "  </thead>\n",
       "  <tbody>\n",
       "    <tr>\n",
       "      <th>A</th>\n",
       "      <td>0.260806</td>\n",
       "      <td>0.094957</td>\n",
       "      <td>0.077931</td>\n",
       "      <td>0.032744</td>\n",
       "    </tr>\n",
       "    <tr>\n",
       "      <th>B</th>\n",
       "      <td>0.256075</td>\n",
       "      <td>0.089552</td>\n",
       "      <td>0.063094</td>\n",
       "      <td>0.026459</td>\n",
       "    </tr>\n",
       "    <tr>\n",
       "      <th>C</th>\n",
       "      <td>0.274394</td>\n",
       "      <td>0.091589</td>\n",
       "      <td>0.071651</td>\n",
       "      <td>0.028037</td>\n",
       "    </tr>\n",
       "    <tr>\n",
       "      <th>D</th>\n",
       "      <td>0.290366</td>\n",
       "      <td>0.071709</td>\n",
       "      <td>0.073674</td>\n",
       "      <td>0.026031</td>\n",
       "    </tr>\n",
       "  </tbody>\n",
       "</table>\n",
       "</div>"
      ],
      "text/plain": [
       "   1-day_retention  7-days_retention  14-days_retention  30-days_retention\n",
       "A         0.260806          0.094957           0.077931           0.032744\n",
       "B         0.256075          0.089552           0.063094           0.026459\n",
       "C         0.274394          0.091589           0.071651           0.028037\n",
       "D         0.290366          0.071709           0.073674           0.026031"
      ]
     },
     "execution_count": 126,
     "metadata": {},
     "output_type": "execute_result"
    }
   ],
   "source": [
    "ret_df # Retention по когортам"
   ]
  },
  {
   "cell_type": "code",
   "execution_count": 127,
   "metadata": {
    "scrolled": false
   },
   "outputs": [
    {
     "data": {
      "text/plain": [
       "<function matplotlib.pyplot.show(close=None, block=None)>"
      ]
     },
     "execution_count": 127,
     "metadata": {},
     "output_type": "execute_result"
    },
    {
     "data": {
      "image/png": "[encoded data removed]",
      "text/plain": [
       "<Figure size 1440x720 with 1 Axes>"
      ]
     },
     "metadata": {
      "needs_background": "light"
     },
     "output_type": "display_data"
    }
   ],
   "source": [
    "plt.figure(figsize=(20, 10))\n",
    "colors = ['blue', 'green', 'red', 'orange']\n",
    "plt.style.use('ggplot')\n",
    "\n",
    "for i, value in enumerate(df['Cohort'].unique()):\n",
    "    plt.plot(ret_df.loc[value, :], 'go-', label='Cohort:{}'.format(value), color=colors[i])\n",
    "plt.yticks(np.arange(0, 0.31, 0.02))  \n",
    "plt.legend()\n",
    "plt.title('Retentions по когортам')\n",
    "plt.show"
   ]
  },
  {
   "cell_type": "markdown",
   "metadata": {},
   "source": [
    "**Общий Retention для 1-30 дня**"
   ]
  },
  {
   "cell_type": "code",
   "execution_count": 128,
   "metadata": {
    "scrolled": false
   },
   "outputs": [
    {
     "name": "stdout",
     "output_type": "stream",
     "text": [
      "Retention 1 = 26.93%\n",
      "Retention 2 = 16.59%\n",
      "Retention 3 = 12.48%\n",
      "Retention 4 = 10.87%\n",
      "Retention 5 = 8.99%\n",
      "Retention 6 = 7.95%\n",
      "Retention 7 = 8.58%\n",
      "Retention 8 = 14.05%\n",
      "Retention 9 = 7.21%\n",
      "Retention 10 = 6.82%\n",
      "Retention 11 = 5.95%\n",
      "Retention 12 = 5.57%\n",
      "Retention 13 = 5.01%\n",
      "Retention 14 = 7.18%\n",
      "Retention 15 = 18.96%\n",
      "Retention 16 = 5.25%\n",
      "Retention 17 = 4.52%\n",
      "Retention 18 = 4.64%\n",
      "Retention 19 = 4.2%\n",
      "Retention 20 = 4.14%\n",
      "Retention 21 = 4.16%\n",
      "Retention 22 = 4.05%\n",
      "Retention 23 = 3.55%\n",
      "Retention 24 = 3.43%\n",
      "Retention 25 = 3.27%\n",
      "Retention 26 = 3.45%\n",
      "Retention 27 = 3.19%\n",
      "Retention 28 = 3.37%\n",
      "Retention 29 = 3.0%\n",
      "Retention 30 = 2.82%\n"
     ]
    }
   ],
   "source": [
    "df3 = df.copy()\n",
    "retentions_index = []\n",
    "retentions_val = []\n",
    "\n",
    "for i in range(1, 31):\n",
    "    df3['reg + {} days'.format(i)] = df3['c_registrationDateAt'].dt.date + datetime.timedelta(days=i)\n",
    " \n",
    "    retention = df3[df3['reg + {} days'.format(i)] == df3['rra_dateAt'].dt.date] \\\n",
    "            .drop_duplicates(subset='rra_playerId').shape[0] / df3.drop_duplicates(subset='rra_playerId').shape[0]\n",
    "    print('Retention {} = {}%'.format(i, round(retention * 100, 2)))\n",
    "    retentions_index.append('R{}'.format(i))\n",
    "    retentions_val.append(retention)\n",
    "    \n"
   ]
  },
  {
   "cell_type": "code",
   "execution_count": 129,
   "metadata": {
    "scrolled": false
   },
   "outputs": [
    {
     "data": {
      "text/plain": [
       "<function matplotlib.pyplot.show(close=None, block=None)>"
      ]
     },
     "execution_count": 129,
     "metadata": {},
     "output_type": "execute_result"
    },
    {
     "data": {
      "image/png": "[encoded data removed]",
      "text/plain": [
       "<Figure size 1080x720 with 1 Axes>"
      ]
     },
     "metadata": {},
     "output_type": "display_data"
    }
   ],
   "source": [
    "plt.figure(figsize=(15, 10))\n",
    "\n",
    "plt.style.use('ggplot')\n",
    "plt.plot(retentions_index, retentions_val,'go-', color='red')\n",
    "plt.xlabel('Retentions')\n",
    "plt.ylabel('values')\n",
    "plt.yticks(np.arange(0, 0.31, 0.02)) \n",
    "plt.title('Retentions 1-30 days')\n",
    "plt.show"
   ]
  },
  {
   "cell_type": "markdown",
   "metadata": {},
   "source": [
    "На 8-ой и 15-ый день - резкое увеличение Retention - возможно в этот день были акции или рассылка push-уведомлений, в остальном график более чем похож на стандартный график Retention"
   ]
  },
  {
   "cell_type": "code",
   "execution_count": 130,
   "metadata": {
    "scrolled": false
   },
   "outputs": [
    {
     "data": {
      "image/png": "[encoded data removed]",
      "text/plain": [
       "<Figure size 1080x720 with 1 Axes>"
      ]
     },
     "metadata": {},
     "output_type": "display_data"
    }
   ],
   "source": [
    "plt.figure(figsize=(15, 10))\n",
    "plt.style.use('ggplot')\n",
    "colors = ['red', 'green','blue','yellow']\n",
    "for k, value in enumerate(['A', 'B', 'C', 'D']):\n",
    "    df4 = df__a.copy()\n",
    "    df4 = df4[df4['Cohort'] == value]\n",
    "    retentions_index = []\n",
    "    retentions_val = []\n",
    "\n",
    "    for i in range(1, 31):\n",
    "        df4['reg + {} days'.format(i)] = df4['c_registrationDateAt'].dt.date + datetime.timedelta(days=i)\n",
    "        retention = df4[df4['reg + {} days'.format(i)] == df4['rra_dateAt'].dt.date].drop_duplicates(subset='rra_playerId').shape[0] / df4.drop_duplicates(subset='rra_playerId').shape[0]\n",
    "        retentions_index.append('R{}'.format(i))\n",
    "        retentions_val.append(retention)\n",
    "    plt.plot(retentions_index, retentions_val,'go-', color=colors[k],label='Cohort {}'.format(value))\n",
    "plt.title('Retentions 1-30 days for groups')\n",
    "plt.legend()\n",
    "plt.show()\n"
   ]
  },
  {
   "cell_type": "markdown",
   "metadata": {},
   "source": [
    "**Наибольшие значения возвращений по дням общего числа пользователей**"
   ]
  },
  {
   "cell_type": "code",
   "execution_count": 131,
   "metadata": {},
   "outputs": [],
   "source": [
    "# Через 7 дней"
   ]
  },
  {
   "cell_type": "code",
   "execution_count": 132,
   "metadata": {
    "scrolled": true
   },
   "outputs": [
    {
     "data": {
      "text/html": [
       "<div>\n",
       "<style scoped>\n",
       "    .dataframe tbody tr th:only-of-type {\n",
       "        vertical-align: middle;\n",
       "    }\n",
       "\n",
       "    .dataframe tbody tr th {\n",
       "        vertical-align: top;\n",
       "    }\n",
       "\n",
       "    .dataframe thead th {\n",
       "        text-align: right;\n",
       "    }\n",
       "</style>\n",
       "<table border=\"1\" class=\"dataframe\">\n",
       "  <thead>\n",
       "    <tr style=\"text-align: right;\">\n",
       "      <th></th>\n",
       "      <th>rra_dateAt</th>\n",
       "    </tr>\n",
       "  </thead>\n",
       "  <tbody>\n",
       "    <tr>\n",
       "      <th>2020-09-10</th>\n",
       "      <td>37</td>\n",
       "    </tr>\n",
       "    <tr>\n",
       "      <th>2020-09-22</th>\n",
       "      <td>28</td>\n",
       "    </tr>\n",
       "    <tr>\n",
       "      <th>2020-10-01</th>\n",
       "      <td>28</td>\n",
       "    </tr>\n",
       "    <tr>\n",
       "      <th>2020-09-25</th>\n",
       "      <td>25</td>\n",
       "    </tr>\n",
       "    <tr>\n",
       "      <th>2020-09-29</th>\n",
       "      <td>25</td>\n",
       "    </tr>\n",
       "  </tbody>\n",
       "</table>\n",
       "</div>"
      ],
      "text/plain": [
       "            rra_dateAt\n",
       "2020-09-10          37\n",
       "2020-09-22          28\n",
       "2020-10-01          28\n",
       "2020-09-25          25\n",
       "2020-09-29          25"
      ]
     },
     "execution_count": 132,
     "metadata": {},
     "output_type": "execute_result"
    }
   ],
   "source": [
    "pd.DataFrame(df3[df3['reg + 7 days'] == df['rra_dateAt'].dt.date].iloc[:,0:-31].rra_dateAt.dt.date.value_counts()).sort_values(by='rra_dateAt', ascending=False).head(5)"
   ]
  },
  {
   "cell_type": "code",
   "execution_count": 133,
   "metadata": {},
   "outputs": [
    {
     "data": {
      "text/html": [
       "<div>\n",
       "<style scoped>\n",
       "    .dataframe tbody tr th:only-of-type {\n",
       "        vertical-align: middle;\n",
       "    }\n",
       "\n",
       "    .dataframe tbody tr th {\n",
       "        vertical-align: top;\n",
       "    }\n",
       "\n",
       "    .dataframe thead th {\n",
       "        text-align: right;\n",
       "    }\n",
       "</style>\n",
       "<table border=\"1\" class=\"dataframe\">\n",
       "  <thead>\n",
       "    <tr style=\"text-align: right;\">\n",
       "      <th></th>\n",
       "      <th>rra_id</th>\n",
       "      <th>rra_registrationsCount</th>\n",
       "      <th>rra_depositsCount</th>\n",
       "      <th>firstDepositsSumEur</th>\n",
       "      <th>depositsSumEur</th>\n",
       "      <th>c_age</th>\n",
       "    </tr>\n",
       "  </thead>\n",
       "  <tbody>\n",
       "    <tr>\n",
       "      <th>count</th>\n",
       "      <td>5.700000e+02</td>\n",
       "      <td>570.0</td>\n",
       "      <td>570.000000</td>\n",
       "      <td>570.00000</td>\n",
       "      <td>570.000000</td>\n",
       "      <td>570.000000</td>\n",
       "    </tr>\n",
       "    <tr>\n",
       "      <th>mean</th>\n",
       "      <td>3.564291e+17</td>\n",
       "      <td>0.0</td>\n",
       "      <td>1.152632</td>\n",
       "      <td>2.91414</td>\n",
       "      <td>46.645421</td>\n",
       "      <td>35.012281</td>\n",
       "    </tr>\n",
       "    <tr>\n",
       "      <th>std</th>\n",
       "      <td>2.298376e+17</td>\n",
       "      <td>0.0</td>\n",
       "      <td>2.323458</td>\n",
       "      <td>10.58367</td>\n",
       "      <td>129.190649</td>\n",
       "      <td>10.437774</td>\n",
       "    </tr>\n",
       "    <tr>\n",
       "      <th>min</th>\n",
       "      <td>1.007787e+17</td>\n",
       "      <td>0.0</td>\n",
       "      <td>0.000000</td>\n",
       "      <td>0.00000</td>\n",
       "      <td>0.000000</td>\n",
       "      <td>19.000000</td>\n",
       "    </tr>\n",
       "    <tr>\n",
       "      <th>25%</th>\n",
       "      <td>1.983379e+17</td>\n",
       "      <td>0.0</td>\n",
       "      <td>0.000000</td>\n",
       "      <td>0.00000</td>\n",
       "      <td>0.000000</td>\n",
       "      <td>28.000000</td>\n",
       "    </tr>\n",
       "    <tr>\n",
       "      <th>50%</th>\n",
       "      <td>2.896490e+17</td>\n",
       "      <td>0.0</td>\n",
       "      <td>1.000000</td>\n",
       "      <td>0.00000</td>\n",
       "      <td>15.405000</td>\n",
       "      <td>33.000000</td>\n",
       "    </tr>\n",
       "    <tr>\n",
       "      <th>75%</th>\n",
       "      <td>3.244098e+17</td>\n",
       "      <td>0.0</td>\n",
       "      <td>1.000000</td>\n",
       "      <td>0.00000</td>\n",
       "      <td>39.330000</td>\n",
       "      <td>40.000000</td>\n",
       "    </tr>\n",
       "    <tr>\n",
       "      <th>max</th>\n",
       "      <td>9.522084e+17</td>\n",
       "      <td>0.0</td>\n",
       "      <td>30.000000</td>\n",
       "      <td>100.00000</td>\n",
       "      <td>1500.000000</td>\n",
       "      <td>68.000000</td>\n",
       "    </tr>\n",
       "  </tbody>\n",
       "</table>\n",
       "</div>"
      ],
      "text/plain": [
       "             rra_id  rra_registrationsCount  rra_depositsCount  \\\n",
       "count  5.700000e+02                   570.0         570.000000   \n",
       "mean   3.564291e+17                     0.0           1.152632   \n",
       "std    2.298376e+17                     0.0           2.323458   \n",
       "min    1.007787e+17                     0.0           0.000000   \n",
       "25%    1.983379e+17                     0.0           0.000000   \n",
       "50%    2.896490e+17                     0.0           1.000000   \n",
       "75%    3.244098e+17                     0.0           1.000000   \n",
       "max    9.522084e+17                     0.0          30.000000   \n",
       "\n",
       "       firstDepositsSumEur  depositsSumEur       c_age  \n",
       "count            570.00000      570.000000  570.000000  \n",
       "mean               2.91414       46.645421   35.012281  \n",
       "std               10.58367      129.190649   10.437774  \n",
       "min                0.00000        0.000000   19.000000  \n",
       "25%                0.00000        0.000000   28.000000  \n",
       "50%                0.00000       15.405000   33.000000  \n",
       "75%                0.00000       39.330000   40.000000  \n",
       "max              100.00000     1500.000000   68.000000  "
      ]
     },
     "execution_count": 133,
     "metadata": {},
     "output_type": "execute_result"
    }
   ],
   "source": [
    "df3[df3['reg + 7 days'] == df['rra_dateAt'].dt.date].describe()"
   ]
  },
  {
   "cell_type": "code",
   "execution_count": 141,
   "metadata": {},
   "outputs": [
    {
     "data": {
      "text/plain": [
       "26587.89"
      ]
     },
     "execution_count": 141,
     "metadata": {},
     "output_type": "execute_result"
    }
   ],
   "source": [
    "df3[df3['reg + 7 days'] == df['rra_dateAt'].dt.date]['depositsSumEur'].sum()"
   ]
  },
  {
   "cell_type": "code",
   "execution_count": 144,
   "metadata": {},
   "outputs": [
    {
     "data": {
      "text/plain": [
       "1661.06"
      ]
     },
     "execution_count": 144,
     "metadata": {},
     "output_type": "execute_result"
    }
   ],
   "source": [
    "df3[df3['reg + 7 days'] == df['rra_dateAt'].dt.date]['firstDepositsSumEur'].sum()"
   ]
  },
  {
   "cell_type": "code",
   "execution_count": 134,
   "metadata": {},
   "outputs": [],
   "source": [
    "# Через 8 дней"
   ]
  },
  {
   "cell_type": "code",
   "execution_count": 135,
   "metadata": {
    "scrolled": true
   },
   "outputs": [
    {
     "data": {
      "text/html": [
       "<div>\n",
       "<style scoped>\n",
       "    .dataframe tbody tr th:only-of-type {\n",
       "        vertical-align: middle;\n",
       "    }\n",
       "\n",
       "    .dataframe tbody tr th {\n",
       "        vertical-align: top;\n",
       "    }\n",
       "\n",
       "    .dataframe thead th {\n",
       "        text-align: right;\n",
       "    }\n",
       "</style>\n",
       "<table border=\"1\" class=\"dataframe\">\n",
       "  <thead>\n",
       "    <tr style=\"text-align: right;\">\n",
       "      <th></th>\n",
       "      <th>rra_dateAt</th>\n",
       "    </tr>\n",
       "  </thead>\n",
       "  <tbody>\n",
       "    <tr>\n",
       "      <th>2020-09-10</th>\n",
       "      <td>53</td>\n",
       "    </tr>\n",
       "    <tr>\n",
       "      <th>2020-10-03</th>\n",
       "      <td>44</td>\n",
       "    </tr>\n",
       "    <tr>\n",
       "      <th>2020-09-12</th>\n",
       "      <td>43</td>\n",
       "    </tr>\n",
       "    <tr>\n",
       "      <th>2020-09-17</th>\n",
       "      <td>40</td>\n",
       "    </tr>\n",
       "    <tr>\n",
       "      <th>2020-09-16</th>\n",
       "      <td>39</td>\n",
       "    </tr>\n",
       "  </tbody>\n",
       "</table>\n",
       "</div>"
      ],
      "text/plain": [
       "            rra_dateAt\n",
       "2020-09-10          53\n",
       "2020-10-03          44\n",
       "2020-09-12          43\n",
       "2020-09-17          40\n",
       "2020-09-16          39"
      ]
     },
     "execution_count": 135,
     "metadata": {},
     "output_type": "execute_result"
    }
   ],
   "source": [
    "pd.DataFrame(df3[df3['reg + 8 days'] == df['rra_dateAt'].dt.date].iloc[:,0:-31].rra_dateAt.dt.date.value_counts()).sort_values(by='rra_dateAt', ascending=False).head(5)"
   ]
  },
  {
   "cell_type": "code",
   "execution_count": 136,
   "metadata": {},
   "outputs": [
    {
     "data": {
      "text/html": [
       "<div>\n",
       "<style scoped>\n",
       "    .dataframe tbody tr th:only-of-type {\n",
       "        vertical-align: middle;\n",
       "    }\n",
       "\n",
       "    .dataframe tbody tr th {\n",
       "        vertical-align: top;\n",
       "    }\n",
       "\n",
       "    .dataframe thead th {\n",
       "        text-align: right;\n",
       "    }\n",
       "</style>\n",
       "<table border=\"1\" class=\"dataframe\">\n",
       "  <thead>\n",
       "    <tr style=\"text-align: right;\">\n",
       "      <th></th>\n",
       "      <th>rra_id</th>\n",
       "      <th>rra_registrationsCount</th>\n",
       "      <th>rra_depositsCount</th>\n",
       "      <th>firstDepositsSumEur</th>\n",
       "      <th>depositsSumEur</th>\n",
       "      <th>c_age</th>\n",
       "    </tr>\n",
       "  </thead>\n",
       "  <tbody>\n",
       "    <tr>\n",
       "      <th>count</th>\n",
       "      <td>9.330000e+02</td>\n",
       "      <td>933.0</td>\n",
       "      <td>933.000000</td>\n",
       "      <td>933.000000</td>\n",
       "      <td>933.000000</td>\n",
       "      <td>933.000000</td>\n",
       "    </tr>\n",
       "    <tr>\n",
       "      <th>mean</th>\n",
       "      <td>3.698259e+17</td>\n",
       "      <td>0.0</td>\n",
       "      <td>0.554126</td>\n",
       "      <td>1.079571</td>\n",
       "      <td>26.310654</td>\n",
       "      <td>34.661308</td>\n",
       "    </tr>\n",
       "    <tr>\n",
       "      <th>std</th>\n",
       "      <td>2.419017e+17</td>\n",
       "      <td>0.0</td>\n",
       "      <td>1.476030</td>\n",
       "      <td>6.073572</td>\n",
       "      <td>132.942344</td>\n",
       "      <td>10.386055</td>\n",
       "    </tr>\n",
       "    <tr>\n",
       "      <th>min</th>\n",
       "      <td>1.040487e+17</td>\n",
       "      <td>0.0</td>\n",
       "      <td>0.000000</td>\n",
       "      <td>0.000000</td>\n",
       "      <td>0.000000</td>\n",
       "      <td>19.000000</td>\n",
       "    </tr>\n",
       "    <tr>\n",
       "      <th>25%</th>\n",
       "      <td>1.931684e+17</td>\n",
       "      <td>0.0</td>\n",
       "      <td>0.000000</td>\n",
       "      <td>0.000000</td>\n",
       "      <td>0.000000</td>\n",
       "      <td>26.000000</td>\n",
       "    </tr>\n",
       "    <tr>\n",
       "      <th>50%</th>\n",
       "      <td>2.988484e+17</td>\n",
       "      <td>0.0</td>\n",
       "      <td>0.000000</td>\n",
       "      <td>0.000000</td>\n",
       "      <td>0.000000</td>\n",
       "      <td>33.000000</td>\n",
       "    </tr>\n",
       "    <tr>\n",
       "      <th>75%</th>\n",
       "      <td>4.685084e+17</td>\n",
       "      <td>0.0</td>\n",
       "      <td>1.000000</td>\n",
       "      <td>0.000000</td>\n",
       "      <td>15.340000</td>\n",
       "      <td>41.000000</td>\n",
       "    </tr>\n",
       "    <tr>\n",
       "      <th>max</th>\n",
       "      <td>9.792093e+17</td>\n",
       "      <td>0.0</td>\n",
       "      <td>20.000000</td>\n",
       "      <td>91.320000</td>\n",
       "      <td>3200.000000</td>\n",
       "      <td>73.000000</td>\n",
       "    </tr>\n",
       "  </tbody>\n",
       "</table>\n",
       "</div>"
      ],
      "text/plain": [
       "             rra_id  rra_registrationsCount  rra_depositsCount  \\\n",
       "count  9.330000e+02                   933.0         933.000000   \n",
       "mean   3.698259e+17                     0.0           0.554126   \n",
       "std    2.419017e+17                     0.0           1.476030   \n",
       "min    1.040487e+17                     0.0           0.000000   \n",
       "25%    1.931684e+17                     0.0           0.000000   \n",
       "50%    2.988484e+17                     0.0           0.000000   \n",
       "75%    4.685084e+17                     0.0           1.000000   \n",
       "max    9.792093e+17                     0.0          20.000000   \n",
       "\n",
       "       firstDepositsSumEur  depositsSumEur       c_age  \n",
       "count           933.000000      933.000000  933.000000  \n",
       "mean              1.079571       26.310654   34.661308  \n",
       "std               6.073572      132.942344   10.386055  \n",
       "min               0.000000        0.000000   19.000000  \n",
       "25%               0.000000        0.000000   26.000000  \n",
       "50%               0.000000        0.000000   33.000000  \n",
       "75%               0.000000       15.340000   41.000000  \n",
       "max              91.320000     3200.000000   73.000000  "
      ]
     },
     "execution_count": 136,
     "metadata": {},
     "output_type": "execute_result"
    }
   ],
   "source": [
    "df3[df3['reg + 8 days'] == df['rra_dateAt'].dt.date].describe()"
   ]
  },
  {
   "cell_type": "code",
   "execution_count": 142,
   "metadata": {
    "scrolled": true
   },
   "outputs": [
    {
     "data": {
      "text/plain": [
       "24547.839999999997"
      ]
     },
     "execution_count": 142,
     "metadata": {},
     "output_type": "execute_result"
    }
   ],
   "source": [
    "df3[df3['reg + 8 days'] == df['rra_dateAt'].dt.date]['depositsSumEur'].sum()"
   ]
  },
  {
   "cell_type": "code",
   "execution_count": 145,
   "metadata": {},
   "outputs": [
    {
     "data": {
      "text/plain": [
       "1007.24"
      ]
     },
     "execution_count": 145,
     "metadata": {},
     "output_type": "execute_result"
    }
   ],
   "source": [
    "df3[df3['reg + 8 days'] == df['rra_dateAt'].dt.date]['firstDepositsSumEur'].sum()"
   ]
  },
  {
   "cell_type": "code",
   "execution_count": 137,
   "metadata": {},
   "outputs": [],
   "source": [
    "# Через 9 дней"
   ]
  },
  {
   "cell_type": "code",
   "execution_count": 138,
   "metadata": {
    "scrolled": false
   },
   "outputs": [
    {
     "data": {
      "text/html": [
       "<div>\n",
       "<style scoped>\n",
       "    .dataframe tbody tr th:only-of-type {\n",
       "        vertical-align: middle;\n",
       "    }\n",
       "\n",
       "    .dataframe tbody tr th {\n",
       "        vertical-align: top;\n",
       "    }\n",
       "\n",
       "    .dataframe thead th {\n",
       "        text-align: right;\n",
       "    }\n",
       "</style>\n",
       "<table border=\"1\" class=\"dataframe\">\n",
       "  <thead>\n",
       "    <tr style=\"text-align: right;\">\n",
       "      <th></th>\n",
       "      <th>rra_dateAt</th>\n",
       "    </tr>\n",
       "  </thead>\n",
       "  <tbody>\n",
       "    <tr>\n",
       "      <th>2020-09-12</th>\n",
       "      <td>24</td>\n",
       "    </tr>\n",
       "    <tr>\n",
       "      <th>2020-09-11</th>\n",
       "      <td>24</td>\n",
       "    </tr>\n",
       "    <tr>\n",
       "      <th>2020-09-16</th>\n",
       "      <td>23</td>\n",
       "    </tr>\n",
       "    <tr>\n",
       "      <th>2020-09-20</th>\n",
       "      <td>21</td>\n",
       "    </tr>\n",
       "    <tr>\n",
       "      <th>2020-09-19</th>\n",
       "      <td>21</td>\n",
       "    </tr>\n",
       "  </tbody>\n",
       "</table>\n",
       "</div>"
      ],
      "text/plain": [
       "            rra_dateAt\n",
       "2020-09-12          24\n",
       "2020-09-11          24\n",
       "2020-09-16          23\n",
       "2020-09-20          21\n",
       "2020-09-19          21"
      ]
     },
     "execution_count": 138,
     "metadata": {},
     "output_type": "execute_result"
    }
   ],
   "source": [
    "pd.DataFrame(df3[df3['reg + 9 days'] == df['rra_dateAt'].dt.date].iloc[:,0:-31].rra_dateAt.dt.date.value_counts()).sort_values(by='rra_dateAt', ascending=False).head(5)"
   ]
  },
  {
   "cell_type": "code",
   "execution_count": 139,
   "metadata": {},
   "outputs": [
    {
     "data": {
      "text/html": [
       "<div>\n",
       "<style scoped>\n",
       "    .dataframe tbody tr th:only-of-type {\n",
       "        vertical-align: middle;\n",
       "    }\n",
       "\n",
       "    .dataframe tbody tr th {\n",
       "        vertical-align: top;\n",
       "    }\n",
       "\n",
       "    .dataframe thead th {\n",
       "        text-align: right;\n",
       "    }\n",
       "</style>\n",
       "<table border=\"1\" class=\"dataframe\">\n",
       "  <thead>\n",
       "    <tr style=\"text-align: right;\">\n",
       "      <th></th>\n",
       "      <th>rra_id</th>\n",
       "      <th>rra_registrationsCount</th>\n",
       "      <th>rra_depositsCount</th>\n",
       "      <th>firstDepositsSumEur</th>\n",
       "      <th>depositsSumEur</th>\n",
       "      <th>c_age</th>\n",
       "    </tr>\n",
       "  </thead>\n",
       "  <tbody>\n",
       "    <tr>\n",
       "      <th>count</th>\n",
       "      <td>4.790000e+02</td>\n",
       "      <td>479.0</td>\n",
       "      <td>479.000000</td>\n",
       "      <td>479.000000</td>\n",
       "      <td>479.000000</td>\n",
       "      <td>479.000000</td>\n",
       "    </tr>\n",
       "    <tr>\n",
       "      <th>mean</th>\n",
       "      <td>3.619823e+17</td>\n",
       "      <td>0.0</td>\n",
       "      <td>0.939457</td>\n",
       "      <td>1.191461</td>\n",
       "      <td>54.245846</td>\n",
       "      <td>34.864301</td>\n",
       "    </tr>\n",
       "    <tr>\n",
       "      <th>std</th>\n",
       "      <td>2.383500e+17</td>\n",
       "      <td>0.0</td>\n",
       "      <td>1.516468</td>\n",
       "      <td>5.353188</td>\n",
       "      <td>235.067588</td>\n",
       "      <td>9.931795</td>\n",
       "    </tr>\n",
       "    <tr>\n",
       "      <th>min</th>\n",
       "      <td>1.005081e+17</td>\n",
       "      <td>0.0</td>\n",
       "      <td>0.000000</td>\n",
       "      <td>0.000000</td>\n",
       "      <td>0.000000</td>\n",
       "      <td>19.000000</td>\n",
       "    </tr>\n",
       "    <tr>\n",
       "      <th>25%</th>\n",
       "      <td>1.870341e+17</td>\n",
       "      <td>0.0</td>\n",
       "      <td>0.000000</td>\n",
       "      <td>0.000000</td>\n",
       "      <td>0.000000</td>\n",
       "      <td>27.000000</td>\n",
       "    </tr>\n",
       "    <tr>\n",
       "      <th>50%</th>\n",
       "      <td>2.839991e+17</td>\n",
       "      <td>0.0</td>\n",
       "      <td>0.000000</td>\n",
       "      <td>0.000000</td>\n",
       "      <td>0.000000</td>\n",
       "      <td>33.000000</td>\n",
       "    </tr>\n",
       "    <tr>\n",
       "      <th>75%</th>\n",
       "      <td>4.312099e+17</td>\n",
       "      <td>0.0</td>\n",
       "      <td>1.000000</td>\n",
       "      <td>0.000000</td>\n",
       "      <td>30.740000</td>\n",
       "      <td>42.000000</td>\n",
       "    </tr>\n",
       "    <tr>\n",
       "      <th>max</th>\n",
       "      <td>9.792093e+17</td>\n",
       "      <td>0.0</td>\n",
       "      <td>10.000000</td>\n",
       "      <td>50.000000</td>\n",
       "      <td>4300.000000</td>\n",
       "      <td>68.000000</td>\n",
       "    </tr>\n",
       "  </tbody>\n",
       "</table>\n",
       "</div>"
      ],
      "text/plain": [
       "             rra_id  rra_registrationsCount  rra_depositsCount  \\\n",
       "count  4.790000e+02                   479.0         479.000000   \n",
       "mean   3.619823e+17                     0.0           0.939457   \n",
       "std    2.383500e+17                     0.0           1.516468   \n",
       "min    1.005081e+17                     0.0           0.000000   \n",
       "25%    1.870341e+17                     0.0           0.000000   \n",
       "50%    2.839991e+17                     0.0           0.000000   \n",
       "75%    4.312099e+17                     0.0           1.000000   \n",
       "max    9.792093e+17                     0.0          10.000000   \n",
       "\n",
       "       firstDepositsSumEur  depositsSumEur       c_age  \n",
       "count           479.000000      479.000000  479.000000  \n",
       "mean              1.191461       54.245846   34.864301  \n",
       "std               5.353188      235.067588    9.931795  \n",
       "min               0.000000        0.000000   19.000000  \n",
       "25%               0.000000        0.000000   27.000000  \n",
       "50%               0.000000        0.000000   33.000000  \n",
       "75%               0.000000       30.740000   42.000000  \n",
       "max              50.000000     4300.000000   68.000000  "
      ]
     },
     "execution_count": 139,
     "metadata": {},
     "output_type": "execute_result"
    }
   ],
   "source": [
    "df3[df3['reg + 9 days'] == df['rra_dateAt'].dt.date].describe()"
   ]
  },
  {
   "cell_type": "code",
   "execution_count": 143,
   "metadata": {},
   "outputs": [
    {
     "data": {
      "text/plain": [
       "25983.760000000002"
      ]
     },
     "execution_count": 143,
     "metadata": {},
     "output_type": "execute_result"
    }
   ],
   "source": [
    "df3[df3['reg + 9 days'] == df['rra_dateAt'].dt.date]['depositsSumEur'].sum()"
   ]
  },
  {
   "cell_type": "code",
   "execution_count": 146,
   "metadata": {},
   "outputs": [
    {
     "data": {
      "text/plain": [
       "570.71"
      ]
     },
     "execution_count": 146,
     "metadata": {},
     "output_type": "execute_result"
    }
   ],
   "source": [
    "df3[df3['reg + 9 days'] == df['rra_dateAt'].dt.date]['firstDepositsSumEur'].sum()"
   ]
  },
  {
   "cell_type": "markdown",
   "metadata": {},
   "source": [
    "### LTV ###"
   ]
  },
  {
   "cell_type": "markdown",
   "metadata": {},
   "source": [
    "**Подсчет LTV производится на основе показателей Retention (1-30 день) и среднего ARPDAU за рассматриваемый промежуток.**  \n",
    "**LTV рассматривается как интеграл от Retention по времени, который прогнозируется на основе имеющихся значений**"
   ]
  },
  {
   "cell_type": "markdown",
   "metadata": {},
   "source": [
    "**Средний lifetime (разность в днях между первым и последним заходом)**  \n",
    "Расчитывается как суммированный lifetime всех пользователей / количество пользователей"
   ]
  },
  {
   "cell_type": "code",
   "execution_count": 140,
   "metadata": {},
   "outputs": [
    {
     "name": "stdout",
     "output_type": "stream",
     "text": [
      "Average lifetime: 15.491\n"
     ]
    }
   ],
   "source": [
    "df_copy = df.copy()\n",
    "df_copy = df_copy.groupby('rra_playerId').agg({'rra_dateAt': ['min','max']}).reset_index()\n",
    "df_copy['diff'] = df_copy['rra_dateAt', 'max'] - df_copy['rra_dateAt', 'min']\n",
    "print('Average lifetime:', round(df_copy['diff'].sum().days / df_copy.shape[0], 3))"
   ]
  },
  {
   "cell_type": "code",
   "execution_count": null,
   "metadata": {},
   "outputs": [],
   "source": []
  }
 ],
 "metadata": {
  "kernelspec": {
   "display_name": "Python 3",
   "language": "python",
   "name": "python3"
  },
  "language_info": {
   "codemirror_mode": {
    "name": "ipython",
    "version": 3
   },
   "file_extension": ".py",
   "mimetype": "text/x-python",
   "name": "python",
   "nbconvert_exporter": "python",
   "pygments_lexer": "ipython3",
   "version": "3.7.4"
  }
 },
 "nbformat": 4,
 "nbformat_minor": 4
}
