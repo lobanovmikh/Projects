{
 "cells": [
  {
   "cell_type": "code",
   "execution_count": 268,
   "metadata": {
    "colab": {},
    "colab_type": "code",
    "id": "QgRYc_0IKkdd"
   },
   "outputs": [],
   "source": [
    "import pandas as pd\n",
    "%matplotlib inline\n",
    "import os\n",
    "import matplotlib.pyplot as plt\n",
    "plt.rcParams['figure.figsize'] = (7.0, 7.0)\n",
    "os.environ[\"NLS_LANG\"] = \"American_America.AL32UTF8\"\n",
    "\n",
    "import numpy as np\n",
    "import seaborn as sns"
   ]
  },
  {
   "cell_type": "markdown",
   "metadata": {
    "colab_type": "text",
    "id": "5YXm1ByBKkdw"
   },
   "source": [
    "## Данные - датасет и загрузка"
   ]
  },
  {
   "cell_type": "markdown",
   "metadata": {
    "colab_type": "text",
    "id": "v28m4CiMKkdy"
   },
   "source": [
    "В современной финтех индустрии одной из ключевых сфер для применения data science является процесс кредитного скоринга.\n",
    "Скоринговые модели помогают датасаентистам определить, какие клиенты с наибольшей вероятностью вернут выданный кредит, что помогает банку сформировать прибыльный продуктовый портфель и управлять рисками.\n",
    "\n",
    "В этом кейсе вам предстоит исследовать данные о заявках клиентов на кредитную карту и кредитной истории.\n",
    "- Для задания понадобятся данные из https://www.kaggle.com/rikdifos/credit-card-approval-prediction (также Вы можете найти данные [в данной папке](https://drive.google.com/drive/folders/1v5RTvwpLfYVO86KfXyfMsT3DEXb7hnCG?usp=sharing))\n",
    "- Описание данных находится на страничке датасета."
   ]
  },
  {
   "cell_type": "code",
   "execution_count": 269,
   "metadata": {
    "colab": {},
    "colab_type": "code",
    "id": "aFzCCj6xKkd1"
   },
   "outputs": [],
   "source": [
    "# Загрузим файлы датасета.\n",
    "app = pd.read_csv(\"application_record.csv\", sep=\",\")\n",
    "app.columns = map(str.lower, app.columns)\n",
    "\n",
    "credit = pd.read_csv(\"credit_record.csv\", sep=\",\")\n",
    "credit.columns = map(str.lower, credit.columns)"
   ]
  },
  {
   "cell_type": "code",
   "execution_count": 270,
   "metadata": {
    "colab": {},
    "colab_type": "code",
    "id": "qraM-8GhKkeD",
    "outputId": "b4fdd6d9-24d5-4936-c98b-75c1d7021a7f"
   },
   "outputs": [
    {
     "data": {
      "text/html": [
       "<div>\n",
       "<style scoped>\n",
       "    .dataframe tbody tr th:only-of-type {\n",
       "        vertical-align: middle;\n",
       "    }\n",
       "\n",
       "    .dataframe tbody tr th {\n",
       "        vertical-align: top;\n",
       "    }\n",
       "\n",
       "    .dataframe thead th {\n",
       "        text-align: right;\n",
       "    }\n",
       "</style>\n",
       "<table border=\"1\" class=\"dataframe\">\n",
       "  <thead>\n",
       "    <tr style=\"text-align: right;\">\n",
       "      <th></th>\n",
       "      <th>id</th>\n",
       "      <th>code_gender</th>\n",
       "      <th>flag_own_car</th>\n",
       "      <th>flag_own_realty</th>\n",
       "      <th>cnt_children</th>\n",
       "      <th>amt_income_total</th>\n",
       "      <th>name_income_type</th>\n",
       "      <th>name_education_type</th>\n",
       "      <th>name_family_status</th>\n",
       "      <th>name_housing_type</th>\n",
       "      <th>days_birth</th>\n",
       "      <th>days_employed</th>\n",
       "      <th>flag_mobil</th>\n",
       "      <th>flag_work_phone</th>\n",
       "      <th>flag_phone</th>\n",
       "      <th>flag_email</th>\n",
       "      <th>occupation_type</th>\n",
       "      <th>cnt_fam_members</th>\n",
       "    </tr>\n",
       "  </thead>\n",
       "  <tbody>\n",
       "    <tr>\n",
       "      <td>0</td>\n",
       "      <td>5008804</td>\n",
       "      <td>M</td>\n",
       "      <td>Y</td>\n",
       "      <td>Y</td>\n",
       "      <td>0</td>\n",
       "      <td>427500.0</td>\n",
       "      <td>Working</td>\n",
       "      <td>Higher education</td>\n",
       "      <td>Civil marriage</td>\n",
       "      <td>Rented apartment</td>\n",
       "      <td>-12005</td>\n",
       "      <td>-4542</td>\n",
       "      <td>1</td>\n",
       "      <td>1</td>\n",
       "      <td>0</td>\n",
       "      <td>0</td>\n",
       "      <td>NaN</td>\n",
       "      <td>2.0</td>\n",
       "    </tr>\n",
       "    <tr>\n",
       "      <td>1</td>\n",
       "      <td>5008805</td>\n",
       "      <td>M</td>\n",
       "      <td>Y</td>\n",
       "      <td>Y</td>\n",
       "      <td>0</td>\n",
       "      <td>427500.0</td>\n",
       "      <td>Working</td>\n",
       "      <td>Higher education</td>\n",
       "      <td>Civil marriage</td>\n",
       "      <td>Rented apartment</td>\n",
       "      <td>-12005</td>\n",
       "      <td>-4542</td>\n",
       "      <td>1</td>\n",
       "      <td>1</td>\n",
       "      <td>0</td>\n",
       "      <td>0</td>\n",
       "      <td>NaN</td>\n",
       "      <td>2.0</td>\n",
       "    </tr>\n",
       "    <tr>\n",
       "      <td>2</td>\n",
       "      <td>5008806</td>\n",
       "      <td>M</td>\n",
       "      <td>Y</td>\n",
       "      <td>Y</td>\n",
       "      <td>0</td>\n",
       "      <td>112500.0</td>\n",
       "      <td>Working</td>\n",
       "      <td>Secondary / secondary special</td>\n",
       "      <td>Married</td>\n",
       "      <td>House / apartment</td>\n",
       "      <td>-21474</td>\n",
       "      <td>-1134</td>\n",
       "      <td>1</td>\n",
       "      <td>0</td>\n",
       "      <td>0</td>\n",
       "      <td>0</td>\n",
       "      <td>Security staff</td>\n",
       "      <td>2.0</td>\n",
       "    </tr>\n",
       "  </tbody>\n",
       "</table>\n",
       "</div>"
      ],
      "text/plain": [
       "        id code_gender flag_own_car flag_own_realty  cnt_children  \\\n",
       "0  5008804           M            Y               Y             0   \n",
       "1  5008805           M            Y               Y             0   \n",
       "2  5008806           M            Y               Y             0   \n",
       "\n",
       "   amt_income_total name_income_type            name_education_type  \\\n",
       "0          427500.0          Working               Higher education   \n",
       "1          427500.0          Working               Higher education   \n",
       "2          112500.0          Working  Secondary / secondary special   \n",
       "\n",
       "  name_family_status  name_housing_type  days_birth  days_employed  \\\n",
       "0     Civil marriage   Rented apartment      -12005          -4542   \n",
       "1     Civil marriage   Rented apartment      -12005          -4542   \n",
       "2            Married  House / apartment      -21474          -1134   \n",
       "\n",
       "   flag_mobil  flag_work_phone  flag_phone  flag_email occupation_type  \\\n",
       "0           1                1           0           0             NaN   \n",
       "1           1                1           0           0             NaN   \n",
       "2           1                0           0           0  Security staff   \n",
       "\n",
       "   cnt_fam_members  \n",
       "0              2.0  \n",
       "1              2.0  \n",
       "2              2.0  "
      ]
     },
     "execution_count": 270,
     "metadata": {},
     "output_type": "execute_result"
    }
   ],
   "source": [
    "app.head(3)"
   ]
  },
  {
   "cell_type": "code",
   "execution_count": 271,
   "metadata": {
    "colab": {},
    "colab_type": "code",
    "id": "0RcgbYHAKkeP",
    "outputId": "e6a3c2d7-4610-4a68-d58d-abb55feb1618"
   },
   "outputs": [
    {
     "data": {
      "text/html": [
       "<div>\n",
       "<style scoped>\n",
       "    .dataframe tbody tr th:only-of-type {\n",
       "        vertical-align: middle;\n",
       "    }\n",
       "\n",
       "    .dataframe tbody tr th {\n",
       "        vertical-align: top;\n",
       "    }\n",
       "\n",
       "    .dataframe thead th {\n",
       "        text-align: right;\n",
       "    }\n",
       "</style>\n",
       "<table border=\"1\" class=\"dataframe\">\n",
       "  <thead>\n",
       "    <tr style=\"text-align: right;\">\n",
       "      <th></th>\n",
       "      <th>id</th>\n",
       "      <th>months_balance</th>\n",
       "      <th>status</th>\n",
       "    </tr>\n",
       "  </thead>\n",
       "  <tbody>\n",
       "    <tr>\n",
       "      <td>0</td>\n",
       "      <td>5001711</td>\n",
       "      <td>0</td>\n",
       "      <td>X</td>\n",
       "    </tr>\n",
       "    <tr>\n",
       "      <td>1</td>\n",
       "      <td>5001711</td>\n",
       "      <td>-1</td>\n",
       "      <td>0</td>\n",
       "    </tr>\n",
       "    <tr>\n",
       "      <td>2</td>\n",
       "      <td>5001711</td>\n",
       "      <td>-2</td>\n",
       "      <td>0</td>\n",
       "    </tr>\n",
       "  </tbody>\n",
       "</table>\n",
       "</div>"
      ],
      "text/plain": [
       "        id  months_balance status\n",
       "0  5001711               0      X\n",
       "1  5001711              -1      0\n",
       "2  5001711              -2      0"
      ]
     },
     "execution_count": 271,
     "metadata": {},
     "output_type": "execute_result"
    }
   ],
   "source": [
    "credit.head(3)"
   ]
  },
  {
   "cell_type": "markdown",
   "metadata": {
    "colab_type": "text",
    "id": "PhOIZy1NKkeY"
   },
   "source": [
    "### Задание 1 - проверка качества данных\n",
    "Перечислите названия колонок датасета app, в котором есть незаполненные (Null) значения."
   ]
  },
  {
   "cell_type": "code",
   "execution_count": 272,
   "metadata": {
    "colab": {},
    "colab_type": "code",
    "id": "GG30PPKtLbik"
   },
   "outputs": [
    {
     "data": {
      "text/plain": [
       "Index(['occupation_type'], dtype='object')"
      ]
     },
     "execution_count": 272,
     "metadata": {},
     "output_type": "execute_result"
    }
   ],
   "source": [
    "app.columns[app.isna().sum()>0]"
   ]
  },
  {
   "cell_type": "code",
   "execution_count": 273,
   "metadata": {},
   "outputs": [
    {
     "data": {
      "text/plain": [
       "id                     False\n",
       "code_gender            False\n",
       "flag_own_car           False\n",
       "flag_own_realty        False\n",
       "cnt_children           False\n",
       "amt_income_total       False\n",
       "name_income_type       False\n",
       "name_education_type    False\n",
       "name_family_status     False\n",
       "name_housing_type      False\n",
       "days_birth             False\n",
       "days_employed          False\n",
       "flag_mobil             False\n",
       "flag_work_phone        False\n",
       "flag_phone             False\n",
       "flag_email             False\n",
       "occupation_type         True\n",
       "cnt_fam_members        False\n",
       "dtype: bool"
      ]
     },
     "execution_count": 273,
     "metadata": {},
     "output_type": "execute_result"
    }
   ],
   "source": [
    "app.isna().any()"
   ]
  },
  {
   "cell_type": "markdown",
   "metadata": {
    "colab_type": "text",
    "id": "C4ueOm2gKkej"
   },
   "source": [
    "### Задание 2 - проверка качества данных\n",
    "Рассчитайте долю незаполненных значений в колонке с их максимальным количеством.\n",
    "Результат округлите до двух знаков после запятой (округление в большую сторону)."
   ]
  },
  {
   "cell_type": "code",
   "execution_count": 274,
   "metadata": {
    "colab": {},
    "colab_type": "code",
    "id": "bXNqCtuYLcUQ"
   },
   "outputs": [
    {
     "data": {
      "text/plain": [
       "0.31"
      ]
     },
     "execution_count": 274,
     "metadata": {},
     "output_type": "execute_result"
    }
   ],
   "source": [
    "occup_type_null = round(app['occupation_type'].isnull().sum() /app['occupation_type'].shape[0], 2)\n",
    "occup_type_null"
   ]
  },
  {
   "cell_type": "code",
   "execution_count": 275,
   "metadata": {},
   "outputs": [
    {
     "name": "stdout",
     "output_type": "stream",
     "text": [
      " 0.31\n",
      " 30.60%\n"
     ]
    }
   ],
   "source": [
    "print(f\"{app['occupation_type'].isna().value_counts(normalize=True)[True]: .2f}\")\n",
    "print(f\"{app['occupation_type'].isna().value_counts(normalize=True)[True]*100: .2f}%\")"
   ]
  },
  {
   "cell_type": "markdown",
   "metadata": {
    "colab_type": "text",
    "id": "5RpoItmiKkep"
   },
   "source": [
    "### Задание 3\n",
    "Определите число дубликатов в столбце с айди клиента (id)"
   ]
  },
  {
   "cell_type": "code",
   "execution_count": 276,
   "metadata": {
    "colab": {},
    "colab_type": "code",
    "id": "xf1vHbP_LdFn"
   },
   "outputs": [
    {
     "data": {
      "text/plain": [
       "47"
      ]
     },
     "execution_count": 276,
     "metadata": {},
     "output_type": "execute_result"
    }
   ],
   "source": [
    "app.duplicated(subset=['id']).value_counts()[1]"
   ]
  },
  {
   "cell_type": "code",
   "execution_count": 277,
   "metadata": {},
   "outputs": [
    {
     "data": {
      "text/plain": [
       "47"
      ]
     },
     "execution_count": 277,
     "metadata": {},
     "output_type": "execute_result"
    }
   ],
   "source": [
    "app['id'].duplicated().value_counts()[True]"
   ]
  },
  {
   "cell_type": "markdown",
   "metadata": {
    "colab_type": "text",
    "id": "wHAbJzsHKkex"
   },
   "source": [
    "### Задание 4\n",
    "Определите самые популярные профессии клиентов (occupation_type), исключая Null значения, отсортировав их по числу id.\n",
    "\n",
    "Результат представьте в виде dict вида {профессия:число клиентов}."
   ]
  },
  {
   "cell_type": "code",
   "execution_count": 278,
   "metadata": {},
   "outputs": [
    {
     "data": {
      "text/plain": [
       "{'Laborers': 78240,\n",
       " 'Core staff': 43007,\n",
       " 'Sales staff': 41098,\n",
       " 'Managers': 35487,\n",
       " 'Drivers': 26090,\n",
       " 'High skill tech staff': 17289,\n",
       " 'Accountants': 15985,\n",
       " 'Medicine staff': 13520,\n",
       " 'Cooking staff': 8076,\n",
       " 'Security staff': 7993,\n",
       " 'Cleaning staff': 5845,\n",
       " 'Private service staff': 3456,\n",
       " 'Low-skill Laborers': 2140,\n",
       " 'Secretaries': 2044,\n",
       " 'Waiters/barmen staff': 1665,\n",
       " 'Realty agents': 1041,\n",
       " 'HR staff': 774,\n",
       " 'IT staff': 604}"
      ]
     },
     "execution_count": 278,
     "metadata": {},
     "output_type": "execute_result"
    }
   ],
   "source": [
    "app['occupation_type'].value_counts().to_dict()"
   ]
  },
  {
   "cell_type": "markdown",
   "metadata": {
    "colab_type": "text",
    "id": "gCm9luYqKke3"
   },
   "source": [
    "### Задание 5\n",
    "Клиенты с каким уровнем образования (name_education_type) имеют наибольший средний доход? Помимо уровня образования укажите и средний доход для него, округленный до двух знаков после запятой."
   ]
  },
  {
   "cell_type": "code",
   "execution_count": 279,
   "metadata": {
    "colab": {},
    "colab_type": "code",
    "id": "r9xHqvajLee4"
   },
   "outputs": [
    {
     "data": {
      "text/html": [
       "<div>\n",
       "<style scoped>\n",
       "    .dataframe tbody tr th:only-of-type {\n",
       "        vertical-align: middle;\n",
       "    }\n",
       "\n",
       "    .dataframe tbody tr th {\n",
       "        vertical-align: top;\n",
       "    }\n",
       "\n",
       "    .dataframe thead th {\n",
       "        text-align: right;\n",
       "    }\n",
       "</style>\n",
       "<table border=\"1\" class=\"dataframe\">\n",
       "  <thead>\n",
       "    <tr style=\"text-align: right;\">\n",
       "      <th></th>\n",
       "      <th>name_education_type</th>\n",
       "      <th>amt_income_total</th>\n",
       "      <th>avg_income</th>\n",
       "    </tr>\n",
       "  </thead>\n",
       "  <tbody>\n",
       "    <tr>\n",
       "      <td>0</td>\n",
       "      <td>Academic degree</td>\n",
       "      <td>240692.307692</td>\n",
       "      <td>240692.31</td>\n",
       "    </tr>\n",
       "    <tr>\n",
       "      <td>1</td>\n",
       "      <td>Higher education</td>\n",
       "      <td>226106.872502</td>\n",
       "      <td>226106.87</td>\n",
       "    </tr>\n",
       "    <tr>\n",
       "      <td>2</td>\n",
       "      <td>Incomplete higher</td>\n",
       "      <td>207331.018315</td>\n",
       "      <td>207331.02</td>\n",
       "    </tr>\n",
       "    <tr>\n",
       "      <td>3</td>\n",
       "      <td>Secondary / secondary special</td>\n",
       "      <td>172056.654071</td>\n",
       "      <td>172056.65</td>\n",
       "    </tr>\n",
       "    <tr>\n",
       "      <td>4</td>\n",
       "      <td>Lower secondary</td>\n",
       "      <td>143933.865218</td>\n",
       "      <td>143933.87</td>\n",
       "    </tr>\n",
       "  </tbody>\n",
       "</table>\n",
       "</div>"
      ],
      "text/plain": [
       "             name_education_type  amt_income_total  avg_income\n",
       "0                Academic degree     240692.307692   240692.31\n",
       "1               Higher education     226106.872502   226106.87\n",
       "2              Incomplete higher     207331.018315   207331.02\n",
       "3  Secondary / secondary special     172056.654071   172056.65\n",
       "4                Lower secondary     143933.865218   143933.87"
      ]
     },
     "execution_count": 279,
     "metadata": {},
     "output_type": "execute_result"
    }
   ],
   "source": [
    "ed_income = app.groupby(['name_education_type']).agg({'amt_income_total':'mean'}).sort_values(by='amt_income_total',ascending=False).reset_index()\n",
    "\n",
    "ed_income['avg_income'] = round(ed_income['amt_income_total'], 2)\n",
    "\n",
    "ed_income"
   ]
  },
  {
   "cell_type": "code",
   "execution_count": 280,
   "metadata": {},
   "outputs": [
    {
     "data": {
      "text/plain": [
       "name_education_type\n",
       "Academic degree                  240692.31\n",
       "Higher education                 226106.87\n",
       "Incomplete higher                207331.02\n",
       "Lower secondary                  143933.87\n",
       "Secondary / secondary special    172056.65\n",
       "Name: amt_income_total, dtype: float64"
      ]
     },
     "execution_count": 280,
     "metadata": {},
     "output_type": "execute_result"
    }
   ],
   "source": [
    "app.groupby(['name_education_type'])['amt_income_total'].mean().round(2)"
   ]
  },
  {
   "cell_type": "markdown",
   "metadata": {
    "colab_type": "text",
    "id": "YPIHIg8uKke-"
   },
   "source": [
    "### Задание 6\n",
    "Для клиентов с уровнем образования из п4 и семейным положением (name_family_status) Married, выясните, у кого в среднем больше доход (amt_income_total) - у клиентов с машиной или без?"
   ]
  },
  {
   "cell_type": "code",
   "execution_count": 281,
   "metadata": {
    "colab": {},
    "colab_type": "code",
    "id": "VKcVMEFtLfPl"
   },
   "outputs": [
    {
     "data": {
      "text/html": [
       "<div>\n",
       "<style scoped>\n",
       "    .dataframe tbody tr th:only-of-type {\n",
       "        vertical-align: middle;\n",
       "    }\n",
       "\n",
       "    .dataframe tbody tr th {\n",
       "        vertical-align: top;\n",
       "    }\n",
       "\n",
       "    .dataframe thead th {\n",
       "        text-align: right;\n",
       "    }\n",
       "</style>\n",
       "<table border=\"1\" class=\"dataframe\">\n",
       "  <thead>\n",
       "    <tr style=\"text-align: right;\">\n",
       "      <th></th>\n",
       "      <th>amt_income_total</th>\n",
       "    </tr>\n",
       "    <tr>\n",
       "      <th>flag_own_car</th>\n",
       "      <th></th>\n",
       "    </tr>\n",
       "  </thead>\n",
       "  <tbody>\n",
       "    <tr>\n",
       "      <td>N</td>\n",
       "      <td>233787.162162</td>\n",
       "    </tr>\n",
       "    <tr>\n",
       "      <td>Y</td>\n",
       "      <td>211764.705882</td>\n",
       "    </tr>\n",
       "  </tbody>\n",
       "</table>\n",
       "</div>"
      ],
      "text/plain": [
       "              amt_income_total\n",
       "flag_own_car                  \n",
       "N                233787.162162\n",
       "Y                211764.705882"
      ]
     },
     "execution_count": 281,
     "metadata": {},
     "output_type": "execute_result"
    }
   ],
   "source": [
    "app.query('name_education_type == \"Academic degree\" & name_family_status == \"Married\"').groupby('flag_own_car').agg({'amt_income_total':'mean'})"
   ]
  },
  {
   "cell_type": "code",
   "execution_count": 282,
   "metadata": {},
   "outputs": [
    {
     "data": {
      "text/plain": [
       "flag_own_car\n",
       "N    233787.162162\n",
       "Y    211764.705882\n",
       "Name: amt_income_total, dtype: float64"
      ]
     },
     "execution_count": 282,
     "metadata": {},
     "output_type": "execute_result"
    }
   ],
   "source": [
    "q6 = app[(app['name_education_type'] == 'Academic degree') & (app['name_family_status'] == 'Married')]\n",
    "q6.groupby('flag_own_car')['amt_income_total'].mean()"
   ]
  },
  {
   "cell_type": "markdown",
   "metadata": {},
   "source": [
    "В среднем больше доход у клиентов без машины"
   ]
  },
  {
   "cell_type": "markdown",
   "metadata": {
    "colab_type": "text",
    "id": "6iYvcyB5KkfE"
   },
   "source": [
    "### Задание 7\n",
    "Рассчитайте разнциу между медианным стажем (days_employed) мужчин и женщин в месяцах. В ответе приведите модуль от это числа, округленный до двух знаков после запятой."
   ]
  },
  {
   "cell_type": "code",
   "execution_count": 283,
   "metadata": {
    "colab": {},
    "colab_type": "code",
    "id": "mFiF-JvYLgId"
   },
   "outputs": [
    {
     "data": {
      "text/plain": [
       "3.37"
      ]
     },
     "execution_count": 283,
     "metadata": {},
     "output_type": "execute_result"
    }
   ],
   "source": [
    "median_empl = app.groupby('code_gender').agg({'days_employed' : 'median'}).reset_index()\n",
    "median_empl['month_employed'] = abs(median_empl['days_employed'] / 30)\n",
    "\n",
    "median_empl_diff = round(abs(median_empl['month_employed'][0] - median_empl['month_employed'][1]), 2)\n",
    "\n",
    "median_empl_diff"
   ]
  },
  {
   "cell_type": "code",
   "execution_count": 284,
   "metadata": {},
   "outputs": [
    {
     "name": "stdout",
     "output_type": "stream",
     "text": [
      " 3.37\n"
     ]
    }
   ],
   "source": [
    "exp = app.groupby('code_gender')['days_employed'].median()/30\n",
    "print(f\"{abs(exp['M'] - exp['F']): .2f}\")"
   ]
  },
  {
   "cell_type": "markdown",
   "metadata": {
    "colab_type": "text",
    "id": "rehMDbcjKkfK"
   },
   "source": [
    "### Задание 8\n",
    "Для женщин, чей доход или стаж строго выше 75 перцентиля аналогичных показателей для мужчин, определите наиболее популярную профессию (occupation_type). Null значения в occupation_type не учитывать, как и в пункте 4.\n",
    "\n",
    "В качесте ответа приведите название этой профессии."
   ]
  },
  {
   "cell_type": "code",
   "execution_count": 285,
   "metadata": {},
   "outputs": [
    {
     "data": {
      "text/plain": [
       "'Sales staff'"
      ]
     },
     "execution_count": 285,
     "metadata": {},
     "output_type": "execute_result"
    }
   ],
   "source": [
    "m_inc_quartiles = app[app['code_gender'] == 'M']['amt_income_total'].describe()[4:7]\n",
    "m_emp_quartiles = app[app['code_gender'] == 'M']['days_employed'].describe()[4:7]\n",
    "female_app = app[app['code_gender'] == 'F']\n",
    "female_app[(female_app['amt_income_total'] > m_inc_quartiles['75%'])\n",
    " | (female_app['days_employed'] > m_emp_quartiles['75%'])]['occupation_type'].value_counts().index[0]"
   ]
  },
  {
   "cell_type": "markdown",
   "metadata": {
    "colab_type": "text",
    "id": "t5S5miXPKkfP"
   },
   "source": [
    "### Задание 9\n",
    "Оцените наличие связи между размером дохода и модулем возраста при помощи коэфициента корреляции.\n",
    "В качестве ответа приведите значение в процентах, округленное до 5 знаков после запятой."
   ]
  },
  {
   "cell_type": "code",
   "execution_count": 286,
   "metadata": {},
   "outputs": [
    {
     "data": {
      "text/html": [
       "<div>\n",
       "<style scoped>\n",
       "    .dataframe tbody tr th:only-of-type {\n",
       "        vertical-align: middle;\n",
       "    }\n",
       "\n",
       "    .dataframe tbody tr th {\n",
       "        vertical-align: top;\n",
       "    }\n",
       "\n",
       "    .dataframe thead th {\n",
       "        text-align: right;\n",
       "    }\n",
       "</style>\n",
       "<table border=\"1\" class=\"dataframe\">\n",
       "  <thead>\n",
       "    <tr style=\"text-align: right;\">\n",
       "      <th></th>\n",
       "      <th>days_birth</th>\n",
       "      <th>amt_income_total</th>\n",
       "    </tr>\n",
       "  </thead>\n",
       "  <tbody>\n",
       "    <tr>\n",
       "      <td>days_birth</td>\n",
       "      <td>100.00000</td>\n",
       "      <td>-5.37746</td>\n",
       "    </tr>\n",
       "    <tr>\n",
       "      <td>amt_income_total</td>\n",
       "      <td>-5.37746</td>\n",
       "      <td>100.00000</td>\n",
       "    </tr>\n",
       "  </tbody>\n",
       "</table>\n",
       "</div>"
      ],
      "text/plain": [
       "                  days_birth  amt_income_total\n",
       "days_birth         100.00000          -5.37746\n",
       "amt_income_total    -5.37746         100.00000"
      ]
     },
     "execution_count": 286,
     "metadata": {},
     "output_type": "execute_result"
    }
   ],
   "source": [
    "(app[['days_birth', 'amt_income_total']].abs().corr(method='pearson')*100).round(5)"
   ]
  },
  {
   "cell_type": "markdown",
   "metadata": {
    "colab_type": "text",
    "id": "lwdYtmTJKkfV"
   },
   "source": [
    "### Задание 10\n",
    "По результатам задания 9 при помощи коээфициента корреляции оцените силу связи между доходом и модулем возраста:\n",
    "\n",
    "    1) сильная положительная связь\n",
    "    2) слабая положительная связь\n",
    "    3) нелинейная связь\n",
    "    4) умеренная отрицательная связь\n",
    "    5) все ответы неверны"
   ]
  },
  {
   "cell_type": "code",
   "execution_count": 287,
   "metadata": {},
   "outputs": [
    {
     "data": {
      "text/plain": [
       "<matplotlib.axes._subplots.AxesSubplot at 0x2b081e82d08>"
      ]
     },
     "execution_count": 287,
     "metadata": {},
     "output_type": "execute_result"
    },
    {
     "data": {
      "image/png": "[encoded data removed]",
      "text/plain": [
       "<Figure size 504x504 with 1 Axes>"
      ]
     },
     "metadata": {
      "needs_background": "light"
     },
     "output_type": "display_data"
    }
   ],
   "source": [
    "app.plot.scatter(x='amt_income_total',\n",
    "                      y='days_birth',\n",
    "                      c='DarkBlue')"
   ]
  },
  {
   "cell_type": "code",
   "execution_count": 288,
   "metadata": {
    "colab": {},
    "colab_type": "code",
    "id": "H97DPXPRLlVl"
   },
   "outputs": [],
   "source": [
    "# Выберите верный ответ: 5"
   ]
  },
  {
   "cell_type": "markdown",
   "metadata": {
    "colab_type": "text",
    "id": "kuSN73AGKkfZ"
   },
   "source": [
    "### Задание 11\n",
    "Какие типы занятости (name_income_type) встречаются среди клиентов с просрочкой от 30-59 дней? Ответ приведите в виде словаря с сортировкой по числу id:\n",
    "{name_income_type:число id}"
   ]
  },
  {
   "cell_type": "code",
   "execution_count": 289,
   "metadata": {
    "colab": {},
    "colab_type": "code",
    "id": "KoDMTmSPLrsT"
   },
   "outputs": [
    {
     "data": {
      "text/plain": [
       "{'Working': 4454,\n",
       " 'Commercial associate': 2368,\n",
       " 'Pensioner': 1157,\n",
       " 'State servant': 767,\n",
       " 'Student': 1}"
      ]
     },
     "execution_count": 289,
     "metadata": {},
     "output_type": "execute_result"
    }
   ],
   "source": [
    "main = pd.merge(app, credit, on='id', how='left')\n",
    "\n",
    "main_work = main[main['status'] == '1']['name_income_type'].value_counts()\n",
    "main_work.to_dict()"
   ]
  },
  {
   "cell_type": "markdown",
   "metadata": {
    "colab_type": "text",
    "id": "pKdEttiwKkfe"
   },
   "source": [
    "### Задание 12\n",
    "Выберите верные утверждения для клиентов с просрочкой более 150 дней:\n",
    "\n",
    "    1) среди этих клиентов больше всего людей имеет образование уровня Lower secondary\n",
    "    2) среди этих клиентов 61% - мужчины\n",
    "    3) не все такие клиенты присутствуют в датасете с заявками\n",
    "    4) все три утверждения выше неверны"
   ]
  },
  {
   "cell_type": "code",
   "execution_count": 290,
   "metadata": {
    "colab": {},
    "colab_type": "code",
    "id": "utIiCF76Kkff"
   },
   "outputs": [
    {
     "data": {
      "text/plain": [
       "Secondary / secondary special    871\n",
       "Higher education                 577\n",
       "Lower secondary                   40\n",
       "Incomplete higher                 39\n",
       "Name: name_education_type, dtype: int64"
      ]
     },
     "execution_count": 290,
     "metadata": {},
     "output_type": "execute_result"
    }
   ],
   "source": [
    "# 1) среди этих клиентов больше всего людей имеет образование уровня Lower secondary - ложь\n",
    "\n",
    "main_st_5 = main[main['status'] == '5']\n",
    "\n",
    "main_st_5['name_education_type'].value_counts()"
   ]
  },
  {
   "cell_type": "code",
   "execution_count": 291,
   "metadata": {},
   "outputs": [
    {
     "data": {
      "text/plain": [
       "F    0.529797\n",
       "M    0.470203\n",
       "Name: code_gender, dtype: float64"
      ]
     },
     "execution_count": 291,
     "metadata": {},
     "output_type": "execute_result"
    }
   ],
   "source": [
    "# 2) среди этих клиентов 61% - мужчины - ложь - мужчин меньше 61%\n",
    "\n",
    "main_st_5['code_gender'].value_counts(normalize=True)"
   ]
  },
  {
   "cell_type": "code",
   "execution_count": 292,
   "metadata": {},
   "outputs": [],
   "source": [
    "# 3) не все такие клиенты присутствуют в датасете с заявками - Правда"
   ]
  },
  {
   "cell_type": "code",
   "execution_count": 293,
   "metadata": {},
   "outputs": [
    {
     "data": {
      "text/plain": [
       "True     1527\n",
       "False     166\n",
       "Name: id, dtype: int64"
      ]
     },
     "execution_count": 293,
     "metadata": {},
     "output_type": "execute_result"
    }
   ],
   "source": [
    "credit[credit['status'] == '5']['id'].isin(app['id']).value_counts()"
   ]
  },
  {
   "cell_type": "code",
   "execution_count": 294,
   "metadata": {
    "colab": {},
    "colab_type": "code",
    "id": "DhIc9RPhLx6D"
   },
   "outputs": [],
   "source": [
    "# Выберите верный ответ на основании расчетов выше: 3"
   ]
  }
 ],
 "metadata": {
  "colab": {
   "collapsed_sections": [],
   "name": "qiwi_student_case.ipynb",
   "provenance": []
  },
  "kernelspec": {
   "display_name": "Python 3",
   "language": "python",
   "name": "python3"
  },
  "language_info": {
   "codemirror_mode": {
    "name": "ipython",
    "version": 3
   },
   "file_extension": ".py",
   "mimetype": "text/x-python",
   "name": "python",
   "nbconvert_exporter": "python",
   "pygments_lexer": "ipython3",
   "version": "3.7.4"
  }
 },
 "nbformat": 4,
 "nbformat_minor": 1
}
