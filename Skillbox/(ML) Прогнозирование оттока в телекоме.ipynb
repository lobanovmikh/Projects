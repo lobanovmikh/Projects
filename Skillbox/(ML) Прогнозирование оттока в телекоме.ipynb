{
 "cells": [
  {
   "cell_type": "markdown",
   "metadata": {},
   "source": [
    "## Описание работы:     \n",
    "\n",
    "   Любой бизнес хочет максимизировать количество клиентов. Для достижения этой цели важно не только пытаться привлечь новых, но и удерживать уже существующих. Удержать клиента обойдется компании дешевле, чем привлечь нового. Кроме того, новый клиент может оказаться слабо заинтересованным в услугах бизнеса и с ним будет сложно работать, тогда как о старых клиентах уже есть необходимые данные по взаимодействию с сервисом.\n",
    "\n",
    "   Соответственно, прогнозируя отток, мы можем вовремя среагировать и попытаться удержать клиента, который хочет уйти. Опираясь на данные об услугах, которыми пользуется клиент, мы можем сделать ему специальное предложение, пытаясь изменить его решение об уходе от оператора. Благодаря этому задача удержания будет легче в реализации, чем задача привлечения новых пользователей, о которых мы еще ничего не знаем.\n",
    "\n",
    "   Предоставлен набор данных от телекоммуникационной компании. В данных содержится информация о почти шести тысячах пользователей, их демографических характеристиках, услугах, которыми они пользуются, длительности пользования услугами оператора, методе оплаты, размере оплаты."
   ]
  },
  {
   "cell_type": "markdown",
   "metadata": {},
   "source": [
    "## 1. Описание данных"
   ]
  },
  {
   "cell_type": "markdown",
   "metadata": {},
   "source": [
    " customerID – id клиента  \n",
    " gender – пол клиента (male/female)  \n",
    " SeniorCitizen – яляется ли клиент пенсионером (1, 0)  \n",
    " Partner – состоит ли клиент в браке (Yes, No)  \n",
    " Dependents – есть ли у клиента иждивенцы (Yes, No)  \n",
    " tenure – сколько месяцев человек являлся клиентом компании  \n",
    " PhoneService – подключена ли услуга телефонной связи (Yes, No)  \n",
    " MultipleLines – подключены ли несколько телефонных линий (Yes, No, No phone service)  \n",
    " InternetService – интернет-провайдер клиента (DSL, Fiber optic, No)  \n",
    " OnlineSecurity – подключена ли услуга онлайн-безопасности (Yes, No, No internet service)  \n",
    " OnlineBackup – подключена ли услуга online backup (Yes, No, No internet service)  \n",
    " DeviceProtection – есть ли у клиента страховка оборудования (Yes, No, No internet service)  \n",
    " TechSupport – подключена ли услуга технической поддержки (Yes, No, No internet service)  \n",
    " StreamingTV – подключена ли услуга стримингового телевидения (Yes, No, No internet service)  \n",
    " StreamingMovies – подключена ли услуга стримингового кинотеатра (Yes, No, No internet service)  \n",
    " Contract – тип контракта клиента (Month-to-month, One year, Two year)  \n",
    " PaperlessBilling – пользуется ли клиент безбумажным биллингом (Yes, No)  \n",
    " PaymentMethod – метод оплаты (Electronic check, Mailed check, Bank transfer (automatic), Credit card (automatic))  \n",
    " MonthlyCharges – месячный размер оплаты на настоящий момент  \n",
    " TotalCharges – общая сумма, которую клиент заплатил за услуги за все время  \n",
    " Churn – произошел ли отток (Yes or No)  "
   ]
  },
  {
   "cell_type": "code",
   "execution_count": 375,
   "metadata": {},
   "outputs": [],
   "source": [
    "import pandas as pd\n",
    "import numpy as np\n",
    "import matplotlib.pyplot as plt\n",
    "import seaborn as sns\n",
    "import scipy.stats as ss\n",
    "from sklearn.linear_model import LogisticRegression\n",
    "from sklearn.metrics import roc_auc_score\n",
    "from sklearn.svm import SVC\n",
    "from sklearn.ensemble import RandomForestClassifier\n",
    "from sklearn.neighbors import KNeighborsClassifier\n",
    "from sklearn.naive_bayes import GaussianNB\n",
    "from sklearn.ensemble import GradientBoostingClassifier\n",
    "from sklearn.metrics import confusion_matrix, recall_score\n",
    "from imblearn.over_sampling import SMOTE, ADASYN\n",
    "from sklearn.model_selection import (GridSearchCV,\n",
    "                                     train_test_split,\n",
    "                                     StratifiedKFold)\n",
    "import warnings\n",
    "warnings.filterwarnings('ignore')\n",
    "sns.set(rc={'figure.figsize': (15, 10)})\n",
    "%matplotlib inline\n"
   ]
  },
  {
   "cell_type": "code",
   "execution_count": 376,
   "metadata": {},
   "outputs": [],
   "source": [
    "data = pd.read_csv('telecom_users.csv')\n",
    "y = data['Churn']\n",
    "X = data.drop(['Churn', 'Unnamed: 0'], axis=1) \n",
    "\n",
    "title_mapping = {\"No\": 0, \"Yes\": 1} # Мэппинг зависимой переменной\n",
    "y = y.map(title_mapping).astype(int)\n"
   ]
  },
  {
   "cell_type": "code",
   "execution_count": 377,
   "metadata": {},
   "outputs": [
    {
     "data": {
      "text/html": [
       "<div>\n",
       "<style scoped>\n",
       "    .dataframe tbody tr th:only-of-type {\n",
       "        vertical-align: middle;\n",
       "    }\n",
       "\n",
       "    .dataframe tbody tr th {\n",
       "        vertical-align: top;\n",
       "    }\n",
       "\n",
       "    .dataframe thead th {\n",
       "        text-align: right;\n",
       "    }\n",
       "</style>\n",
       "<table border=\"1\" class=\"dataframe\">\n",
       "  <thead>\n",
       "    <tr style=\"text-align: right;\">\n",
       "      <th></th>\n",
       "      <th>customerID</th>\n",
       "      <th>gender</th>\n",
       "      <th>SeniorCitizen</th>\n",
       "      <th>Partner</th>\n",
       "      <th>Dependents</th>\n",
       "      <th>tenure</th>\n",
       "      <th>PhoneService</th>\n",
       "      <th>MultipleLines</th>\n",
       "      <th>InternetService</th>\n",
       "      <th>OnlineSecurity</th>\n",
       "      <th>OnlineBackup</th>\n",
       "      <th>DeviceProtection</th>\n",
       "      <th>TechSupport</th>\n",
       "      <th>StreamingTV</th>\n",
       "      <th>StreamingMovies</th>\n",
       "      <th>Contract</th>\n",
       "      <th>PaperlessBilling</th>\n",
       "      <th>PaymentMethod</th>\n",
       "      <th>MonthlyCharges</th>\n",
       "      <th>TotalCharges</th>\n",
       "    </tr>\n",
       "  </thead>\n",
       "  <tbody>\n",
       "    <tr>\n",
       "      <th>0</th>\n",
       "      <td>7010-BRBUU</td>\n",
       "      <td>Male</td>\n",
       "      <td>0</td>\n",
       "      <td>Yes</td>\n",
       "      <td>Yes</td>\n",
       "      <td>72</td>\n",
       "      <td>Yes</td>\n",
       "      <td>Yes</td>\n",
       "      <td>No</td>\n",
       "      <td>No internet service</td>\n",
       "      <td>No internet service</td>\n",
       "      <td>No internet service</td>\n",
       "      <td>No internet service</td>\n",
       "      <td>No internet service</td>\n",
       "      <td>No internet service</td>\n",
       "      <td>Two year</td>\n",
       "      <td>No</td>\n",
       "      <td>Credit card (automatic)</td>\n",
       "      <td>24.10</td>\n",
       "      <td>1734.65</td>\n",
       "    </tr>\n",
       "    <tr>\n",
       "      <th>1</th>\n",
       "      <td>9688-YGXVR</td>\n",
       "      <td>Female</td>\n",
       "      <td>0</td>\n",
       "      <td>No</td>\n",
       "      <td>No</td>\n",
       "      <td>44</td>\n",
       "      <td>Yes</td>\n",
       "      <td>No</td>\n",
       "      <td>Fiber optic</td>\n",
       "      <td>No</td>\n",
       "      <td>Yes</td>\n",
       "      <td>Yes</td>\n",
       "      <td>No</td>\n",
       "      <td>Yes</td>\n",
       "      <td>No</td>\n",
       "      <td>Month-to-month</td>\n",
       "      <td>Yes</td>\n",
       "      <td>Credit card (automatic)</td>\n",
       "      <td>88.15</td>\n",
       "      <td>3973.2</td>\n",
       "    </tr>\n",
       "    <tr>\n",
       "      <th>2</th>\n",
       "      <td>9286-DOJGF</td>\n",
       "      <td>Female</td>\n",
       "      <td>1</td>\n",
       "      <td>Yes</td>\n",
       "      <td>No</td>\n",
       "      <td>38</td>\n",
       "      <td>Yes</td>\n",
       "      <td>Yes</td>\n",
       "      <td>Fiber optic</td>\n",
       "      <td>No</td>\n",
       "      <td>No</td>\n",
       "      <td>No</td>\n",
       "      <td>No</td>\n",
       "      <td>No</td>\n",
       "      <td>No</td>\n",
       "      <td>Month-to-month</td>\n",
       "      <td>Yes</td>\n",
       "      <td>Bank transfer (automatic)</td>\n",
       "      <td>74.95</td>\n",
       "      <td>2869.85</td>\n",
       "    </tr>\n",
       "    <tr>\n",
       "      <th>3</th>\n",
       "      <td>6994-KERXL</td>\n",
       "      <td>Male</td>\n",
       "      <td>0</td>\n",
       "      <td>No</td>\n",
       "      <td>No</td>\n",
       "      <td>4</td>\n",
       "      <td>Yes</td>\n",
       "      <td>No</td>\n",
       "      <td>DSL</td>\n",
       "      <td>No</td>\n",
       "      <td>No</td>\n",
       "      <td>No</td>\n",
       "      <td>No</td>\n",
       "      <td>No</td>\n",
       "      <td>Yes</td>\n",
       "      <td>Month-to-month</td>\n",
       "      <td>Yes</td>\n",
       "      <td>Electronic check</td>\n",
       "      <td>55.90</td>\n",
       "      <td>238.5</td>\n",
       "    </tr>\n",
       "    <tr>\n",
       "      <th>4</th>\n",
       "      <td>2181-UAESM</td>\n",
       "      <td>Male</td>\n",
       "      <td>0</td>\n",
       "      <td>No</td>\n",
       "      <td>No</td>\n",
       "      <td>2</td>\n",
       "      <td>Yes</td>\n",
       "      <td>No</td>\n",
       "      <td>DSL</td>\n",
       "      <td>Yes</td>\n",
       "      <td>No</td>\n",
       "      <td>Yes</td>\n",
       "      <td>No</td>\n",
       "      <td>No</td>\n",
       "      <td>No</td>\n",
       "      <td>Month-to-month</td>\n",
       "      <td>No</td>\n",
       "      <td>Electronic check</td>\n",
       "      <td>53.45</td>\n",
       "      <td>119.5</td>\n",
       "    </tr>\n",
       "  </tbody>\n",
       "</table>\n",
       "</div>"
      ],
      "text/plain": [
       "   customerID  gender  SeniorCitizen Partner Dependents  tenure PhoneService  \\\n",
       "0  7010-BRBUU    Male              0     Yes        Yes      72          Yes   \n",
       "1  9688-YGXVR  Female              0      No         No      44          Yes   \n",
       "2  9286-DOJGF  Female              1     Yes         No      38          Yes   \n",
       "3  6994-KERXL    Male              0      No         No       4          Yes   \n",
       "4  2181-UAESM    Male              0      No         No       2          Yes   \n",
       "\n",
       "  MultipleLines InternetService       OnlineSecurity         OnlineBackup  \\\n",
       "0           Yes              No  No internet service  No internet service   \n",
       "1            No     Fiber optic                   No                  Yes   \n",
       "2           Yes     Fiber optic                   No                   No   \n",
       "3            No             DSL                   No                   No   \n",
       "4            No             DSL                  Yes                   No   \n",
       "\n",
       "      DeviceProtection          TechSupport          StreamingTV  \\\n",
       "0  No internet service  No internet service  No internet service   \n",
       "1                  Yes                   No                  Yes   \n",
       "2                   No                   No                   No   \n",
       "3                   No                   No                   No   \n",
       "4                  Yes                   No                   No   \n",
       "\n",
       "       StreamingMovies        Contract PaperlessBilling  \\\n",
       "0  No internet service        Two year               No   \n",
       "1                   No  Month-to-month              Yes   \n",
       "2                   No  Month-to-month              Yes   \n",
       "3                  Yes  Month-to-month              Yes   \n",
       "4                   No  Month-to-month               No   \n",
       "\n",
       "               PaymentMethod  MonthlyCharges TotalCharges  \n",
       "0    Credit card (automatic)           24.10      1734.65  \n",
       "1    Credit card (automatic)           88.15       3973.2  \n",
       "2  Bank transfer (automatic)           74.95      2869.85  \n",
       "3           Electronic check           55.90        238.5  \n",
       "4           Electronic check           53.45        119.5  "
      ]
     },
     "execution_count": 377,
     "metadata": {},
     "output_type": "execute_result"
    }
   ],
   "source": [
    "X.head()"
   ]
  },
  {
   "cell_type": "code",
   "execution_count": 378,
   "metadata": {},
   "outputs": [
    {
     "name": "stdout",
     "output_type": "stream",
     "text": [
      "Количество записей: 5986, количество уникальных пользователей: 5986\n"
     ]
    }
   ],
   "source": [
    "print('Количество записей: {}, количество уникальных пользователей: {}'\\\n",
    "\n",
    "      .format(X.groupby('customerID').agg({'customerID':'nunique'}).count()[0],X.shape[0]))"
   ]
  },
  {
   "cell_type": "code",
   "execution_count": 379,
   "metadata": {},
   "outputs": [
    {
     "data": {
      "text/plain": [
       "customerID          False\n",
       "gender              False\n",
       "SeniorCitizen       False\n",
       "Partner             False\n",
       "Dependents          False\n",
       "tenure              False\n",
       "PhoneService        False\n",
       "MultipleLines       False\n",
       "InternetService     False\n",
       "OnlineSecurity      False\n",
       "OnlineBackup        False\n",
       "DeviceProtection    False\n",
       "TechSupport         False\n",
       "StreamingTV         False\n",
       "StreamingMovies     False\n",
       "Contract            False\n",
       "PaperlessBilling    False\n",
       "PaymentMethod       False\n",
       "MonthlyCharges      False\n",
       "TotalCharges        False\n",
       "dtype: bool"
      ]
     },
     "execution_count": 379,
     "metadata": {},
     "output_type": "execute_result"
    }
   ],
   "source": [
    "X.isnull().any()"
   ]
  },
  {
   "cell_type": "markdown",
   "metadata": {},
   "source": [
    " Можно заменить пропуски на 0 - этот способ является предпочтительным для логистической регрессии, поскольку он позволит пропущенному значению не вносить никакого вклада в предсказание. Для деревьев часто лучшим вариантом оказывается замена пропуска на очень большое или очень маленькое значение — в этом случае при построении разбиения вершины можно будет отправить объекты с пропусками в отдельную ветвь дерева. Также есть и другие подходы — например, замена пропуска на среднее или медианное значение признака."
   ]
  },
  {
   "cell_type": "code",
   "execution_count": 380,
   "metadata": {},
   "outputs": [
    {
     "data": {
      "text/plain": [
       "customerID           object\n",
       "gender               object\n",
       "SeniorCitizen         int64\n",
       "Partner              object\n",
       "Dependents           object\n",
       "tenure                int64\n",
       "PhoneService         object\n",
       "MultipleLines        object\n",
       "InternetService      object\n",
       "OnlineSecurity       object\n",
       "OnlineBackup         object\n",
       "DeviceProtection     object\n",
       "TechSupport          object\n",
       "StreamingTV          object\n",
       "StreamingMovies      object\n",
       "Contract             object\n",
       "PaperlessBilling     object\n",
       "PaymentMethod        object\n",
       "MonthlyCharges      float64\n",
       "TotalCharges         object\n",
       "dtype: object"
      ]
     },
     "execution_count": 380,
     "metadata": {},
     "output_type": "execute_result"
    }
   ],
   "source": [
    "X.dtypes"
   ]
  },
  {
   "cell_type": "code",
   "execution_count": 381,
   "metadata": {},
   "outputs": [],
   "source": [
    "X['TotalCharges'] = pd.to_numeric(X['TotalCharges'], downcast='float', errors='coerce') # Конвертация общей суммы в целый тип\n",
    "X.isnull().sum() # Проверка ошибки конвертации - 10 значений \n",
    "\n",
    "Total_charges_median = X.query('TotalCharges >= 0')['TotalCharges'].median() # Медианное значение для замены ошибочных значений\n",
    "X['TotalCharges'].fillna(Total_charges_median, inplace=True)\n",
    "\n",
    "dataframe = pd.concat([X, y], axis=1)\n"
   ]
  },
  {
   "cell_type": "code",
   "execution_count": 382,
   "metadata": {},
   "outputs": [],
   "source": [
    "features = X.columns.to_list()\n",
    "features.remove('customerID')\n",
    "\n",
    "numeric_features = ['tenure', 'MonthlyCharges', 'TotalCharges']\n",
    "\n",
    "categorical_features = [i for i in features if i not in numeric_features]\n",
    "        "
   ]
  },
  {
   "cell_type": "code",
   "execution_count": 383,
   "metadata": {},
   "outputs": [
    {
     "data": {
      "image/png": "[encoded data removed]",
      "text/plain": [
       "<Figure size 405.725x360 with 1 Axes>"
      ]
     },
     "metadata": {
      "needs_background": "light"
     },
     "output_type": "display_data"
    },
    {
     "data": {
      "image/png": "[encoded data removed]",
      "text/plain": [
       "<Figure size 405.725x360 with 1 Axes>"
      ]
     },
     "metadata": {
      "needs_background": "light"
     },
     "output_type": "display_data"
    },
    {
     "data": {
      "image/png": "[encoded data removed]",
      "text/plain": [
       "<Figure size 405.725x360 with 1 Axes>"
      ]
     },
     "metadata": {
      "needs_background": "light"
     },
     "output_type": "display_data"
    }
   ],
   "source": [
    "for i, feature in enumerate(numeric_features):\n",
    "    sns.displot(data=dataframe[[feature, 'Churn']], x=feature, hue='Churn')\n",
    "    plt.title(feature)\n",
    "plt.show()"
   ]
  },
  {
   "cell_type": "code",
   "execution_count": 384,
   "metadata": {},
   "outputs": [
    {
     "data": {
      "text/html": [
       "<div>\n",
       "<style scoped>\n",
       "    .dataframe tbody tr th:only-of-type {\n",
       "        vertical-align: middle;\n",
       "    }\n",
       "\n",
       "    .dataframe tbody tr th {\n",
       "        vertical-align: top;\n",
       "    }\n",
       "\n",
       "    .dataframe thead th {\n",
       "        text-align: right;\n",
       "    }\n",
       "</style>\n",
       "<table border=\"1\" class=\"dataframe\">\n",
       "  <thead>\n",
       "    <tr style=\"text-align: right;\">\n",
       "      <th></th>\n",
       "      <th>tenure</th>\n",
       "      <th>MonthlyCharges</th>\n",
       "      <th>TotalCharges</th>\n",
       "    </tr>\n",
       "  </thead>\n",
       "  <tbody>\n",
       "    <tr>\n",
       "      <th>count</th>\n",
       "      <td>5986.00</td>\n",
       "      <td>5986.00</td>\n",
       "      <td>5986.00</td>\n",
       "    </tr>\n",
       "    <tr>\n",
       "      <th>mean</th>\n",
       "      <td>32.47</td>\n",
       "      <td>64.80</td>\n",
       "      <td>2296.58</td>\n",
       "    </tr>\n",
       "    <tr>\n",
       "      <th>std</th>\n",
       "      <td>24.52</td>\n",
       "      <td>30.11</td>\n",
       "      <td>2272.51</td>\n",
       "    </tr>\n",
       "    <tr>\n",
       "      <th>min</th>\n",
       "      <td>0.00</td>\n",
       "      <td>18.25</td>\n",
       "      <td>18.80</td>\n",
       "    </tr>\n",
       "    <tr>\n",
       "      <th>25%</th>\n",
       "      <td>9.00</td>\n",
       "      <td>35.65</td>\n",
       "      <td>406.27</td>\n",
       "    </tr>\n",
       "    <tr>\n",
       "      <th>50%</th>\n",
       "      <td>29.00</td>\n",
       "      <td>70.40</td>\n",
       "      <td>1412.15</td>\n",
       "    </tr>\n",
       "    <tr>\n",
       "      <th>75%</th>\n",
       "      <td>56.00</td>\n",
       "      <td>89.90</td>\n",
       "      <td>3841.50</td>\n",
       "    </tr>\n",
       "    <tr>\n",
       "      <th>max</th>\n",
       "      <td>72.00</td>\n",
       "      <td>118.75</td>\n",
       "      <td>8684.80</td>\n",
       "    </tr>\n",
       "  </tbody>\n",
       "</table>\n",
       "</div>"
      ],
      "text/plain": [
       "        tenure  MonthlyCharges  TotalCharges\n",
       "count  5986.00         5986.00       5986.00\n",
       "mean     32.47           64.80       2296.58\n",
       "std      24.52           30.11       2272.51\n",
       "min       0.00           18.25         18.80\n",
       "25%       9.00           35.65        406.27\n",
       "50%      29.00           70.40       1412.15\n",
       "75%      56.00           89.90       3841.50\n",
       "max      72.00          118.75       8684.80"
      ]
     },
     "execution_count": 384,
     "metadata": {},
     "output_type": "execute_result"
    }
   ],
   "source": [
    "X[numeric_features].describe().round(2) # Основные статистики для числовых признаков:\n"
   ]
  },
  {
   "cell_type": "markdown",
   "metadata": {},
   "source": [
    "###### Доля классов отток / не отток"
   ]
  },
  {
   "cell_type": "code",
   "execution_count": 385,
   "metadata": {},
   "outputs": [
    {
     "data": {
      "text/plain": [
       "0    4399\n",
       "1    1587\n",
       "Name: Churn, dtype: int64"
      ]
     },
     "execution_count": 385,
     "metadata": {},
     "output_type": "execute_result"
    }
   ],
   "source": [
    "y.value_counts() # Несбалансированный датасет - неравные классы - метрика accuracy бесполезна"
   ]
  },
  {
   "cell_type": "markdown",
   "metadata": {},
   "source": [
    "Несбалансированный датасет - неравные классы - метрика accuracy бесполезна.\n",
    "\n",
    "В рамках задачи оттока нам важнее найти клиентов, которые собираются от нас уйти, чем найти клиентов, которые от нас уходить не собираются. Поэтому если мы ошибочно отнесем клиента, который уходить не собирается, к оттоку, это не так страшно, как если мы пропустим клиента, который от нас уходить собирается, потому что в этом случае мы, конечно же, не сможем его удержать.\n",
    "\n",
    "Другими словами нам нестрашно сделать ложное срабатывание (FP), т.е. стоит обратить внимание на метрику gолнота (recall) (нужно меньше ложных пропусков (FN)) + Roc-Auc как метрику, которая учитывает и полноту, и точность (precision)."
   ]
  },
  {
   "cell_type": "markdown",
   "metadata": {},
   "source": [
    "Часто целевой класс может составлять единицы или даже десятые доли процентов от всей выборки. Такая несбалансированность классов может негативно сказаться на модели классификации. Во-первых, может не хватить данных для обучения, данных для настройки на целевой класс. Это может привести к тому, что объекты не будут классифицироваться к этому классу, потому что, скажем, с точки зрения модели это может быть очень рискованно. Часто подобные проблемы возникают на практике. Нам с вами очень важно заметить это в процессе обучения модели, важно заметить это на метриках, то есть важно выбирать такие метрики, которые к этому чувствительны, и решать эту проблему в процессе построения модели. "
   ]
  },
  {
   "cell_type": "markdown",
   "metadata": {},
   "source": [
    "###### Корреляции признаков с целевой переменной"
   ]
  },
  {
   "cell_type": "code",
   "execution_count": 386,
   "metadata": {},
   "outputs": [
    {
     "data": {
      "image/png": "[encoded data removed]",
      "text/plain": [
       "<Figure size 720x720 with 2 Axes>"
      ]
     },
     "metadata": {
      "needs_background": "light"
     },
     "output_type": "display_data"
    }
   ],
   "source": [
    "# Числовые признаки\n",
    "\n",
    "num_churn = numeric_features + ['Churn']\n",
    "\n",
    "colormap = plt.cm.RdBu.reversed()\n",
    "plt.figure(figsize=(10,10))\n",
    "plt.title('Корреляция числовых признаков', y=1.05, size=15)\n",
    "sns.heatmap(dataframe[num_churn].corr(),linewidths=0.1,vmin=-1.0, vmax=1.0, \n",
    "            square=True, cmap=colormap, linecolor='white', annot=True, cbar_kws={\"shrink\": 0.5})\n",
    "plt.show()"
   ]
  },
  {
   "cell_type": "markdown",
   "metadata": {},
   "source": [
    "Сильная корреляция между TotalCharges и MonthlyCharges (т.к. MonthlyCharges = TotalCharges / tenure), скорее всего, следует исключить один из коррелирующих признаков при обучении модели."
   ]
  },
  {
   "cell_type": "code",
   "execution_count": 387,
   "metadata": {
    "scrolled": false
   },
   "outputs": [
    {
     "data": {
      "text/html": [
       "<div>\n",
       "<style scoped>\n",
       "    .dataframe tbody tr th:only-of-type {\n",
       "        vertical-align: middle;\n",
       "    }\n",
       "\n",
       "    .dataframe tbody tr th {\n",
       "        vertical-align: top;\n",
       "    }\n",
       "\n",
       "    .dataframe thead th {\n",
       "        text-align: right;\n",
       "    }\n",
       "</style>\n",
       "<table border=\"1\" class=\"dataframe\">\n",
       "  <thead>\n",
       "    <tr style=\"text-align: right;\">\n",
       "      <th></th>\n",
       "      <th>feature1</th>\n",
       "      <th>corr_churn</th>\n",
       "    </tr>\n",
       "  </thead>\n",
       "  <tbody>\n",
       "    <tr>\n",
       "      <th>13</th>\n",
       "      <td>Contract</td>\n",
       "      <td>0.409374</td>\n",
       "    </tr>\n",
       "    <tr>\n",
       "      <th>7</th>\n",
       "      <td>OnlineSecurity</td>\n",
       "      <td>0.345812</td>\n",
       "    </tr>\n",
       "    <tr>\n",
       "      <th>10</th>\n",
       "      <td>TechSupport</td>\n",
       "      <td>0.336577</td>\n",
       "    </tr>\n",
       "    <tr>\n",
       "      <th>6</th>\n",
       "      <td>InternetService</td>\n",
       "      <td>0.315592</td>\n",
       "    </tr>\n",
       "    <tr>\n",
       "      <th>15</th>\n",
       "      <td>PaymentMethod</td>\n",
       "      <td>0.298356</td>\n",
       "    </tr>\n",
       "    <tr>\n",
       "      <th>8</th>\n",
       "      <td>OnlineBackup</td>\n",
       "      <td>0.288908</td>\n",
       "    </tr>\n",
       "    <tr>\n",
       "      <th>9</th>\n",
       "      <td>DeviceProtection</td>\n",
       "      <td>0.279510</td>\n",
       "    </tr>\n",
       "    <tr>\n",
       "      <th>12</th>\n",
       "      <td>StreamingMovies</td>\n",
       "      <td>0.227184</td>\n",
       "    </tr>\n",
       "    <tr>\n",
       "      <th>11</th>\n",
       "      <td>StreamingTV</td>\n",
       "      <td>0.226700</td>\n",
       "    </tr>\n",
       "    <tr>\n",
       "      <th>14</th>\n",
       "      <td>PaperlessBilling</td>\n",
       "      <td>0.188612</td>\n",
       "    </tr>\n",
       "    <tr>\n",
       "      <th>3</th>\n",
       "      <td>Dependents</td>\n",
       "      <td>0.159791</td>\n",
       "    </tr>\n",
       "    <tr>\n",
       "      <th>1</th>\n",
       "      <td>SeniorCitizen</td>\n",
       "      <td>0.149583</td>\n",
       "    </tr>\n",
       "    <tr>\n",
       "      <th>2</th>\n",
       "      <td>Partner</td>\n",
       "      <td>0.146461</td>\n",
       "    </tr>\n",
       "    <tr>\n",
       "      <th>5</th>\n",
       "      <td>MultipleLines</td>\n",
       "      <td>0.036355</td>\n",
       "    </tr>\n",
       "    <tr>\n",
       "      <th>0</th>\n",
       "      <td>gender</td>\n",
       "      <td>0.009170</td>\n",
       "    </tr>\n",
       "    <tr>\n",
       "      <th>4</th>\n",
       "      <td>PhoneService</td>\n",
       "      <td>0.008786</td>\n",
       "    </tr>\n",
       "  </tbody>\n",
       "</table>\n",
       "</div>"
      ],
      "text/plain": [
       "            feature1  corr_churn\n",
       "13          Contract    0.409374\n",
       "7     OnlineSecurity    0.345812\n",
       "10       TechSupport    0.336577\n",
       "6    InternetService    0.315592\n",
       "15     PaymentMethod    0.298356\n",
       "8       OnlineBackup    0.288908\n",
       "9   DeviceProtection    0.279510\n",
       "12   StreamingMovies    0.227184\n",
       "11       StreamingTV    0.226700\n",
       "14  PaperlessBilling    0.188612\n",
       "3         Dependents    0.159791\n",
       "1      SeniorCitizen    0.149583\n",
       "2            Partner    0.146461\n",
       "5      MultipleLines    0.036355\n",
       "0             gender    0.009170\n",
       "4       PhoneService    0.008786"
      ]
     },
     "execution_count": 387,
     "metadata": {},
     "output_type": "execute_result"
    }
   ],
   "source": [
    "# Используем коэффициент V Крамера и матрицу сопряженности для иследования корреляции категориальных признаков\n",
    "\n",
    "cat_churn = categorical_features + ['Churn']\n",
    "\n",
    "def cramers_V(confusion_matrix):\n",
    "    cm = confusion_matrix.values\n",
    "    chi2 = ss.chi2_contingency(cm, correction=True)[0]\n",
    "    p_value = ss.chi2_contingency(cm)[1]\n",
    "    n = cm.sum()\n",
    "    return [np.sqrt(chi2 / (n*(min(cm.shape)-1))), p_value]\n",
    "\n",
    "\n",
    "\n",
    "category_corrs = []\n",
    "for feature1 in categorical_features:\n",
    "    conf_matr = dataframe[[feature1, 'Churn', 'customerID']].groupby([feature1, 'Churn'], as_index=False).count() \\\n",
    "                .pivot(index=feature1, columns='Churn', values='customerID')\n",
    "    p_value = cramers_V(conf_matr)[1]\n",
    "    if p_value > 0:\n",
    "            category_corrs.append((feature1, cramers_V(conf_matr)[0]))\n",
    "category_corrs = pd.DataFrame(category_corrs)\n",
    "category_corrs.columns = ['feature1', 'corr_churn']\n",
    "\n",
    "\n",
    "category_corrs.sort_values(by='corr_churn', ascending=False)"
   ]
  },
  {
   "cell_type": "markdown",
   "metadata": {},
   "source": [
    "###### Мэппинг категориальных признаков для обучения модели"
   ]
  },
  {
   "cell_type": "code",
   "execution_count": 388,
   "metadata": {},
   "outputs": [
    {
     "data": {
      "text/html": [
       "<div>\n",
       "<style scoped>\n",
       "    .dataframe tbody tr th:only-of-type {\n",
       "        vertical-align: middle;\n",
       "    }\n",
       "\n",
       "    .dataframe tbody tr th {\n",
       "        vertical-align: top;\n",
       "    }\n",
       "\n",
       "    .dataframe thead th {\n",
       "        text-align: right;\n",
       "    }\n",
       "</style>\n",
       "<table border=\"1\" class=\"dataframe\">\n",
       "  <thead>\n",
       "    <tr style=\"text-align: right;\">\n",
       "      <th></th>\n",
       "      <th>DistVal</th>\n",
       "      <th>Feature</th>\n",
       "    </tr>\n",
       "  </thead>\n",
       "  <tbody>\n",
       "    <tr>\n",
       "      <th>11</th>\n",
       "      <td>3</td>\n",
       "      <td>StreamingTV</td>\n",
       "    </tr>\n",
       "    <tr>\n",
       "      <th>12</th>\n",
       "      <td>3</td>\n",
       "      <td>StreamingMovies</td>\n",
       "    </tr>\n",
       "    <tr>\n",
       "      <th>13</th>\n",
       "      <td>3</td>\n",
       "      <td>Contract</td>\n",
       "    </tr>\n",
       "    <tr>\n",
       "      <th>14</th>\n",
       "      <td>2</td>\n",
       "      <td>PaperlessBilling</td>\n",
       "    </tr>\n",
       "    <tr>\n",
       "      <th>15</th>\n",
       "      <td>4</td>\n",
       "      <td>PaymentMethod</td>\n",
       "    </tr>\n",
       "  </tbody>\n",
       "</table>\n",
       "</div>"
      ],
      "text/plain": [
       "   DistVal           Feature\n",
       "11       3       StreamingTV\n",
       "12       3   StreamingMovies\n",
       "13       3          Contract\n",
       "14       2  PaperlessBilling\n",
       "15       4     PaymentMethod"
      ]
     },
     "execution_count": 388,
     "metadata": {},
     "output_type": "execute_result"
    }
   ],
   "source": [
    "cat_feat_map = pd.DataFrame(columns=['DistVal', 'Feature'])\n",
    "\n",
    "for cat_feat in categorical_features:\n",
    "    cat_feat_map = cat_feat_map.append({'DistVal': X[cat_feat].nunique(), 'Feature': cat_feat}, ignore_index=True)\n",
    "    \n",
    "cat_feat_map.tail()"
   ]
  },
  {
   "cell_type": "code",
   "execution_count": 389,
   "metadata": {},
   "outputs": [],
   "source": [
    "# Для мэппинга признаков с двумя возможными значениями - маркируем Yes - 1, No - 0 (кроме пола)\n",
    "\n",
    "# Для признаков с большим количеством значений - one-hot encoding\n",
    "\n",
    "cat_feat_to_map = list(cat_feat_map.query('DistVal <= 2').Feature.values)\n",
    "cat_feat_to_map.remove('gender')\n",
    "cat_feat_to_map.remove('SeniorCitizen')\n",
    "cat_feat_one_hot = list(cat_feat_map.query('DistVal > 2').Feature.values)"
   ]
  },
  {
   "cell_type": "code",
   "execution_count": 390,
   "metadata": {},
   "outputs": [],
   "source": [
    "dataframe_ml = dataframe.drop(['customerID'], axis=1)\n",
    "\n",
    "for feature in cat_feat_to_map:\n",
    "    dataframe_ml[feature] = dataframe_ml[feature].map({'Yes': 1, 'No': 0})\n",
    " "
   ]
  },
  {
   "cell_type": "code",
   "execution_count": 391,
   "metadata": {},
   "outputs": [
    {
     "data": {
      "text/html": [
       "<div>\n",
       "<style scoped>\n",
       "    .dataframe tbody tr th:only-of-type {\n",
       "        vertical-align: middle;\n",
       "    }\n",
       "\n",
       "    .dataframe tbody tr th {\n",
       "        vertical-align: top;\n",
       "    }\n",
       "\n",
       "    .dataframe thead th {\n",
       "        text-align: right;\n",
       "    }\n",
       "</style>\n",
       "<table border=\"1\" class=\"dataframe\">\n",
       "  <thead>\n",
       "    <tr style=\"text-align: right;\">\n",
       "      <th></th>\n",
       "      <th>SeniorCitizen</th>\n",
       "      <th>Partner</th>\n",
       "      <th>Dependents</th>\n",
       "      <th>tenure</th>\n",
       "      <th>PhoneService</th>\n",
       "      <th>PaperlessBilling</th>\n",
       "      <th>MonthlyCharges</th>\n",
       "      <th>TotalCharges</th>\n",
       "      <th>Churn</th>\n",
       "      <th>MultipleLines_No</th>\n",
       "      <th>...</th>\n",
       "      <th>StreamingMovies_Yes</th>\n",
       "      <th>Contract_Month-to-month</th>\n",
       "      <th>Contract_One year</th>\n",
       "      <th>Contract_Two year</th>\n",
       "      <th>PaymentMethod_Bank transfer (automatic)</th>\n",
       "      <th>PaymentMethod_Credit card (automatic)</th>\n",
       "      <th>PaymentMethod_Electronic check</th>\n",
       "      <th>PaymentMethod_Mailed check</th>\n",
       "      <th>gender_Female</th>\n",
       "      <th>gender_Male</th>\n",
       "    </tr>\n",
       "  </thead>\n",
       "  <tbody>\n",
       "    <tr>\n",
       "      <th>0</th>\n",
       "      <td>0</td>\n",
       "      <td>1</td>\n",
       "      <td>1</td>\n",
       "      <td>72</td>\n",
       "      <td>1</td>\n",
       "      <td>0</td>\n",
       "      <td>24.10</td>\n",
       "      <td>1734.650024</td>\n",
       "      <td>0</td>\n",
       "      <td>0</td>\n",
       "      <td>...</td>\n",
       "      <td>0</td>\n",
       "      <td>0</td>\n",
       "      <td>0</td>\n",
       "      <td>1</td>\n",
       "      <td>0</td>\n",
       "      <td>1</td>\n",
       "      <td>0</td>\n",
       "      <td>0</td>\n",
       "      <td>0</td>\n",
       "      <td>1</td>\n",
       "    </tr>\n",
       "    <tr>\n",
       "      <th>1</th>\n",
       "      <td>0</td>\n",
       "      <td>0</td>\n",
       "      <td>0</td>\n",
       "      <td>44</td>\n",
       "      <td>1</td>\n",
       "      <td>1</td>\n",
       "      <td>88.15</td>\n",
       "      <td>3973.199951</td>\n",
       "      <td>0</td>\n",
       "      <td>1</td>\n",
       "      <td>...</td>\n",
       "      <td>0</td>\n",
       "      <td>1</td>\n",
       "      <td>0</td>\n",
       "      <td>0</td>\n",
       "      <td>0</td>\n",
       "      <td>1</td>\n",
       "      <td>0</td>\n",
       "      <td>0</td>\n",
       "      <td>1</td>\n",
       "      <td>0</td>\n",
       "    </tr>\n",
       "    <tr>\n",
       "      <th>2</th>\n",
       "      <td>1</td>\n",
       "      <td>1</td>\n",
       "      <td>0</td>\n",
       "      <td>38</td>\n",
       "      <td>1</td>\n",
       "      <td>1</td>\n",
       "      <td>74.95</td>\n",
       "      <td>2869.850098</td>\n",
       "      <td>1</td>\n",
       "      <td>0</td>\n",
       "      <td>...</td>\n",
       "      <td>0</td>\n",
       "      <td>1</td>\n",
       "      <td>0</td>\n",
       "      <td>0</td>\n",
       "      <td>1</td>\n",
       "      <td>0</td>\n",
       "      <td>0</td>\n",
       "      <td>0</td>\n",
       "      <td>1</td>\n",
       "      <td>0</td>\n",
       "    </tr>\n",
       "    <tr>\n",
       "      <th>3</th>\n",
       "      <td>0</td>\n",
       "      <td>0</td>\n",
       "      <td>0</td>\n",
       "      <td>4</td>\n",
       "      <td>1</td>\n",
       "      <td>1</td>\n",
       "      <td>55.90</td>\n",
       "      <td>238.500000</td>\n",
       "      <td>0</td>\n",
       "      <td>1</td>\n",
       "      <td>...</td>\n",
       "      <td>1</td>\n",
       "      <td>1</td>\n",
       "      <td>0</td>\n",
       "      <td>0</td>\n",
       "      <td>0</td>\n",
       "      <td>0</td>\n",
       "      <td>1</td>\n",
       "      <td>0</td>\n",
       "      <td>0</td>\n",
       "      <td>1</td>\n",
       "    </tr>\n",
       "    <tr>\n",
       "      <th>4</th>\n",
       "      <td>0</td>\n",
       "      <td>0</td>\n",
       "      <td>0</td>\n",
       "      <td>2</td>\n",
       "      <td>1</td>\n",
       "      <td>0</td>\n",
       "      <td>53.45</td>\n",
       "      <td>119.500000</td>\n",
       "      <td>0</td>\n",
       "      <td>1</td>\n",
       "      <td>...</td>\n",
       "      <td>0</td>\n",
       "      <td>1</td>\n",
       "      <td>0</td>\n",
       "      <td>0</td>\n",
       "      <td>0</td>\n",
       "      <td>0</td>\n",
       "      <td>1</td>\n",
       "      <td>0</td>\n",
       "      <td>0</td>\n",
       "      <td>1</td>\n",
       "    </tr>\n",
       "  </tbody>\n",
       "</table>\n",
       "<p>5 rows × 42 columns</p>\n",
       "</div>"
      ],
      "text/plain": [
       "   SeniorCitizen  Partner  Dependents  tenure  PhoneService  PaperlessBilling  \\\n",
       "0              0        1           1      72             1                 0   \n",
       "1              0        0           0      44             1                 1   \n",
       "2              1        1           0      38             1                 1   \n",
       "3              0        0           0       4             1                 1   \n",
       "4              0        0           0       2             1                 0   \n",
       "\n",
       "   MonthlyCharges  TotalCharges  Churn  MultipleLines_No  ...  \\\n",
       "0           24.10   1734.650024      0                 0  ...   \n",
       "1           88.15   3973.199951      0                 1  ...   \n",
       "2           74.95   2869.850098      1                 0  ...   \n",
       "3           55.90    238.500000      0                 1  ...   \n",
       "4           53.45    119.500000      0                 1  ...   \n",
       "\n",
       "   StreamingMovies_Yes  Contract_Month-to-month  Contract_One year  \\\n",
       "0                    0                        0                  0   \n",
       "1                    0                        1                  0   \n",
       "2                    0                        1                  0   \n",
       "3                    1                        1                  0   \n",
       "4                    0                        1                  0   \n",
       "\n",
       "   Contract_Two year  PaymentMethod_Bank transfer (automatic)  \\\n",
       "0                  1                                        0   \n",
       "1                  0                                        0   \n",
       "2                  0                                        1   \n",
       "3                  0                                        0   \n",
       "4                  0                                        0   \n",
       "\n",
       "   PaymentMethod_Credit card (automatic)  PaymentMethod_Electronic check  \\\n",
       "0                                      1                               0   \n",
       "1                                      1                               0   \n",
       "2                                      0                               0   \n",
       "3                                      0                               1   \n",
       "4                                      0                               1   \n",
       "\n",
       "   PaymentMethod_Mailed check  gender_Female  gender_Male  \n",
       "0                           0              0            1  \n",
       "1                           0              1            0  \n",
       "2                           0              1            0  \n",
       "3                           0              0            1  \n",
       "4                           0              0            1  \n",
       "\n",
       "[5 rows x 42 columns]"
      ]
     },
     "execution_count": 391,
     "metadata": {},
     "output_type": "execute_result"
    }
   ],
   "source": [
    "dataframe_ml = pd.get_dummies(dataframe_ml, columns=cat_feat_one_hot + ['gender'])\n",
    "\n",
    "dataframe_ml.head()"
   ]
  },
  {
   "cell_type": "markdown",
   "metadata": {},
   "source": [
    "## 2. Исследование зависимостей и формулирование гипотез"
   ]
  },
  {
   "cell_type": "code",
   "execution_count": 392,
   "metadata": {
    "scrolled": true
   },
   "outputs": [
    {
     "data": {
      "image/png": "[encoded data removed]",
      "text/plain": [
       "<Figure size 720x360 with 1 Axes>"
      ]
     },
     "metadata": {
      "needs_background": "light"
     },
     "output_type": "display_data"
    }
   ],
   "source": [
    "plt.figure(figsize=(10, 5))\n",
    "sns.scatterplot(data=dataframe[['MonthlyCharges', 'TotalCharges']], x='MonthlyCharges', y='TotalCharges')\n",
    "plt.show()"
   ]
  },
  {
   "cell_type": "markdown",
   "metadata": {},
   "source": [
    "Наблюдается сильная корреляция (но с большим разбросом), вероятно, стоит исключить один из рассматриваемых признаков для обучения."
   ]
  },
  {
   "cell_type": "code",
   "execution_count": 393,
   "metadata": {},
   "outputs": [
    {
     "data": {
      "text/html": [
       "<div>\n",
       "<style scoped>\n",
       "    .dataframe tbody tr th:only-of-type {\n",
       "        vertical-align: middle;\n",
       "    }\n",
       "\n",
       "    .dataframe tbody tr th {\n",
       "        vertical-align: top;\n",
       "    }\n",
       "\n",
       "    .dataframe thead th {\n",
       "        text-align: right;\n",
       "    }\n",
       "</style>\n",
       "<table border=\"1\" class=\"dataframe\">\n",
       "  <thead>\n",
       "    <tr style=\"text-align: right;\">\n",
       "      <th></th>\n",
       "      <th>Churn</th>\n",
       "    </tr>\n",
       "    <tr>\n",
       "      <th>gender</th>\n",
       "      <th></th>\n",
       "    </tr>\n",
       "  </thead>\n",
       "  <tbody>\n",
       "    <tr>\n",
       "      <th>Female</th>\n",
       "      <td>0.269414</td>\n",
       "    </tr>\n",
       "    <tr>\n",
       "      <th>Male</th>\n",
       "      <td>0.260984</td>\n",
       "    </tr>\n",
       "  </tbody>\n",
       "</table>\n",
       "</div>"
      ],
      "text/plain": [
       "           Churn\n",
       "gender          \n",
       "Female  0.269414\n",
       "Male    0.260984"
      ]
     },
     "execution_count": 393,
     "metadata": {},
     "output_type": "execute_result"
    }
   ],
   "source": [
    "dataframe[['gender', 'Churn']].groupby('gender').mean()"
   ]
  },
  {
   "cell_type": "code",
   "execution_count": 394,
   "metadata": {},
   "outputs": [
    {
     "data": {
      "text/html": [
       "<div>\n",
       "<style scoped>\n",
       "    .dataframe tbody tr th:only-of-type {\n",
       "        vertical-align: middle;\n",
       "    }\n",
       "\n",
       "    .dataframe tbody tr th {\n",
       "        vertical-align: top;\n",
       "    }\n",
       "\n",
       "    .dataframe thead th {\n",
       "        text-align: right;\n",
       "    }\n",
       "</style>\n",
       "<table border=\"1\" class=\"dataframe\">\n",
       "  <thead>\n",
       "    <tr style=\"text-align: right;\">\n",
       "      <th></th>\n",
       "      <th>Churn</th>\n",
       "    </tr>\n",
       "    <tr>\n",
       "      <th>PaymentMethod</th>\n",
       "      <th></th>\n",
       "    </tr>\n",
       "  </thead>\n",
       "  <tbody>\n",
       "    <tr>\n",
       "      <th>Bank transfer (automatic)</th>\n",
       "      <td>0.171254</td>\n",
       "    </tr>\n",
       "    <tr>\n",
       "      <th>Credit card (automatic)</th>\n",
       "      <td>0.151957</td>\n",
       "    </tr>\n",
       "    <tr>\n",
       "      <th>Electronic check</th>\n",
       "      <td>0.449651</td>\n",
       "    </tr>\n",
       "    <tr>\n",
       "      <th>Mailed check</th>\n",
       "      <td>0.192111</td>\n",
       "    </tr>\n",
       "  </tbody>\n",
       "</table>\n",
       "</div>"
      ],
      "text/plain": [
       "                              Churn\n",
       "PaymentMethod                      \n",
       "Bank transfer (automatic)  0.171254\n",
       "Credit card (automatic)    0.151957\n",
       "Electronic check           0.449651\n",
       "Mailed check               0.192111"
      ]
     },
     "execution_count": 394,
     "metadata": {},
     "output_type": "execute_result"
    }
   ],
   "source": [
    "dataframe[['PaymentMethod', 'Churn']].groupby('PaymentMethod').mean()"
   ]
  },
  {
   "cell_type": "code",
   "execution_count": 395,
   "metadata": {},
   "outputs": [
    {
     "data": {
      "text/html": [
       "<div>\n",
       "<style scoped>\n",
       "    .dataframe tbody tr th:only-of-type {\n",
       "        vertical-align: middle;\n",
       "    }\n",
       "\n",
       "    .dataframe tbody tr th {\n",
       "        vertical-align: top;\n",
       "    }\n",
       "\n",
       "    .dataframe thead th {\n",
       "        text-align: right;\n",
       "    }\n",
       "</style>\n",
       "<table border=\"1\" class=\"dataframe\">\n",
       "  <thead>\n",
       "    <tr style=\"text-align: right;\">\n",
       "      <th></th>\n",
       "      <th></th>\n",
       "      <th>Churn</th>\n",
       "    </tr>\n",
       "    <tr>\n",
       "      <th>Partner</th>\n",
       "      <th>Dependents</th>\n",
       "      <th></th>\n",
       "    </tr>\n",
       "  </thead>\n",
       "  <tbody>\n",
       "    <tr>\n",
       "      <th rowspan=\"2\" valign=\"top\">No</th>\n",
       "      <th>No</th>\n",
       "      <td>0.340541</td>\n",
       "    </tr>\n",
       "    <tr>\n",
       "      <th>Yes</th>\n",
       "      <td>0.214984</td>\n",
       "    </tr>\n",
       "    <tr>\n",
       "      <th rowspan=\"2\" valign=\"top\">Yes</th>\n",
       "      <th>No</th>\n",
       "      <td>0.254225</td>\n",
       "    </tr>\n",
       "    <tr>\n",
       "      <th>Yes</th>\n",
       "      <td>0.144879</td>\n",
       "    </tr>\n",
       "  </tbody>\n",
       "</table>\n",
       "</div>"
      ],
      "text/plain": [
       "                       Churn\n",
       "Partner Dependents          \n",
       "No      No          0.340541\n",
       "        Yes         0.214984\n",
       "Yes     No          0.254225\n",
       "        Yes         0.144879"
      ]
     },
     "execution_count": 395,
     "metadata": {},
     "output_type": "execute_result"
    }
   ],
   "source": [
    "dataframe[['Partner', 'Dependents', 'Churn']].groupby(['Partner', 'Dependents']).mean()"
   ]
  },
  {
   "cell_type": "code",
   "execution_count": 396,
   "metadata": {},
   "outputs": [
    {
     "data": {
      "image/png": "[encoded data removed]",
      "text/plain": [
       "<Figure size 720x360 with 1 Axes>"
      ]
     },
     "metadata": {
      "needs_background": "light"
     },
     "output_type": "display_data"
    }
   ],
   "source": [
    "plt.figure(figsize=(10, 5))\n",
    "sns.barplot(data=dataframe[['MonthlyCharges', 'Churn']].groupby('Churn', as_index=False).mean(), x='Churn', y='MonthlyCharges')\n",
    "plt.show()"
   ]
  },
  {
   "cell_type": "code",
   "execution_count": 397,
   "metadata": {},
   "outputs": [
    {
     "data": {
      "image/png": "[encoded data removed]",
      "text/plain": [
       "<Figure size 720x360 with 1 Axes>"
      ]
     },
     "metadata": {
      "needs_background": "light"
     },
     "output_type": "display_data"
    }
   ],
   "source": [
    "plt.figure(figsize=(10, 5))\n",
    "sns.barplot(data=dataframe[['tenure', 'Churn']].groupby('Churn', as_index=False).mean(), x='Churn', y='tenure')\n",
    "plt.show()"
   ]
  },
  {
   "cell_type": "code",
   "execution_count": 398,
   "metadata": {},
   "outputs": [
    {
     "data": {
      "image/png": "[encoded data removed]",
      "text/plain": [
       "<Figure size 416.915x475.2 with 3 Axes>"
      ]
     },
     "metadata": {
      "needs_background": "light"
     },
     "output_type": "display_data"
    }
   ],
   "source": [
    "grid = sns.FacetGrid(dataframe, row='Contract', size=2.2, aspect=1.6)\n",
    "grid.map(sns.pointplot, 'OnlineBackup', 'Churn', 'PaymentMethod', palette='deep')\n",
    "grid.add_legend()\n",
    "plt.show()"
   ]
  },
  {
   "cell_type": "markdown",
   "metadata": {},
   "source": [
    "##### Выводы:  \n",
    "- Следует исключить один из признаков - MonthlyCharges или TotalCharges\n",
    "- Средний отток не зависит от пола человека на имеющихся данных\n",
    "- Пользователи, оплачивающие услуги методом Electronic check - имеют наибольший отток\n",
    "- Семьянины меньше подвержены оттоку\n",
    "- Средний показатель MonthlyCharges не отражает склонность к оттоку, в отличие от количества месяцев жизни клиента\n",
    "- Построена зависимость тип контракта - метод оплаты - наличие услуги поддержки\n"
   ]
  },
  {
   "cell_type": "markdown",
   "metadata": {},
   "source": [
    "## 3. Построение моделей для прогнозирования оттока\n",
    "\n",
    "##### Baseline-решение"
   ]
  },
  {
   "cell_type": "markdown",
   "metadata": {},
   "source": [
    "Логистическая регрессия - один из наиболее распространенных методов для бинарной классификации."
   ]
  },
  {
   "cell_type": "code",
   "execution_count": 399,
   "metadata": {},
   "outputs": [],
   "source": [
    "def log_clf(X_tr, y_tr, X_ts, y_ts):\n",
    "    \n",
    "    logreg = LogisticRegression(random_state=42) \n",
    "    logreg_model = logreg.fit(X_tr, y_tr)\n",
    "    lr_predictions = logreg.predict(X_ts)\n",
    "    lr_recall = recall_score(y_ts, lr_predictions)\n",
    "    lr_roc_auc = roc_auc_score(y_ts, lr_predictions)\n",
    "    return lr_recall, lr_recall"
   ]
  },
  {
   "cell_type": "markdown",
   "metadata": {},
   "source": [
    "C-Support Vector Classification - применим для небольших объемов данных, чувствителен к выбросам."
   ]
  },
  {
   "cell_type": "code",
   "execution_count": 400,
   "metadata": {},
   "outputs": [],
   "source": [
    "def svc_clf(X_tr, y_tr, X_ts, y_ts):\n",
    "\n",
    "    svc = SVC(random_state=42)\n",
    "    svc_model = svc.fit(X_tr, y_tr)\n",
    "    svc_predictions = svc.predict(X_ts)\n",
    "    svc_recall = recall_score(y_ts, svc_predictions)\n",
    "    svc_roc_auc = roc_auc_score(y_ts, svc_predictions)\n",
    "    return svc_recall, svc_roc_auc"
   ]
  },
  {
   "cell_type": "markdown",
   "metadata": {},
   "source": [
    "KNN - устойчив к выбросам, модифицируется под задачу, применим к небольшым объемам данных."
   ]
  },
  {
   "cell_type": "code",
   "execution_count": 401,
   "metadata": {},
   "outputs": [],
   "source": [
    "def knn_clf(X_tr, y_tr, X_ts, y_ts):\n",
    "\n",
    "    knn = KNeighborsClassifier()\n",
    "    knn_model = knn.fit(X_tr, y_tr)\n",
    "    knn_predictions = knn.predict(X_ts)\n",
    "    knn_recall = recall_score(y_ts, knn_predictions)\n",
    "    knn_roc_auc = roc_auc_score(y_ts, knn_predictions)\n",
    "    return knn_recall, knn_roc_auc"
   ]
  },
  {
   "cell_type": "markdown",
   "metadata": {},
   "source": [
    "Naive Bayes - быстро выполняется, много категориальных признаков - алгоритм лучше работает, чувствителен к коррелирующим признакам."
   ]
  },
  {
   "cell_type": "code",
   "execution_count": 402,
   "metadata": {},
   "outputs": [],
   "source": [
    "def gnb_clf(X_tr, y_tr, X_ts, y_ts):\n",
    "\n",
    "    gaussian = GaussianNB()\n",
    "    gauss_model = gaussian.fit(X_tr, y_tr)\n",
    "    gauss_predictions = gaussian.predict(X_ts)\n",
    "    gauss_recall = recall_score(y_ts, gauss_predictions)\n",
    "    gauss_roc_auc = roc_auc_score(y_ts, gauss_predictions)\n",
    "    return gauss_recall, gauss_roc_auc"
   ]
  },
  {
   "cell_type": "markdown",
   "metadata": {},
   "source": [
    "Градиентный бустинг - универсальный алгоритм, не очень требователен к данным, восстанавливает нелинейные зависимости, и хорошо работает на больших наборах данных."
   ]
  },
  {
   "cell_type": "code",
   "execution_count": 403,
   "metadata": {},
   "outputs": [],
   "source": [
    "def gn_clf(X_tr, y_tr, X_ts, y_ts):\n",
    "\n",
    "    gbc = GradientBoostingClassifier(random_state=42)\n",
    "    gbc_model = gbc.fit(X_tr, y_tr)\n",
    "    gbc_predictions = gbc.predict(X_ts)\n",
    "    gbc_recall = recall_score(y_ts, gbc_predictions)\n",
    "    gbc_roc_auc = roc_auc_score(y_ts, gbc_predictions)\n",
    "    return gbc_recall, gbc_roc_auc"
   ]
  },
  {
   "cell_type": "markdown",
   "metadata": {},
   "source": [
    " Random Forest - устойчив к машстабу признаков, допускает разнотипные данные, не бывает отказов от классификации"
   ]
  },
  {
   "cell_type": "code",
   "execution_count": 404,
   "metadata": {},
   "outputs": [],
   "source": [
    "def rf_clf(X_tr, y_tr, X_ts, y_ts):\n",
    "\n",
    "    random_forest = RandomForestClassifier(random_state=42)\n",
    "    rfc_model = random_forest.fit(X_tr, y_tr)\n",
    "    rfc_predictions = random_forest.predict(X_ts)\n",
    "    rfc_recall = recall_score(y_ts, rfc_predictions)\n",
    "    rfc_roc_auc = roc_auc_score(y_ts, rfc_predictions)\n",
    "    return rfc_recall, rfc_roc_auc"
   ]
  },
  {
   "cell_type": "markdown",
   "metadata": {},
   "source": [
    "## 4. Сравнение качества моделей"
   ]
  },
  {
   "cell_type": "code",
   "execution_count": 405,
   "metadata": {},
   "outputs": [],
   "source": [
    "def modeling(X_train, y_train, X_test, y_test):\n",
    "\n",
    "    lr_roc_auc, lr_recall = log_clf(X_train, y_train, X_test, y_test)\n",
    "    svc_roc_auc, svc_recall = svc_clf(X_train, y_train, X_test, y_test)\n",
    "    knn_roc_auc, knn_recall = knn_clf(X_train, y_train, X_test, y_test)\n",
    "    gauss_roc_auc, gauss_recall = gnb_clf(X_train, y_train, X_test, y_test)\n",
    "    gbc_roc_auc, gbc_recall = gn_clf(X_train, y_train, X_test, y_test)\n",
    "    rfc_roc_auc, rfc_recall = rf_clf(X_train, y_train, X_test, y_test)\n",
    "\n",
    "    models = pd.DataFrame({\n",
    "        'Model': ['Logistic Regression', 'C-Support Vector Classification', 'K-nearest neighbors', 'Gaussian Naive Bayes', \n",
    "                  'Gradient Boosting', 'Random Forest'],\n",
    "        'Roc-Auc' : [lr_roc_auc, svc_roc_auc, knn_roc_auc, gauss_roc_auc, gbc_roc_auc, rfc_roc_auc],\n",
    "        'Recall': [lr_recall, svc_recall, knn_recall, gauss_recall, gbc_recall, rfc_recall]})\n",
    "\n",
    "    return models.sort_values(by=['Roc-Auc', 'Recall'], ascending=False)\n"
   ]
  },
  {
   "cell_type": "code",
   "execution_count": 406,
   "metadata": {},
   "outputs": [
    {
     "data": {
      "text/html": [
       "<div>\n",
       "<style scoped>\n",
       "    .dataframe tbody tr th:only-of-type {\n",
       "        vertical-align: middle;\n",
       "    }\n",
       "\n",
       "    .dataframe tbody tr th {\n",
       "        vertical-align: top;\n",
       "    }\n",
       "\n",
       "    .dataframe thead th {\n",
       "        text-align: right;\n",
       "    }\n",
       "</style>\n",
       "<table border=\"1\" class=\"dataframe\">\n",
       "  <thead>\n",
       "    <tr style=\"text-align: right;\">\n",
       "      <th></th>\n",
       "      <th>Model</th>\n",
       "      <th>Roc-Auc</th>\n",
       "      <th>Recall</th>\n",
       "    </tr>\n",
       "  </thead>\n",
       "  <tbody>\n",
       "    <tr>\n",
       "      <th>3</th>\n",
       "      <td>Gaussian Naive Bayes</td>\n",
       "      <td>0.829912</td>\n",
       "      <td>0.734505</td>\n",
       "    </tr>\n",
       "    <tr>\n",
       "      <th>4</th>\n",
       "      <td>Gradient Boosting</td>\n",
       "      <td>0.519062</td>\n",
       "      <td>0.714955</td>\n",
       "    </tr>\n",
       "    <tr>\n",
       "      <th>0</th>\n",
       "      <td>Logistic Regression</td>\n",
       "      <td>0.510264</td>\n",
       "      <td>0.510264</td>\n",
       "    </tr>\n",
       "    <tr>\n",
       "      <th>2</th>\n",
       "      <td>K-nearest neighbors</td>\n",
       "      <td>0.472141</td>\n",
       "      <td>0.674309</td>\n",
       "    </tr>\n",
       "    <tr>\n",
       "      <th>5</th>\n",
       "      <td>Random Forest</td>\n",
       "      <td>0.466276</td>\n",
       "      <td>0.692322</td>\n",
       "    </tr>\n",
       "    <tr>\n",
       "      <th>1</th>\n",
       "      <td>C-Support Vector Classification</td>\n",
       "      <td>0.000000</td>\n",
       "      <td>0.500000</td>\n",
       "    </tr>\n",
       "  </tbody>\n",
       "</table>\n",
       "</div>"
      ],
      "text/plain": [
       "                             Model   Roc-Auc    Recall\n",
       "3             Gaussian Naive Bayes  0.829912  0.734505\n",
       "4                Gradient Boosting  0.519062  0.714955\n",
       "0              Logistic Regression  0.510264  0.510264\n",
       "2              K-nearest neighbors  0.472141  0.674309\n",
       "5                    Random Forest  0.466276  0.692322\n",
       "1  C-Support Vector Classification  0.000000  0.500000"
      ]
     },
     "execution_count": 406,
     "metadata": {},
     "output_type": "execute_result"
    }
   ],
   "source": [
    "independent = dataframe_ml.drop(['Churn'], axis=1) \n",
    "target = dataframe_ml['Churn']\n",
    "\n",
    "X, X_valid, y, y_valid = train_test_split(independent, target, test_size=0.15, random_state=42)\n",
    "\n",
    "X_train, X_test, y_train, y_test = train_test_split(X, y, test_size=0.25, random_state=42)\n",
    "\n",
    "modeling(X_train, y_train, X_test, y_test)"
   ]
  },
  {
   "cell_type": "markdown",
   "metadata": {},
   "source": [
    "## 5. Эксперименты с моделью"
   ]
  },
  {
   "cell_type": "markdown",
   "metadata": {},
   "source": [
    "Попробуем исключить один из коррелирущих числовых признаков - TotalCharges или MonthlyCharges."
   ]
  },
  {
   "cell_type": "code",
   "execution_count": 407,
   "metadata": {},
   "outputs": [
    {
     "data": {
      "text/html": [
       "<div>\n",
       "<style scoped>\n",
       "    .dataframe tbody tr th:only-of-type {\n",
       "        vertical-align: middle;\n",
       "    }\n",
       "\n",
       "    .dataframe tbody tr th {\n",
       "        vertical-align: top;\n",
       "    }\n",
       "\n",
       "    .dataframe thead th {\n",
       "        text-align: right;\n",
       "    }\n",
       "</style>\n",
       "<table border=\"1\" class=\"dataframe\">\n",
       "  <thead>\n",
       "    <tr style=\"text-align: right;\">\n",
       "      <th></th>\n",
       "      <th>Model</th>\n",
       "      <th>Roc-Auc</th>\n",
       "      <th>Recall</th>\n",
       "    </tr>\n",
       "  </thead>\n",
       "  <tbody>\n",
       "    <tr>\n",
       "      <th>3</th>\n",
       "      <td>Gaussian Naive Bayes</td>\n",
       "      <td>0.838710</td>\n",
       "      <td>0.737293</td>\n",
       "    </tr>\n",
       "    <tr>\n",
       "      <th>0</th>\n",
       "      <td>Logistic Regression</td>\n",
       "      <td>0.533724</td>\n",
       "      <td>0.533724</td>\n",
       "    </tr>\n",
       "    <tr>\n",
       "      <th>2</th>\n",
       "      <td>K-nearest neighbors</td>\n",
       "      <td>0.516129</td>\n",
       "      <td>0.697377</td>\n",
       "    </tr>\n",
       "    <tr>\n",
       "      <th>4</th>\n",
       "      <td>Gradient Boosting</td>\n",
       "      <td>0.513196</td>\n",
       "      <td>0.713097</td>\n",
       "    </tr>\n",
       "    <tr>\n",
       "      <th>5</th>\n",
       "      <td>Random Forest</td>\n",
       "      <td>0.448680</td>\n",
       "      <td>0.678153</td>\n",
       "    </tr>\n",
       "    <tr>\n",
       "      <th>1</th>\n",
       "      <td>C-Support Vector Classification</td>\n",
       "      <td>0.395894</td>\n",
       "      <td>0.665724</td>\n",
       "    </tr>\n",
       "  </tbody>\n",
       "</table>\n",
       "</div>"
      ],
      "text/plain": [
       "                             Model   Roc-Auc    Recall\n",
       "3             Gaussian Naive Bayes  0.838710  0.737293\n",
       "0              Logistic Regression  0.533724  0.533724\n",
       "2              K-nearest neighbors  0.516129  0.697377\n",
       "4                Gradient Boosting  0.513196  0.713097\n",
       "5                    Random Forest  0.448680  0.678153\n",
       "1  C-Support Vector Classification  0.395894  0.665724"
      ]
     },
     "execution_count": 407,
     "metadata": {},
     "output_type": "execute_result"
    }
   ],
   "source": [
    "independent = dataframe_ml.drop(['Churn', 'TotalCharges'], axis=1) \n",
    "target = dataframe_ml['Churn']\n",
    "\n",
    "X, X_valid, y, y_valid = train_test_split(independent, target, test_size=0.15, random_state=42)\n",
    "\n",
    "X_train, X_test, y_train, y_test = train_test_split(X, y, test_size=0.25, random_state=42)\n",
    "\n",
    "modeling(X_train, y_train, X_test, y_test)"
   ]
  },
  {
   "cell_type": "code",
   "execution_count": 408,
   "metadata": {},
   "outputs": [
    {
     "data": {
      "text/html": [
       "<div>\n",
       "<style scoped>\n",
       "    .dataframe tbody tr th:only-of-type {\n",
       "        vertical-align: middle;\n",
       "    }\n",
       "\n",
       "    .dataframe tbody tr th {\n",
       "        vertical-align: top;\n",
       "    }\n",
       "\n",
       "    .dataframe thead th {\n",
       "        text-align: right;\n",
       "    }\n",
       "</style>\n",
       "<table border=\"1\" class=\"dataframe\">\n",
       "  <thead>\n",
       "    <tr style=\"text-align: right;\">\n",
       "      <th></th>\n",
       "      <th>Model</th>\n",
       "      <th>Roc-Auc</th>\n",
       "      <th>Recall</th>\n",
       "    </tr>\n",
       "  </thead>\n",
       "  <tbody>\n",
       "    <tr>\n",
       "      <th>3</th>\n",
       "      <td>Gaussian Naive Bayes</td>\n",
       "      <td>0.832845</td>\n",
       "      <td>0.738656</td>\n",
       "    </tr>\n",
       "    <tr>\n",
       "      <th>4</th>\n",
       "      <td>Gradient Boosting</td>\n",
       "      <td>0.530792</td>\n",
       "      <td>0.721357</td>\n",
       "    </tr>\n",
       "    <tr>\n",
       "      <th>0</th>\n",
       "      <td>Logistic Regression</td>\n",
       "      <td>0.513196</td>\n",
       "      <td>0.513196</td>\n",
       "    </tr>\n",
       "    <tr>\n",
       "      <th>5</th>\n",
       "      <td>Random Forest</td>\n",
       "      <td>0.454545</td>\n",
       "      <td>0.680549</td>\n",
       "    </tr>\n",
       "    <tr>\n",
       "      <th>2</th>\n",
       "      <td>K-nearest neighbors</td>\n",
       "      <td>0.425220</td>\n",
       "      <td>0.640644</td>\n",
       "    </tr>\n",
       "    <tr>\n",
       "      <th>1</th>\n",
       "      <td>C-Support Vector Classification</td>\n",
       "      <td>0.000000</td>\n",
       "      <td>0.500000</td>\n",
       "    </tr>\n",
       "  </tbody>\n",
       "</table>\n",
       "</div>"
      ],
      "text/plain": [
       "                             Model   Roc-Auc    Recall\n",
       "3             Gaussian Naive Bayes  0.832845  0.738656\n",
       "4                Gradient Boosting  0.530792  0.721357\n",
       "0              Logistic Regression  0.513196  0.513196\n",
       "5                    Random Forest  0.454545  0.680549\n",
       "2              K-nearest neighbors  0.425220  0.640644\n",
       "1  C-Support Vector Classification  0.000000  0.500000"
      ]
     },
     "execution_count": 408,
     "metadata": {},
     "output_type": "execute_result"
    }
   ],
   "source": [
    "independent = dataframe_ml.drop(['Churn', 'MonthlyCharges'], axis=1) \n",
    "target = dataframe_ml['Churn']\n",
    "\n",
    "X, X_valid, y, y_valid = train_test_split(independent, target, test_size=0.15, random_state=42)\n",
    "\n",
    "X_train, X_test, y_train, y_test = train_test_split(X, y, test_size=0.25, random_state=42)\n",
    "\n",
    "modeling(X_train, y_train, X_test, y_test)"
   ]
  },
  {
   "cell_type": "markdown",
   "metadata": {},
   "source": [
    "Используем техники оверсемплинга: SMOTE и ADASYN."
   ]
  },
  {
   "cell_type": "code",
   "execution_count": 409,
   "metadata": {},
   "outputs": [
    {
     "data": {
      "text/html": [
       "<div>\n",
       "<style scoped>\n",
       "    .dataframe tbody tr th:only-of-type {\n",
       "        vertical-align: middle;\n",
       "    }\n",
       "\n",
       "    .dataframe tbody tr th {\n",
       "        vertical-align: top;\n",
       "    }\n",
       "\n",
       "    .dataframe thead th {\n",
       "        text-align: right;\n",
       "    }\n",
       "</style>\n",
       "<table border=\"1\" class=\"dataframe\">\n",
       "  <thead>\n",
       "    <tr style=\"text-align: right;\">\n",
       "      <th></th>\n",
       "      <th>Model</th>\n",
       "      <th>Roc-Auc</th>\n",
       "      <th>Recall</th>\n",
       "    </tr>\n",
       "  </thead>\n",
       "  <tbody>\n",
       "    <tr>\n",
       "      <th>3</th>\n",
       "      <td>Gaussian Naive Bayes</td>\n",
       "      <td>0.879334</td>\n",
       "      <td>0.795698</td>\n",
       "    </tr>\n",
       "    <tr>\n",
       "      <th>4</th>\n",
       "      <td>Gradient Boosting</td>\n",
       "      <td>0.847434</td>\n",
       "      <td>0.849139</td>\n",
       "    </tr>\n",
       "    <tr>\n",
       "      <th>0</th>\n",
       "      <td>Logistic Regression</td>\n",
       "      <td>0.847434</td>\n",
       "      <td>0.847434</td>\n",
       "    </tr>\n",
       "    <tr>\n",
       "      <th>5</th>\n",
       "      <td>Random Forest</td>\n",
       "      <td>0.843273</td>\n",
       "      <td>0.861974</td>\n",
       "    </tr>\n",
       "    <tr>\n",
       "      <th>2</th>\n",
       "      <td>K-nearest neighbors</td>\n",
       "      <td>0.773925</td>\n",
       "      <td>0.752073</td>\n",
       "    </tr>\n",
       "    <tr>\n",
       "      <th>1</th>\n",
       "      <td>C-Support Vector Classification</td>\n",
       "      <td>0.547850</td>\n",
       "      <td>0.623471</td>\n",
       "    </tr>\n",
       "  </tbody>\n",
       "</table>\n",
       "</div>"
      ],
      "text/plain": [
       "                             Model   Roc-Auc    Recall\n",
       "3             Gaussian Naive Bayes  0.879334  0.795698\n",
       "4                Gradient Boosting  0.847434  0.849139\n",
       "0              Logistic Regression  0.847434  0.847434\n",
       "5                    Random Forest  0.843273  0.861974\n",
       "2              K-nearest neighbors  0.773925  0.752073\n",
       "1  C-Support Vector Classification  0.547850  0.623471"
      ]
     },
     "execution_count": 409,
     "metadata": {},
     "output_type": "execute_result"
    }
   ],
   "source": [
    "independent = dataframe_ml.drop(['Churn'], axis=1) \n",
    "target = dataframe_ml['Churn']\n",
    "\n",
    "X, X_valid, y, y_valid = train_test_split(independent, target, test_size=0.15, random_state=42)\n",
    "\n",
    "X_smote, y_smote = SMOTE().fit_resample(X, y)\n",
    "X_train, X_test, y_train, y_test = train_test_split(X_smote, y_smote, test_size=0.2, random_state=42)\n",
    "\n",
    "modeling(X_train, y_train, X_test, y_test)"
   ]
  },
  {
   "cell_type": "code",
   "execution_count": 410,
   "metadata": {},
   "outputs": [
    {
     "data": {
      "text/html": [
       "<div>\n",
       "<style scoped>\n",
       "    .dataframe tbody tr th:only-of-type {\n",
       "        vertical-align: middle;\n",
       "    }\n",
       "\n",
       "    .dataframe tbody tr th {\n",
       "        vertical-align: top;\n",
       "    }\n",
       "\n",
       "    .dataframe thead th {\n",
       "        text-align: right;\n",
       "    }\n",
       "</style>\n",
       "<table border=\"1\" class=\"dataframe\">\n",
       "  <thead>\n",
       "    <tr style=\"text-align: right;\">\n",
       "      <th></th>\n",
       "      <th>Model</th>\n",
       "      <th>Roc-Auc</th>\n",
       "      <th>Recall</th>\n",
       "    </tr>\n",
       "  </thead>\n",
       "  <tbody>\n",
       "    <tr>\n",
       "      <th>3</th>\n",
       "      <td>Gaussian Naive Bayes</td>\n",
       "      <td>0.874181</td>\n",
       "      <td>0.782170</td>\n",
       "    </tr>\n",
       "    <tr>\n",
       "      <th>4</th>\n",
       "      <td>Gradient Boosting</td>\n",
       "      <td>0.863696</td>\n",
       "      <td>0.852726</td>\n",
       "    </tr>\n",
       "    <tr>\n",
       "      <th>5</th>\n",
       "      <td>Random Forest</td>\n",
       "      <td>0.845347</td>\n",
       "      <td>0.858844</td>\n",
       "    </tr>\n",
       "    <tr>\n",
       "      <th>0</th>\n",
       "      <td>Logistic Regression</td>\n",
       "      <td>0.845347</td>\n",
       "      <td>0.845347</td>\n",
       "    </tr>\n",
       "    <tr>\n",
       "      <th>2</th>\n",
       "      <td>K-nearest neighbors</td>\n",
       "      <td>0.825688</td>\n",
       "      <td>0.733323</td>\n",
       "    </tr>\n",
       "    <tr>\n",
       "      <th>1</th>\n",
       "      <td>C-Support Vector Classification</td>\n",
       "      <td>0.463958</td>\n",
       "      <td>0.589027</td>\n",
       "    </tr>\n",
       "  </tbody>\n",
       "</table>\n",
       "</div>"
      ],
      "text/plain": [
       "                             Model   Roc-Auc    Recall\n",
       "3             Gaussian Naive Bayes  0.874181  0.782170\n",
       "4                Gradient Boosting  0.863696  0.852726\n",
       "5                    Random Forest  0.845347  0.858844\n",
       "0              Logistic Regression  0.845347  0.845347\n",
       "2              K-nearest neighbors  0.825688  0.733323\n",
       "1  C-Support Vector Classification  0.463958  0.589027"
      ]
     },
     "execution_count": 410,
     "metadata": {},
     "output_type": "execute_result"
    }
   ],
   "source": [
    "independent = dataframe_ml.drop(['Churn'], axis=1) \n",
    "target = dataframe_ml['Churn']\n",
    "\n",
    "X, X_valid, y, y_valid = train_test_split(independent, target, test_size=0.15, random_state=42)\n",
    "\n",
    "X_adasyn, y_adasyn = ADASYN().fit_resample(X, y)\n",
    "X_train, X_test, y_train, y_test = train_test_split(X_adasyn, y_adasyn, test_size=0.2, random_state=42)\n",
    "\n",
    "modeling(X_train, y_train, X_test, y_test)"
   ]
  },
  {
   "cell_type": "markdown",
   "metadata": {},
   "source": [
    "Исключим TotalCharges и используем SMOTE."
   ]
  },
  {
   "cell_type": "code",
   "execution_count": 411,
   "metadata": {},
   "outputs": [
    {
     "data": {
      "text/html": [
       "<div>\n",
       "<style scoped>\n",
       "    .dataframe tbody tr th:only-of-type {\n",
       "        vertical-align: middle;\n",
       "    }\n",
       "\n",
       "    .dataframe tbody tr th {\n",
       "        vertical-align: top;\n",
       "    }\n",
       "\n",
       "    .dataframe thead th {\n",
       "        text-align: right;\n",
       "    }\n",
       "</style>\n",
       "<table border=\"1\" class=\"dataframe\">\n",
       "  <thead>\n",
       "    <tr style=\"text-align: right;\">\n",
       "      <th></th>\n",
       "      <th>Model</th>\n",
       "      <th>Roc-Auc</th>\n",
       "      <th>Recall</th>\n",
       "    </tr>\n",
       "  </thead>\n",
       "  <tbody>\n",
       "    <tr>\n",
       "      <th>2</th>\n",
       "      <td>K-nearest neighbors</td>\n",
       "      <td>0.952639</td>\n",
       "      <td>0.812091</td>\n",
       "    </tr>\n",
       "    <tr>\n",
       "      <th>3</th>\n",
       "      <td>Gaussian Naive Bayes</td>\n",
       "      <td>0.859269</td>\n",
       "      <td>0.770725</td>\n",
       "    </tr>\n",
       "    <tr>\n",
       "      <th>4</th>\n",
       "      <td>Gradient Boosting</td>\n",
       "      <td>0.857916</td>\n",
       "      <td>0.844517</td>\n",
       "    </tr>\n",
       "    <tr>\n",
       "      <th>5</th>\n",
       "      <td>Random Forest</td>\n",
       "      <td>0.847091</td>\n",
       "      <td>0.859051</td>\n",
       "    </tr>\n",
       "    <tr>\n",
       "      <th>0</th>\n",
       "      <td>Logistic Regression</td>\n",
       "      <td>0.836265</td>\n",
       "      <td>0.836265</td>\n",
       "    </tr>\n",
       "    <tr>\n",
       "      <th>1</th>\n",
       "      <td>C-Support Vector Classification</td>\n",
       "      <td>0.803789</td>\n",
       "      <td>0.735006</td>\n",
       "    </tr>\n",
       "  </tbody>\n",
       "</table>\n",
       "</div>"
      ],
      "text/plain": [
       "                             Model   Roc-Auc    Recall\n",
       "2              K-nearest neighbors  0.952639  0.812091\n",
       "3             Gaussian Naive Bayes  0.859269  0.770725\n",
       "4                Gradient Boosting  0.857916  0.844517\n",
       "5                    Random Forest  0.847091  0.859051\n",
       "0              Logistic Regression  0.836265  0.836265\n",
       "1  C-Support Vector Classification  0.803789  0.735006"
      ]
     },
     "execution_count": 411,
     "metadata": {},
     "output_type": "execute_result"
    }
   ],
   "source": [
    "independent = dataframe_ml.drop(['Churn', 'TotalCharges'], axis=1) \n",
    "target = dataframe_ml['Churn']\n",
    "\n",
    "X, X_valid, y, y_valid = train_test_split(independent, target, test_size=0.15, random_state=42)\n",
    "\n",
    "X_adasyn, y_adasyn = ADASYN().fit_resample(X, y)\n",
    "X_train, X_test, y_train, y_test = train_test_split(X_adasyn, y_adasyn, test_size=0.2, random_state=42)\n",
    "\n",
    "modeling(X_train, y_train, X_test, y_test)"
   ]
  },
  {
   "cell_type": "code",
   "execution_count": 412,
   "metadata": {},
   "outputs": [
    {
     "name": "stdout",
     "output_type": "stream",
     "text": [
      "Roc-Auc на валидации для GBC: 0.739, recall: 0.640\n"
     ]
    }
   ],
   "source": [
    "gbc_predictions = gbc.predict(X_valid)\n",
    "gbc_recall = recall_score(y_valid, gbc_predictions)\n",
    "gbc_roc_auc = roc_auc_score(y_valid, gbc_predictions)\n",
    "\n",
    "print('Roc-Auc на валидации для GBC: {:.3f}, recall: {:.3f}'.format(gbc_roc_auc, gbc_recall))"
   ]
  },
  {
   "cell_type": "code",
   "execution_count": 413,
   "metadata": {},
   "outputs": [
    {
     "data": {
      "text/plain": [
       "{'learning_rate': 0.1, 'max_depth': 7, 'n_estimators': 50}"
      ]
     },
     "execution_count": 413,
     "metadata": {},
     "output_type": "execute_result"
    }
   ],
   "source": [
    "# Попробуем произвести настройку параметров через кросс-валидацию и грид-серч\n",
    "\n",
    "independent = dataframe_ml.drop(['Churn', 'TotalCharges'], axis=1) \n",
    "target = dataframe_ml['Churn']\n",
    "\n",
    "X, X_valid, y, y_valid = train_test_split(independent, target, test_size=0.15, random_state=42)\n",
    "\n",
    "X_adasyn, y_adasyn = ADASYN().fit_resample(X, y)\n",
    "X_train, X_test, y_train, y_test = train_test_split(X_adasyn, y_adasyn, test_size=0.2, random_state=42)\n",
    "\n",
    "\n",
    "\n",
    "skf = StratifiedKFold(n_splits=5, random_state=42)\n",
    "gbc_params = {'learning_rate': [0.01, 0.1, 1, 10, 100], 'n_estimators': [10, 50, 100], \n",
    "              'max_depth': range(5, 10)}\n",
    "gbc_grid = GridSearchCV(gbc, gbc_params, cv=skf)\n",
    "gbc_grid1 = gbc_grid.fit(X_train, y_train)\n",
    "gbc_grid1.best_params_\n"
   ]
  },
  {
   "cell_type": "code",
   "execution_count": 436,
   "metadata": {},
   "outputs": [
    {
     "name": "stdout",
     "output_type": "stream",
     "text": [
      "Roc-Auc на валидации для GBC: 0.754, recall: 0.662\n"
     ]
    }
   ],
   "source": [
    "# Используем полученные параметры на модели\n",
    "\n",
    "gbc = GradientBoostingClassifier(learning_rate=0.1,max_depth=6, n_estimators=53, random_state=42)\n",
    "gbc_model = gbc.fit(X_train, y_train)\n",
    "gbc_predictions = gbc.predict(X_valid)\n",
    "gbc_recall = recall_score(y_valid, gbc_predictions)\n",
    "gbc_roc_auc = roc_auc_score(y_valid, gbc_predictions)\n",
    "\n",
    "print('Roc-Auc на валидации для GBC: {:.3f}, recall: {:.3f}'.format(gbc_roc_auc, gbc_recall))"
   ]
  },
  {
   "cell_type": "markdown",
   "metadata": {},
   "source": [
    "## Общие выводы работы:\n"
   ]
  },
  {
   "cell_type": "markdown",
   "metadata": {},
   "source": [
    "По совокупности рассмотренных моделей, их метрик качества и оптимизаций - выбирается модель, построенная **градиентным бустингом** (максимально полученный скор на валидации - **0.75**, что неплохо для первичного построения), дальнейшие исследования возможны с методами кодирования категориальных признаков, тестирования комбинаций признаков, точная настройка параметров выбранного алгоритма."
   ]
  }
 ],
 "metadata": {
  "kernelspec": {
   "display_name": "Python 3",
   "language": "python",
   "name": "python3"
  },
  "language_info": {
   "codemirror_mode": {
    "name": "ipython",
    "version": 3
   },
   "file_extension": ".py",
   "mimetype": "text/x-python",
   "name": "python",
   "nbconvert_exporter": "python",
   "pygments_lexer": "ipython3",
   "version": "3.7.4"
  }
 },
 "nbformat": 4,
 "nbformat_minor": 2
}
